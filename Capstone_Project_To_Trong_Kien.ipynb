{
  "nbformat": 4,
  "nbformat_minor": 0,
  "metadata": {
    "colab": {
      "name": "Capstone Project_To Trong Kien.ipynb",
      "provenance": [],
      "collapsed_sections": [],
      "toc_visible": true,
      "include_colab_link": true
    },
    "kernelspec": {
      "name": "python3",
      "display_name": "Python 3"
    },
    "accelerator": "GPU"
  },
  "cells": [
    {
      "cell_type": "markdown",
      "metadata": {
        "id": "view-in-github",
        "colab_type": "text"
      },
      "source": [
        "<a href=\"https://colab.research.google.com/github/tokien1998/Company_Recommendation_System/blob/master/Capstone_Project_To_Trong_Kien.ipynb\" target=\"_parent\"><img src=\"https://colab.research.google.com/assets/colab-badge.svg\" alt=\"Open In Colab\"/></a>"
      ]
    },
    {
      "cell_type": "markdown",
      "metadata": {
        "id": "Q8ROW3db_byq",
        "colab_type": "text"
      },
      "source": [
        "# Company Peer Discovery using Autoencoder\n",
        "\n",
        "Autoencoders are a neural network used for dimensionality reduction. The neural network learn the latent features of the dataset to transform input features into a compressed representation. \n",
        "\n",
        "It can be used for encoding high dimensionality data to reduce noise and compute the similarity between high dimensionality data points.\n",
        "\n",
        "In this case, we have a list of compnay with their profiles. The problem statement is to find the peer of these companies. \n",
        "\n",
        "Traditionally, we would engage an expert and define ruleset to filter and sort these companies into specific buckets which is rather subjective. It would be prohibitive if the list is long, we have 12,491 companies in this list.\n",
        "\n",
        "We can use autoencoders to encode companies into their latent vector and programmatically search for their peers objectively. Hence, machine learning enabled the discovery of peer companies in a scalable manner.\n",
        "\n",
        "In this project, you will use an autoencoder to encode company profiles and create a machine learning system for peer discovery. You will go through the applied data science journey:\n",
        "\n",
        "Data wrangling >> Machine Learning model training >> Serving machine learning model >> evaluating the effectiveness of the machine learning system.\n",
        "\n",
        "Data file can be downloaded at:\n",
        "https://drive.google.com/file/d/1FrqsCW758NbZgfKbEoCMDDLmf7kUPf2j/view?usp=sharing\n",
        "\n"
      ]
    },
    {
      "cell_type": "markdown",
      "metadata": {
        "id": "9h-NpHl203bY",
        "colab_type": "text"
      },
      "source": [
        "## Adding GPU\n",
        "\n",
        "We can add a GPU by going to the menu and selecting:\n",
        "\n",
        "Edit -> Notebook Settings -> Add accelerator (GPU)\n",
        "\n",
        "Then run the following cell to confirm that the GPU is detected."
      ]
    },
    {
      "cell_type": "code",
      "metadata": {
        "id": "ZoVrYIA3OScW",
        "colab_type": "code",
        "outputId": "17af26df-286d-48e5-e1b8-9113c11e7b6e",
        "colab": {
          "base_uri": "https://localhost:8080/",
          "height": 1000
        }
      },
      "source": [
        "!pip uninstall tensorflow -y\n",
        "!pip install tensorflow-gpu==2.0.0"
      ],
      "execution_count": 1,
      "outputs": [
        {
          "output_type": "stream",
          "text": [
            "Uninstalling tensorflow-1.15.0:\n",
            "  Successfully uninstalled tensorflow-1.15.0\n",
            "Collecting tensorflow-gpu==2.0.0\n",
            "\u001b[?25l  Downloading https://files.pythonhosted.org/packages/25/44/47f0722aea081697143fbcf5d2aa60d1aee4aaacb5869aee2b568974777b/tensorflow_gpu-2.0.0-cp36-cp36m-manylinux2010_x86_64.whl (380.8MB)\n",
            "\u001b[K     |████████████████████████████████| 380.8MB 44kB/s \n",
            "\u001b[?25hRequirement already satisfied: google-pasta>=0.1.6 in /usr/local/lib/python3.6/dist-packages (from tensorflow-gpu==2.0.0) (0.1.8)\n",
            "Requirement already satisfied: keras-applications>=1.0.8 in /usr/local/lib/python3.6/dist-packages (from tensorflow-gpu==2.0.0) (1.0.8)\n",
            "Requirement already satisfied: absl-py>=0.7.0 in /usr/local/lib/python3.6/dist-packages (from tensorflow-gpu==2.0.0) (0.9.0)\n",
            "Requirement already satisfied: astor>=0.6.0 in /usr/local/lib/python3.6/dist-packages (from tensorflow-gpu==2.0.0) (0.8.1)\n",
            "Collecting tensorboard<2.1.0,>=2.0.0\n",
            "\u001b[?25l  Downloading https://files.pythonhosted.org/packages/76/54/99b9d5d52d5cb732f099baaaf7740403e83fe6b0cedde940fabd2b13d75a/tensorboard-2.0.2-py3-none-any.whl (3.8MB)\n",
            "\u001b[K     |████████████████████████████████| 3.8MB 57.9MB/s \n",
            "\u001b[?25hCollecting tensorflow-estimator<2.1.0,>=2.0.0\n",
            "\u001b[?25l  Downloading https://files.pythonhosted.org/packages/fc/08/8b927337b7019c374719145d1dceba21a8bb909b93b1ad6f8fb7d22c1ca1/tensorflow_estimator-2.0.1-py2.py3-none-any.whl (449kB)\n",
            "\u001b[K     |████████████████████████████████| 450kB 53.4MB/s \n",
            "\u001b[?25hRequirement already satisfied: wheel>=0.26 in /usr/local/lib/python3.6/dist-packages (from tensorflow-gpu==2.0.0) (0.33.6)\n",
            "Requirement already satisfied: opt-einsum>=2.3.2 in /usr/local/lib/python3.6/dist-packages (from tensorflow-gpu==2.0.0) (3.1.0)\n",
            "Requirement already satisfied: protobuf>=3.6.1 in /usr/local/lib/python3.6/dist-packages (from tensorflow-gpu==2.0.0) (3.10.0)\n",
            "Requirement already satisfied: numpy<2.0,>=1.16.0 in /usr/local/lib/python3.6/dist-packages (from tensorflow-gpu==2.0.0) (1.17.5)\n",
            "Requirement already satisfied: six>=1.10.0 in /usr/local/lib/python3.6/dist-packages (from tensorflow-gpu==2.0.0) (1.12.0)\n",
            "Requirement already satisfied: keras-preprocessing>=1.0.5 in /usr/local/lib/python3.6/dist-packages (from tensorflow-gpu==2.0.0) (1.1.0)\n",
            "Requirement already satisfied: termcolor>=1.1.0 in /usr/local/lib/python3.6/dist-packages (from tensorflow-gpu==2.0.0) (1.1.0)\n",
            "Requirement already satisfied: gast==0.2.2 in /usr/local/lib/python3.6/dist-packages (from tensorflow-gpu==2.0.0) (0.2.2)\n",
            "Requirement already satisfied: wrapt>=1.11.1 in /usr/local/lib/python3.6/dist-packages (from tensorflow-gpu==2.0.0) (1.11.2)\n",
            "Requirement already satisfied: grpcio>=1.8.6 in /usr/local/lib/python3.6/dist-packages (from tensorflow-gpu==2.0.0) (1.15.0)\n",
            "Requirement already satisfied: h5py in /usr/local/lib/python3.6/dist-packages (from keras-applications>=1.0.8->tensorflow-gpu==2.0.0) (2.8.0)\n",
            "Requirement already satisfied: markdown>=2.6.8 in /usr/local/lib/python3.6/dist-packages (from tensorboard<2.1.0,>=2.0.0->tensorflow-gpu==2.0.0) (3.1.1)\n",
            "Collecting google-auth<2,>=1.6.3\n",
            "\u001b[?25l  Downloading https://files.pythonhosted.org/packages/1c/6d/7aae38a9022f982cf8167775c7fc299f203417b698c27080ce09060bba07/google_auth-1.11.0-py2.py3-none-any.whl (76kB)\n",
            "\u001b[K     |████████████████████████████████| 81kB 12.9MB/s \n",
            "\u001b[?25hRequirement already satisfied: google-auth-oauthlib<0.5,>=0.4.1 in /usr/local/lib/python3.6/dist-packages (from tensorboard<2.1.0,>=2.0.0->tensorflow-gpu==2.0.0) (0.4.1)\n",
            "Requirement already satisfied: werkzeug>=0.11.15 in /usr/local/lib/python3.6/dist-packages (from tensorboard<2.1.0,>=2.0.0->tensorflow-gpu==2.0.0) (0.16.0)\n",
            "Requirement already satisfied: requests<3,>=2.21.0 in /usr/local/lib/python3.6/dist-packages (from tensorboard<2.1.0,>=2.0.0->tensorflow-gpu==2.0.0) (2.21.0)\n",
            "Requirement already satisfied: setuptools>=41.0.0 in /usr/local/lib/python3.6/dist-packages (from tensorboard<2.1.0,>=2.0.0->tensorflow-gpu==2.0.0) (42.0.2)\n",
            "Requirement already satisfied: pyasn1-modules>=0.2.1 in /usr/local/lib/python3.6/dist-packages (from google-auth<2,>=1.6.3->tensorboard<2.1.0,>=2.0.0->tensorflow-gpu==2.0.0) (0.2.7)\n",
            "Requirement already satisfied: rsa<4.1,>=3.1.4 in /usr/local/lib/python3.6/dist-packages (from google-auth<2,>=1.6.3->tensorboard<2.1.0,>=2.0.0->tensorflow-gpu==2.0.0) (4.0)\n",
            "Requirement already satisfied: cachetools<5.0,>=2.0.0 in /usr/local/lib/python3.6/dist-packages (from google-auth<2,>=1.6.3->tensorboard<2.1.0,>=2.0.0->tensorflow-gpu==2.0.0) (4.0.0)\n",
            "Requirement already satisfied: requests-oauthlib>=0.7.0 in /usr/local/lib/python3.6/dist-packages (from google-auth-oauthlib<0.5,>=0.4.1->tensorboard<2.1.0,>=2.0.0->tensorflow-gpu==2.0.0) (1.3.0)\n",
            "Requirement already satisfied: chardet<3.1.0,>=3.0.2 in /usr/local/lib/python3.6/dist-packages (from requests<3,>=2.21.0->tensorboard<2.1.0,>=2.0.0->tensorflow-gpu==2.0.0) (3.0.4)\n",
            "Requirement already satisfied: certifi>=2017.4.17 in /usr/local/lib/python3.6/dist-packages (from requests<3,>=2.21.0->tensorboard<2.1.0,>=2.0.0->tensorflow-gpu==2.0.0) (2019.11.28)\n",
            "Requirement already satisfied: idna<2.9,>=2.5 in /usr/local/lib/python3.6/dist-packages (from requests<3,>=2.21.0->tensorboard<2.1.0,>=2.0.0->tensorflow-gpu==2.0.0) (2.8)\n",
            "Requirement already satisfied: urllib3<1.25,>=1.21.1 in /usr/local/lib/python3.6/dist-packages (from requests<3,>=2.21.0->tensorboard<2.1.0,>=2.0.0->tensorflow-gpu==2.0.0) (1.24.3)\n",
            "Requirement already satisfied: pyasn1<0.5.0,>=0.4.6 in /usr/local/lib/python3.6/dist-packages (from pyasn1-modules>=0.2.1->google-auth<2,>=1.6.3->tensorboard<2.1.0,>=2.0.0->tensorflow-gpu==2.0.0) (0.4.8)\n",
            "Requirement already satisfied: oauthlib>=3.0.0 in /usr/local/lib/python3.6/dist-packages (from requests-oauthlib>=0.7.0->google-auth-oauthlib<0.5,>=0.4.1->tensorboard<2.1.0,>=2.0.0->tensorflow-gpu==2.0.0) (3.1.0)\n",
            "\u001b[31mERROR: tensorboard 2.0.2 has requirement grpcio>=1.24.3, but you'll have grpcio 1.15.0 which is incompatible.\u001b[0m\n",
            "\u001b[31mERROR: google-colab 1.0.0 has requirement google-auth~=1.4.0, but you'll have google-auth 1.11.0 which is incompatible.\u001b[0m\n",
            "Installing collected packages: google-auth, tensorboard, tensorflow-estimator, tensorflow-gpu\n",
            "  Found existing installation: google-auth 1.4.2\n",
            "    Uninstalling google-auth-1.4.2:\n",
            "      Successfully uninstalled google-auth-1.4.2\n",
            "  Found existing installation: tensorboard 1.15.0\n",
            "    Uninstalling tensorboard-1.15.0:\n",
            "      Successfully uninstalled tensorboard-1.15.0\n",
            "  Found existing installation: tensorflow-estimator 1.15.1\n",
            "    Uninstalling tensorflow-estimator-1.15.1:\n",
            "      Successfully uninstalled tensorflow-estimator-1.15.1\n",
            "Successfully installed google-auth-1.11.0 tensorboard-2.0.2 tensorflow-estimator-2.0.1 tensorflow-gpu-2.0.0\n"
          ],
          "name": "stdout"
        },
        {
          "output_type": "display_data",
          "data": {
            "application/vnd.colab-display-data+json": {
              "pip_warning": {
                "packages": [
                  "google"
                ]
              }
            }
          },
          "metadata": {
            "tags": []
          }
        }
      ]
    },
    {
      "cell_type": "markdown",
      "metadata": {
        "id": "9FGMjswsVAWs",
        "colab_type": "text"
      },
      "source": [
        "# Data Cleaning and Encoding"
      ]
    },
    {
      "cell_type": "code",
      "metadata": {
        "colab_type": "code",
        "id": "26gsfoQVDD40",
        "outputId": "b7076d76-2ddd-4feb-ffb4-fff6f7be25fa",
        "colab": {
          "base_uri": "https://localhost:8080/",
          "height": 52
        }
      },
      "source": [
        "import tensorflow as tf\n",
        "print(\"Tensorflow version: {}\".format(tf.__version__))\n",
        "device_name = tf.test.gpu_device_name()\n",
        "\n",
        "if device_name != '/device:GPU:0':\n",
        "  raise SystemError('GPU device not found')\n",
        "print('Found GPU at: {}'.format(device_name))"
      ],
      "execution_count": 2,
      "outputs": [
        {
          "output_type": "stream",
          "text": [
            "Tensorflow version: 2.0.0\n",
            "Found GPU at: /device:GPU:0\n"
          ],
          "name": "stdout"
        }
      ]
    },
    {
      "cell_type": "code",
      "metadata": {
        "id": "u7DLhRhqFONh",
        "colab_type": "code",
        "outputId": "33d99f45-256c-4ddd-d6f6-cf884544b3fc",
        "colab": {
          "base_uri": "https://localhost:8080/",
          "height": 125
        }
      },
      "source": [
        "from google.colab import drive\n",
        "drive.mount('/content/drive')"
      ],
      "execution_count": 3,
      "outputs": [
        {
          "output_type": "stream",
          "text": [
            "Go to this URL in a browser: https://accounts.google.com/o/oauth2/auth?client_id=947318989803-6bn6qk8qdgf4n4g3pfee6491hc0brc4i.apps.googleusercontent.com&redirect_uri=urn%3aietf%3awg%3aoauth%3a2.0%3aoob&response_type=code&scope=email%20https%3a%2f%2fwww.googleapis.com%2fauth%2fdocs.test%20https%3a%2f%2fwww.googleapis.com%2fauth%2fdrive%20https%3a%2f%2fwww.googleapis.com%2fauth%2fdrive.photos.readonly%20https%3a%2f%2fwww.googleapis.com%2fauth%2fpeopleapi.readonly\n",
            "\n",
            "Enter your authorization code:\n",
            "··········\n",
            "Mounted at /content/drive\n"
          ],
          "name": "stdout"
        }
      ]
    },
    {
      "cell_type": "code",
      "metadata": {
        "id": "CXX4ygVnENM6",
        "colab_type": "code",
        "outputId": "4f84db8e-3718-4f1a-f705-6995397c64d5",
        "colab": {
          "resources": {
            "http://localhost:8080/nbextensions/google.colab/files.js": {
              "data": "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",
              "ok": true,
              "headers": [
                [
                  "content-type",
                  "application/javascript"
                ]
              ],
              "status": 200,
              "status_text": ""
            }
          },
          "base_uri": "https://localhost:8080/",
          "height": 91
        }
      },
      "source": [
        "from google.colab import files\n",
        "\n",
        "uploaded = files.upload()\n",
        "\n",
        "for fn in uploaded.keys():\n",
        "  print('User uploaded file \"{name}\" with length {length} bytes'.format(\n",
        "      name=fn, length=len(uploaded[fn])))"
      ],
      "execution_count": 5,
      "outputs": [
        {
          "output_type": "display_data",
          "data": {
            "text/html": [
              "\n",
              "     <input type=\"file\" id=\"files-e79df366-9687-4de3-9b6e-7c3671720678\" name=\"files[]\" multiple disabled />\n",
              "     <output id=\"result-e79df366-9687-4de3-9b6e-7c3671720678\">\n",
              "      Upload widget is only available when the cell has been executed in the\n",
              "      current browser session. Please rerun this cell to enable.\n",
              "      </output>\n",
              "      <script src=\"/nbextensions/google.colab/files.js\"></script> "
            ],
            "text/plain": [
              "<IPython.core.display.HTML object>"
            ]
          },
          "metadata": {
            "tags": []
          }
        },
        {
          "output_type": "stream",
          "text": [
            "Saving data.f to data.f\n",
            "User uploaded file \"data.f\" with length 2068848 bytes\n"
          ],
          "name": "stdout"
        }
      ]
    },
    {
      "cell_type": "markdown",
      "metadata": {
        "id": "nJ3GbJCkHK4M",
        "colab_type": "text"
      },
      "source": [
        "## Read data into dataframe and do some simple cleaning\n"
      ]
    },
    {
      "cell_type": "code",
      "metadata": {
        "id": "4if04PpVHA2a",
        "colab_type": "code",
        "colab": {}
      },
      "source": [
        "import pandas as pd\n",
        "import numpy as np"
      ],
      "execution_count": 0,
      "outputs": []
    },
    {
      "cell_type": "code",
      "metadata": {
        "id": "7GpZ05CYHRwR",
        "colab_type": "code",
        "outputId": "8ab3e42c-a1e4-4578-8db7-13123975c5fa",
        "colab": {
          "base_uri": "https://localhost:8080/",
          "height": 182
        }
      },
      "source": [
        "data_path = 'data.f'\n",
        "raw_df = pd.read_feather(data_path)\n",
        "raw_df.head(3)"
      ],
      "execution_count": 644,
      "outputs": [
        {
          "output_type": "execute_result",
          "data": {
            "text/html": [
              "<div>\n",
              "<style scoped>\n",
              "    .dataframe tbody tr th:only-of-type {\n",
              "        vertical-align: middle;\n",
              "    }\n",
              "\n",
              "    .dataframe tbody tr th {\n",
              "        vertical-align: top;\n",
              "    }\n",
              "\n",
              "    .dataframe thead th {\n",
              "        text-align: right;\n",
              "    }\n",
              "</style>\n",
              "<table border=\"1\" class=\"dataframe\">\n",
              "  <thead>\n",
              "    <tr style=\"text-align: right;\">\n",
              "      <th></th>\n",
              "      <th>index</th>\n",
              "      <th>Country</th>\n",
              "      <th>Country Status</th>\n",
              "      <th>Featured Report?</th>\n",
              "      <th>GOLD Community</th>\n",
              "      <th>Listed/Non-listed</th>\n",
              "      <th>Name</th>\n",
              "      <th>OS</th>\n",
              "      <th>Organization type</th>\n",
              "      <th>Region</th>\n",
              "      <th>Sector</th>\n",
              "      <th>Size</th>\n",
              "      <th>year</th>\n",
              "    </tr>\n",
              "  </thead>\n",
              "  <tbody>\n",
              "    <tr>\n",
              "      <th>0</th>\n",
              "      <td>42434</td>\n",
              "      <td>Italy</td>\n",
              "      <td>OECD</td>\n",
              "      <td>No</td>\n",
              "      <td>No</td>\n",
              "      <td>Listed</td>\n",
              "      <td>Acea</td>\n",
              "      <td>None</td>\n",
              "      <td>Private company</td>\n",
              "      <td>Europe</td>\n",
              "      <td>Energy Utilities</td>\n",
              "      <td>Large</td>\n",
              "      <td>2017,2016,2015,2014,2013,2012,2011,2010,2009,2...</td>\n",
              "    </tr>\n",
              "    <tr>\n",
              "      <th>1</th>\n",
              "      <td>36391</td>\n",
              "      <td>United States of America</td>\n",
              "      <td>OECD</td>\n",
              "      <td>No</td>\n",
              "      <td>No</td>\n",
              "      <td>Listed</td>\n",
              "      <td>Bristol-Myers Squibb Company</td>\n",
              "      <td>None</td>\n",
              "      <td>Private company</td>\n",
              "      <td>Northern America</td>\n",
              "      <td>Healthcare Products</td>\n",
              "      <td>Large</td>\n",
              "      <td>2016,2016,2014,2012,2011,2010,2009,2008,2007,2...</td>\n",
              "    </tr>\n",
              "    <tr>\n",
              "      <th>2</th>\n",
              "      <td>29899</td>\n",
              "      <td>United Kingdom of Great Britain and Northern I...</td>\n",
              "      <td>OECD</td>\n",
              "      <td>No</td>\n",
              "      <td>None</td>\n",
              "      <td>Non-listed</td>\n",
              "      <td>British Airways</td>\n",
              "      <td>No</td>\n",
              "      <td>Subsidiary</td>\n",
              "      <td>Europe</td>\n",
              "      <td>Aviation</td>\n",
              "      <td>Large</td>\n",
              "      <td>2015,2014,2013,2000,1999</td>\n",
              "    </tr>\n",
              "  </tbody>\n",
              "</table>\n",
              "</div>"
            ],
            "text/plain": [
              "   index  ...                                               year\n",
              "0  42434  ...  2017,2016,2015,2014,2013,2012,2011,2010,2009,2...\n",
              "1  36391  ...  2016,2016,2014,2012,2011,2010,2009,2008,2007,2...\n",
              "2  29899  ...                           2015,2014,2013,2000,1999\n",
              "\n",
              "[3 rows x 13 columns]"
            ]
          },
          "metadata": {
            "tags": []
          },
          "execution_count": 644
        }
      ]
    },
    {
      "cell_type": "code",
      "metadata": {
        "id": "i7NtjhRsHjZ1",
        "colab_type": "code",
        "colab": {}
      },
      "source": [
        "#df preprocessing\n",
        "ncols_raw = len(raw_df.columns)\n",
        "\n",
        "#drop duplicate index\n",
        "raw_df.drop(raw_df.columns[0], axis=1, inplace=True)\n",
        "raw_df.drop(labels=['year', 'Name', 'OS'], axis=1, inplace=True)\n",
        "raw_df.replace(to_replace=[None], value=np.nan, inplace=True)"
      ],
      "execution_count": 0,
      "outputs": []
    },
    {
      "cell_type": "code",
      "metadata": {
        "id": "YZ2dLyLMHa9j",
        "colab_type": "code",
        "outputId": "05236e2c-c3dd-434b-b079-6a286f93cb7a",
        "colab": {
          "base_uri": "https://localhost:8080/",
          "height": 133
        }
      },
      "source": [
        "raw_df.head(3)"
      ],
      "execution_count": 646,
      "outputs": [
        {
          "output_type": "execute_result",
          "data": {
            "text/html": [
              "<div>\n",
              "<style scoped>\n",
              "    .dataframe tbody tr th:only-of-type {\n",
              "        vertical-align: middle;\n",
              "    }\n",
              "\n",
              "    .dataframe tbody tr th {\n",
              "        vertical-align: top;\n",
              "    }\n",
              "\n",
              "    .dataframe thead th {\n",
              "        text-align: right;\n",
              "    }\n",
              "</style>\n",
              "<table border=\"1\" class=\"dataframe\">\n",
              "  <thead>\n",
              "    <tr style=\"text-align: right;\">\n",
              "      <th></th>\n",
              "      <th>Country</th>\n",
              "      <th>Country Status</th>\n",
              "      <th>Featured Report?</th>\n",
              "      <th>GOLD Community</th>\n",
              "      <th>Listed/Non-listed</th>\n",
              "      <th>Organization type</th>\n",
              "      <th>Region</th>\n",
              "      <th>Sector</th>\n",
              "      <th>Size</th>\n",
              "    </tr>\n",
              "  </thead>\n",
              "  <tbody>\n",
              "    <tr>\n",
              "      <th>0</th>\n",
              "      <td>Italy</td>\n",
              "      <td>OECD</td>\n",
              "      <td>No</td>\n",
              "      <td>No</td>\n",
              "      <td>Listed</td>\n",
              "      <td>Private company</td>\n",
              "      <td>Europe</td>\n",
              "      <td>Energy Utilities</td>\n",
              "      <td>Large</td>\n",
              "    </tr>\n",
              "    <tr>\n",
              "      <th>1</th>\n",
              "      <td>United States of America</td>\n",
              "      <td>OECD</td>\n",
              "      <td>No</td>\n",
              "      <td>No</td>\n",
              "      <td>Listed</td>\n",
              "      <td>Private company</td>\n",
              "      <td>Northern America</td>\n",
              "      <td>Healthcare Products</td>\n",
              "      <td>Large</td>\n",
              "    </tr>\n",
              "    <tr>\n",
              "      <th>2</th>\n",
              "      <td>United Kingdom of Great Britain and Northern I...</td>\n",
              "      <td>OECD</td>\n",
              "      <td>No</td>\n",
              "      <td>NaN</td>\n",
              "      <td>Non-listed</td>\n",
              "      <td>Subsidiary</td>\n",
              "      <td>Europe</td>\n",
              "      <td>Aviation</td>\n",
              "      <td>Large</td>\n",
              "    </tr>\n",
              "  </tbody>\n",
              "</table>\n",
              "</div>"
            ],
            "text/plain": [
              "                                             Country  ...   Size\n",
              "0                                              Italy  ...  Large\n",
              "1                           United States of America  ...  Large\n",
              "2  United Kingdom of Great Britain and Northern I...  ...  Large\n",
              "\n",
              "[3 rows x 9 columns]"
            ]
          },
          "metadata": {
            "tags": []
          },
          "execution_count": 646
        }
      ]
    },
    {
      "cell_type": "code",
      "metadata": {
        "id": "q6c2Ht07Hcwx",
        "colab_type": "code",
        "outputId": "1f49900c-b1b9-4163-d401-afc48fbb6ff9",
        "colab": {
          "base_uri": "https://localhost:8080/",
          "height": 70
        }
      },
      "source": [
        "#find columns that has na\n",
        "raw_df.columns[raw_df.isna().any()]"
      ],
      "execution_count": 647,
      "outputs": [
        {
          "output_type": "execute_result",
          "data": {
            "text/plain": [
              "Index(['Featured Report?', 'GOLD Community', 'Listed/Non-listed',\n",
              "       'Organization type', 'Size'],\n",
              "      dtype='object')"
            ]
          },
          "metadata": {
            "tags": []
          },
          "execution_count": 647
        }
      ]
    },
    {
      "cell_type": "code",
      "metadata": {
        "id": "R-lcoq7fS3V8",
        "colab_type": "code",
        "outputId": "a893bf5b-2440-4174-89ba-85aeb5ed697b",
        "colab": {
          "base_uri": "https://localhost:8080/",
          "height": 162
        }
      },
      "source": [
        "raw_df.describe()"
      ],
      "execution_count": 648,
      "outputs": [
        {
          "output_type": "execute_result",
          "data": {
            "text/html": [
              "<div>\n",
              "<style scoped>\n",
              "    .dataframe tbody tr th:only-of-type {\n",
              "        vertical-align: middle;\n",
              "    }\n",
              "\n",
              "    .dataframe tbody tr th {\n",
              "        vertical-align: top;\n",
              "    }\n",
              "\n",
              "    .dataframe thead th {\n",
              "        text-align: right;\n",
              "    }\n",
              "</style>\n",
              "<table border=\"1\" class=\"dataframe\">\n",
              "  <thead>\n",
              "    <tr style=\"text-align: right;\">\n",
              "      <th></th>\n",
              "      <th>Country</th>\n",
              "      <th>Country Status</th>\n",
              "      <th>Featured Report?</th>\n",
              "      <th>GOLD Community</th>\n",
              "      <th>Listed/Non-listed</th>\n",
              "      <th>Organization type</th>\n",
              "      <th>Region</th>\n",
              "      <th>Sector</th>\n",
              "      <th>Size</th>\n",
              "    </tr>\n",
              "  </thead>\n",
              "  <tbody>\n",
              "    <tr>\n",
              "      <th>count</th>\n",
              "      <td>12491</td>\n",
              "      <td>12491</td>\n",
              "      <td>9802</td>\n",
              "      <td>9114</td>\n",
              "      <td>11833</td>\n",
              "      <td>11730</td>\n",
              "      <td>12491</td>\n",
              "      <td>12491</td>\n",
              "      <td>12458</td>\n",
              "    </tr>\n",
              "    <tr>\n",
              "      <th>unique</th>\n",
              "      <td>130</td>\n",
              "      <td>6</td>\n",
              "      <td>2</td>\n",
              "      <td>2</td>\n",
              "      <td>3</td>\n",
              "      <td>7</td>\n",
              "      <td>6</td>\n",
              "      <td>39</td>\n",
              "      <td>3</td>\n",
              "    </tr>\n",
              "    <tr>\n",
              "      <th>top</th>\n",
              "      <td>Mainland China</td>\n",
              "      <td>OECD</td>\n",
              "      <td>No</td>\n",
              "      <td>No</td>\n",
              "      <td>Listed</td>\n",
              "      <td>Private company</td>\n",
              "      <td>Asia</td>\n",
              "      <td>Financial Services</td>\n",
              "      <td>Large</td>\n",
              "    </tr>\n",
              "    <tr>\n",
              "      <th>freq</th>\n",
              "      <td>1337</td>\n",
              "      <td>6392</td>\n",
              "      <td>9788</td>\n",
              "      <td>8897</td>\n",
              "      <td>7018</td>\n",
              "      <td>8423</td>\n",
              "      <td>4488</td>\n",
              "      <td>1481</td>\n",
              "      <td>7468</td>\n",
              "    </tr>\n",
              "  </tbody>\n",
              "</table>\n",
              "</div>"
            ],
            "text/plain": [
              "               Country Country Status  ...              Sector   Size\n",
              "count            12491          12491  ...               12491  12458\n",
              "unique             130              6  ...                  39      3\n",
              "top     Mainland China           OECD  ...  Financial Services  Large\n",
              "freq              1337           6392  ...                1481   7468\n",
              "\n",
              "[4 rows x 9 columns]"
            ]
          },
          "metadata": {
            "tags": []
          },
          "execution_count": 648
        }
      ]
    },
    {
      "cell_type": "code",
      "metadata": {
        "id": "h_0zoDWYIX8f",
        "colab_type": "code",
        "colab": {}
      },
      "source": [
        "#fill na with majorituy category\n",
        "raw_df.fillna({'Featured Report?':'No', \\\n",
        "               'GOLD Community': 'No', \\\n",
        "               'Listed/Non-listed': 'Listed', \\\n",
        "               'OS':'No', \\\n",
        "               'Organization type': 'Private Company', \n",
        "               'Size': 'Large'}, inplace=True)"
      ],
      "execution_count": 0,
      "outputs": []
    },
    {
      "cell_type": "code",
      "metadata": {
        "id": "k87tBFE9Unmm",
        "colab_type": "code",
        "outputId": "aba6f54a-45cf-4f79-aa56-1d2886d772af",
        "colab": {
          "base_uri": "https://localhost:8080/",
          "height": 35
        }
      },
      "source": [
        "n_countries = raw_df[raw_df.columns[0]].unique().size\n",
        "print(\"Total number of countries: {}\".format(n_countries))"
      ],
      "execution_count": 650,
      "outputs": [
        {
          "output_type": "stream",
          "text": [
            "Total number of countries: 130\n"
          ],
          "name": "stdout"
        }
      ]
    },
    {
      "cell_type": "code",
      "metadata": {
        "id": "1k57AGNLVJjJ",
        "colab_type": "code",
        "colab": {}
      },
      "source": [
        "data_clean = raw_df.loc[:, 'Country Status':'Size'].copy()\n",
        "countries = raw_df.loc[:, 'Country'].unique()"
      ],
      "execution_count": 0,
      "outputs": []
    },
    {
      "cell_type": "markdown",
      "metadata": {
        "id": "7Jd0z2i3z_Ci",
        "colab_type": "text"
      },
      "source": [
        "## Encode data"
      ]
    },
    {
      "cell_type": "code",
      "metadata": {
        "id": "YdwH0HapX4Fv",
        "colab_type": "code",
        "colab": {}
      },
      "source": [
        "#Creates feature tokens for each feature (Hot-One-Encoding)\n",
        "features_dataframe = data_clean.copy()\n",
        "for feature in data_clean.columns:\n",
        "      dfDummies = pd.get_dummies(data_clean[feature], prefix = feature)\n",
        "      features_dataframe = pd.concat([features_dataframe, dfDummies], axis=1)"
      ],
      "execution_count": 0,
      "outputs": []
    },
    {
      "cell_type": "code",
      "metadata": {
        "id": "MOpT-uet1i4v",
        "colab_type": "code",
        "outputId": "0c5d2c1a-78ef-4837-cfee-5d7e1250ace6",
        "colab": {
          "base_uri": "https://localhost:8080/",
          "height": 235
        }
      },
      "source": [
        "features_dataframe.head(3)"
      ],
      "execution_count": 653,
      "outputs": [
        {
          "output_type": "execute_result",
          "data": {
            "text/html": [
              "<div>\n",
              "<style scoped>\n",
              "    .dataframe tbody tr th:only-of-type {\n",
              "        vertical-align: middle;\n",
              "    }\n",
              "\n",
              "    .dataframe tbody tr th {\n",
              "        vertical-align: top;\n",
              "    }\n",
              "\n",
              "    .dataframe thead th {\n",
              "        text-align: right;\n",
              "    }\n",
              "</style>\n",
              "<table border=\"1\" class=\"dataframe\">\n",
              "  <thead>\n",
              "    <tr style=\"text-align: right;\">\n",
              "      <th></th>\n",
              "      <th>Country Status</th>\n",
              "      <th>Featured Report?</th>\n",
              "      <th>GOLD Community</th>\n",
              "      <th>Listed/Non-listed</th>\n",
              "      <th>Organization type</th>\n",
              "      <th>Region</th>\n",
              "      <th>Sector</th>\n",
              "      <th>Size</th>\n",
              "      <th>Country Status_DAC-LDC</th>\n",
              "      <th>Country Status_DAC-LMICT</th>\n",
              "      <th>Country Status_DAC-OLIC</th>\n",
              "      <th>Country Status_DAC-UMICT</th>\n",
              "      <th>Country Status_Non-OECD / Non-DAC</th>\n",
              "      <th>Country Status_OECD</th>\n",
              "      <th>Featured Report?_No</th>\n",
              "      <th>Featured Report?_Yes</th>\n",
              "      <th>GOLD Community_No</th>\n",
              "      <th>GOLD Community_Yes</th>\n",
              "      <th>Listed/Non-listed_Listed</th>\n",
              "      <th>Listed/Non-listed_Non-listed</th>\n",
              "      <th>Listed/Non-listed_Not applicable</th>\n",
              "      <th>Organization type_Cooperative</th>\n",
              "      <th>Organization type_Non-profit organization</th>\n",
              "      <th>Organization type_Partnership</th>\n",
              "      <th>Organization type_Private Company</th>\n",
              "      <th>Organization type_Private company</th>\n",
              "      <th>Organization type_Public institution</th>\n",
              "      <th>Organization type_State-owned company</th>\n",
              "      <th>Organization type_Subsidiary</th>\n",
              "      <th>Region_Africa</th>\n",
              "      <th>Region_Asia</th>\n",
              "      <th>Region_Europe</th>\n",
              "      <th>Region_Latin America &amp; the Caribbean</th>\n",
              "      <th>Region_Northern America</th>\n",
              "      <th>Region_Oceania</th>\n",
              "      <th>Sector_=</th>\n",
              "      <th>Sector_Agriculture</th>\n",
              "      <th>Sector_Automotive</th>\n",
              "      <th>Sector_Aviation</th>\n",
              "      <th>Sector_Chemicals</th>\n",
              "      <th>Sector_Commercial Services</th>\n",
              "      <th>Sector_Computers</th>\n",
              "      <th>Sector_Conglomerates</th>\n",
              "      <th>Sector_Construction</th>\n",
              "      <th>Sector_Construction Materials</th>\n",
              "      <th>Sector_Consumer Durables</th>\n",
              "      <th>Sector_Energy</th>\n",
              "      <th>Sector_Energy Utilities</th>\n",
              "      <th>Sector_Equipment</th>\n",
              "      <th>Sector_Financial Services</th>\n",
              "      <th>Sector_Food and Beverage Products</th>\n",
              "      <th>Sector_Forest and Paper Products</th>\n",
              "      <th>Sector_Healthcare Products</th>\n",
              "      <th>Sector_Healthcare Services</th>\n",
              "      <th>Sector_Household and Personal Products</th>\n",
              "      <th>Sector_Logistics</th>\n",
              "      <th>Sector_Media</th>\n",
              "      <th>Sector_Metals Products</th>\n",
              "      <th>Sector_Mining</th>\n",
              "      <th>Sector_Non-Profit / Services</th>\n",
              "      <th>Sector_Other</th>\n",
              "      <th>Sector_Public Agency</th>\n",
              "      <th>Sector_Railroad</th>\n",
              "      <th>Sector_Real Estate</th>\n",
              "      <th>Sector_Retailers</th>\n",
              "      <th>Sector_Technology Hardware</th>\n",
              "      <th>Sector_Telecommunications</th>\n",
              "      <th>Sector_Textiles and Apparel</th>\n",
              "      <th>Sector_Tobacco</th>\n",
              "      <th>Sector_Tourism/Leisure</th>\n",
              "      <th>Sector_Toys</th>\n",
              "      <th>Sector_Universities</th>\n",
              "      <th>Sector_Waste Management</th>\n",
              "      <th>Sector_Water Utilities</th>\n",
              "      <th>Size_Large</th>\n",
              "      <th>Size_MNE</th>\n",
              "      <th>Size_SME</th>\n",
              "    </tr>\n",
              "  </thead>\n",
              "  <tbody>\n",
              "    <tr>\n",
              "      <th>0</th>\n",
              "      <td>OECD</td>\n",
              "      <td>No</td>\n",
              "      <td>No</td>\n",
              "      <td>Listed</td>\n",
              "      <td>Private company</td>\n",
              "      <td>Europe</td>\n",
              "      <td>Energy Utilities</td>\n",
              "      <td>Large</td>\n",
              "      <td>0</td>\n",
              "      <td>0</td>\n",
              "      <td>0</td>\n",
              "      <td>0</td>\n",
              "      <td>0</td>\n",
              "      <td>1</td>\n",
              "      <td>1</td>\n",
              "      <td>0</td>\n",
              "      <td>1</td>\n",
              "      <td>0</td>\n",
              "      <td>1</td>\n",
              "      <td>0</td>\n",
              "      <td>0</td>\n",
              "      <td>0</td>\n",
              "      <td>0</td>\n",
              "      <td>0</td>\n",
              "      <td>0</td>\n",
              "      <td>1</td>\n",
              "      <td>0</td>\n",
              "      <td>0</td>\n",
              "      <td>0</td>\n",
              "      <td>0</td>\n",
              "      <td>0</td>\n",
              "      <td>1</td>\n",
              "      <td>0</td>\n",
              "      <td>0</td>\n",
              "      <td>0</td>\n",
              "      <td>0</td>\n",
              "      <td>0</td>\n",
              "      <td>0</td>\n",
              "      <td>0</td>\n",
              "      <td>0</td>\n",
              "      <td>0</td>\n",
              "      <td>0</td>\n",
              "      <td>0</td>\n",
              "      <td>0</td>\n",
              "      <td>0</td>\n",
              "      <td>0</td>\n",
              "      <td>0</td>\n",
              "      <td>1</td>\n",
              "      <td>0</td>\n",
              "      <td>0</td>\n",
              "      <td>0</td>\n",
              "      <td>0</td>\n",
              "      <td>0</td>\n",
              "      <td>0</td>\n",
              "      <td>0</td>\n",
              "      <td>0</td>\n",
              "      <td>0</td>\n",
              "      <td>0</td>\n",
              "      <td>0</td>\n",
              "      <td>0</td>\n",
              "      <td>0</td>\n",
              "      <td>0</td>\n",
              "      <td>0</td>\n",
              "      <td>0</td>\n",
              "      <td>0</td>\n",
              "      <td>0</td>\n",
              "      <td>0</td>\n",
              "      <td>0</td>\n",
              "      <td>0</td>\n",
              "      <td>0</td>\n",
              "      <td>0</td>\n",
              "      <td>0</td>\n",
              "      <td>0</td>\n",
              "      <td>0</td>\n",
              "      <td>1</td>\n",
              "      <td>0</td>\n",
              "      <td>0</td>\n",
              "    </tr>\n",
              "    <tr>\n",
              "      <th>1</th>\n",
              "      <td>OECD</td>\n",
              "      <td>No</td>\n",
              "      <td>No</td>\n",
              "      <td>Listed</td>\n",
              "      <td>Private company</td>\n",
              "      <td>Northern America</td>\n",
              "      <td>Healthcare Products</td>\n",
              "      <td>Large</td>\n",
              "      <td>0</td>\n",
              "      <td>0</td>\n",
              "      <td>0</td>\n",
              "      <td>0</td>\n",
              "      <td>0</td>\n",
              "      <td>1</td>\n",
              "      <td>1</td>\n",
              "      <td>0</td>\n",
              "      <td>1</td>\n",
              "      <td>0</td>\n",
              "      <td>1</td>\n",
              "      <td>0</td>\n",
              "      <td>0</td>\n",
              "      <td>0</td>\n",
              "      <td>0</td>\n",
              "      <td>0</td>\n",
              "      <td>0</td>\n",
              "      <td>1</td>\n",
              "      <td>0</td>\n",
              "      <td>0</td>\n",
              "      <td>0</td>\n",
              "      <td>0</td>\n",
              "      <td>0</td>\n",
              "      <td>0</td>\n",
              "      <td>0</td>\n",
              "      <td>1</td>\n",
              "      <td>0</td>\n",
              "      <td>0</td>\n",
              "      <td>0</td>\n",
              "      <td>0</td>\n",
              "      <td>0</td>\n",
              "      <td>0</td>\n",
              "      <td>0</td>\n",
              "      <td>0</td>\n",
              "      <td>0</td>\n",
              "      <td>0</td>\n",
              "      <td>0</td>\n",
              "      <td>0</td>\n",
              "      <td>0</td>\n",
              "      <td>0</td>\n",
              "      <td>0</td>\n",
              "      <td>0</td>\n",
              "      <td>0</td>\n",
              "      <td>0</td>\n",
              "      <td>1</td>\n",
              "      <td>0</td>\n",
              "      <td>0</td>\n",
              "      <td>0</td>\n",
              "      <td>0</td>\n",
              "      <td>0</td>\n",
              "      <td>0</td>\n",
              "      <td>0</td>\n",
              "      <td>0</td>\n",
              "      <td>0</td>\n",
              "      <td>0</td>\n",
              "      <td>0</td>\n",
              "      <td>0</td>\n",
              "      <td>0</td>\n",
              "      <td>0</td>\n",
              "      <td>0</td>\n",
              "      <td>0</td>\n",
              "      <td>0</td>\n",
              "      <td>0</td>\n",
              "      <td>0</td>\n",
              "      <td>0</td>\n",
              "      <td>0</td>\n",
              "      <td>1</td>\n",
              "      <td>0</td>\n",
              "      <td>0</td>\n",
              "    </tr>\n",
              "    <tr>\n",
              "      <th>2</th>\n",
              "      <td>OECD</td>\n",
              "      <td>No</td>\n",
              "      <td>No</td>\n",
              "      <td>Non-listed</td>\n",
              "      <td>Subsidiary</td>\n",
              "      <td>Europe</td>\n",
              "      <td>Aviation</td>\n",
              "      <td>Large</td>\n",
              "      <td>0</td>\n",
              "      <td>0</td>\n",
              "      <td>0</td>\n",
              "      <td>0</td>\n",
              "      <td>0</td>\n",
              "      <td>1</td>\n",
              "      <td>1</td>\n",
              "      <td>0</td>\n",
              "      <td>1</td>\n",
              "      <td>0</td>\n",
              "      <td>0</td>\n",
              "      <td>1</td>\n",
              "      <td>0</td>\n",
              "      <td>0</td>\n",
              "      <td>0</td>\n",
              "      <td>0</td>\n",
              "      <td>0</td>\n",
              "      <td>0</td>\n",
              "      <td>0</td>\n",
              "      <td>0</td>\n",
              "      <td>1</td>\n",
              "      <td>0</td>\n",
              "      <td>0</td>\n",
              "      <td>1</td>\n",
              "      <td>0</td>\n",
              "      <td>0</td>\n",
              "      <td>0</td>\n",
              "      <td>0</td>\n",
              "      <td>0</td>\n",
              "      <td>0</td>\n",
              "      <td>1</td>\n",
              "      <td>0</td>\n",
              "      <td>0</td>\n",
              "      <td>0</td>\n",
              "      <td>0</td>\n",
              "      <td>0</td>\n",
              "      <td>0</td>\n",
              "      <td>0</td>\n",
              "      <td>0</td>\n",
              "      <td>0</td>\n",
              "      <td>0</td>\n",
              "      <td>0</td>\n",
              "      <td>0</td>\n",
              "      <td>0</td>\n",
              "      <td>0</td>\n",
              "      <td>0</td>\n",
              "      <td>0</td>\n",
              "      <td>0</td>\n",
              "      <td>0</td>\n",
              "      <td>0</td>\n",
              "      <td>0</td>\n",
              "      <td>0</td>\n",
              "      <td>0</td>\n",
              "      <td>0</td>\n",
              "      <td>0</td>\n",
              "      <td>0</td>\n",
              "      <td>0</td>\n",
              "      <td>0</td>\n",
              "      <td>0</td>\n",
              "      <td>0</td>\n",
              "      <td>0</td>\n",
              "      <td>0</td>\n",
              "      <td>0</td>\n",
              "      <td>0</td>\n",
              "      <td>0</td>\n",
              "      <td>0</td>\n",
              "      <td>1</td>\n",
              "      <td>0</td>\n",
              "      <td>0</td>\n",
              "    </tr>\n",
              "  </tbody>\n",
              "</table>\n",
              "</div>"
            ],
            "text/plain": [
              "  Country Status Featured Report?  ... Size_MNE Size_SME\n",
              "0           OECD               No  ...        0        0\n",
              "1           OECD               No  ...        0        0\n",
              "2           OECD               No  ...        0        0\n",
              "\n",
              "[3 rows x 77 columns]"
            ]
          },
          "metadata": {
            "tags": []
          },
          "execution_count": 653
        }
      ]
    },
    {
      "cell_type": "code",
      "metadata": {
        "id": "OcRMqW1G2kec",
        "colab_type": "code",
        "outputId": "e24a9829-557e-47ec-a208-86fc484cef9d",
        "colab": {
          "base_uri": "https://localhost:8080/",
          "height": 52
        }
      },
      "source": [
        "ncolumns_data = len(data_clean.columns) \n",
        "ncolumns_code = len(features_dataframe.columns) - ncolumns_data\n",
        "\n",
        "print(\"Original data columns: {}\".format(ncolumns_data))\n",
        "print(\"Encoding columns: {}\".format(ncolumns_code))"
      ],
      "execution_count": 654,
      "outputs": [
        {
          "output_type": "stream",
          "text": [
            "Original data columns: 8\n",
            "Encoding columns: 69\n"
          ],
          "name": "stdout"
        }
      ]
    },
    {
      "cell_type": "code",
      "metadata": {
        "id": "DaVH7boE3v5q",
        "colab_type": "code",
        "colab": {}
      },
      "source": [
        "# Removes encoding from the list of variables, the operation \n",
        "code_columns = list(features_dataframe.columns)[ncolumns_data:]"
      ],
      "execution_count": 0,
      "outputs": []
    },
    {
      "cell_type": "code",
      "metadata": {
        "id": "l0VtfM_q3VkM",
        "colab_type": "code",
        "colab": {}
      },
      "source": [
        "# Takes only the columns which have been one-hot-encoded\n",
        "training_df = features_dataframe[code_columns].copy() "
      ],
      "execution_count": 0,
      "outputs": []
    },
    {
      "cell_type": "code",
      "metadata": {
        "id": "DPfrdt0D4zri",
        "colab_type": "code",
        "outputId": "0fe95f86-dfbc-4b0a-a73d-7756512599b1",
        "colab": {
          "base_uri": "https://localhost:8080/",
          "height": 173
        }
      },
      "source": [
        "training_df.head(2)"
      ],
      "execution_count": 657,
      "outputs": [
        {
          "output_type": "execute_result",
          "data": {
            "text/html": [
              "<div>\n",
              "<style scoped>\n",
              "    .dataframe tbody tr th:only-of-type {\n",
              "        vertical-align: middle;\n",
              "    }\n",
              "\n",
              "    .dataframe tbody tr th {\n",
              "        vertical-align: top;\n",
              "    }\n",
              "\n",
              "    .dataframe thead th {\n",
              "        text-align: right;\n",
              "    }\n",
              "</style>\n",
              "<table border=\"1\" class=\"dataframe\">\n",
              "  <thead>\n",
              "    <tr style=\"text-align: right;\">\n",
              "      <th></th>\n",
              "      <th>Country Status_DAC-LDC</th>\n",
              "      <th>Country Status_DAC-LMICT</th>\n",
              "      <th>Country Status_DAC-OLIC</th>\n",
              "      <th>Country Status_DAC-UMICT</th>\n",
              "      <th>Country Status_Non-OECD / Non-DAC</th>\n",
              "      <th>Country Status_OECD</th>\n",
              "      <th>Featured Report?_No</th>\n",
              "      <th>Featured Report?_Yes</th>\n",
              "      <th>GOLD Community_No</th>\n",
              "      <th>GOLD Community_Yes</th>\n",
              "      <th>Listed/Non-listed_Listed</th>\n",
              "      <th>Listed/Non-listed_Non-listed</th>\n",
              "      <th>Listed/Non-listed_Not applicable</th>\n",
              "      <th>Organization type_Cooperative</th>\n",
              "      <th>Organization type_Non-profit organization</th>\n",
              "      <th>Organization type_Partnership</th>\n",
              "      <th>Organization type_Private Company</th>\n",
              "      <th>Organization type_Private company</th>\n",
              "      <th>Organization type_Public institution</th>\n",
              "      <th>Organization type_State-owned company</th>\n",
              "      <th>Organization type_Subsidiary</th>\n",
              "      <th>Region_Africa</th>\n",
              "      <th>Region_Asia</th>\n",
              "      <th>Region_Europe</th>\n",
              "      <th>Region_Latin America &amp; the Caribbean</th>\n",
              "      <th>Region_Northern America</th>\n",
              "      <th>Region_Oceania</th>\n",
              "      <th>Sector_=</th>\n",
              "      <th>Sector_Agriculture</th>\n",
              "      <th>Sector_Automotive</th>\n",
              "      <th>Sector_Aviation</th>\n",
              "      <th>Sector_Chemicals</th>\n",
              "      <th>Sector_Commercial Services</th>\n",
              "      <th>Sector_Computers</th>\n",
              "      <th>Sector_Conglomerates</th>\n",
              "      <th>Sector_Construction</th>\n",
              "      <th>Sector_Construction Materials</th>\n",
              "      <th>Sector_Consumer Durables</th>\n",
              "      <th>Sector_Energy</th>\n",
              "      <th>Sector_Energy Utilities</th>\n",
              "      <th>Sector_Equipment</th>\n",
              "      <th>Sector_Financial Services</th>\n",
              "      <th>Sector_Food and Beverage Products</th>\n",
              "      <th>Sector_Forest and Paper Products</th>\n",
              "      <th>Sector_Healthcare Products</th>\n",
              "      <th>Sector_Healthcare Services</th>\n",
              "      <th>Sector_Household and Personal Products</th>\n",
              "      <th>Sector_Logistics</th>\n",
              "      <th>Sector_Media</th>\n",
              "      <th>Sector_Metals Products</th>\n",
              "      <th>Sector_Mining</th>\n",
              "      <th>Sector_Non-Profit / Services</th>\n",
              "      <th>Sector_Other</th>\n",
              "      <th>Sector_Public Agency</th>\n",
              "      <th>Sector_Railroad</th>\n",
              "      <th>Sector_Real Estate</th>\n",
              "      <th>Sector_Retailers</th>\n",
              "      <th>Sector_Technology Hardware</th>\n",
              "      <th>Sector_Telecommunications</th>\n",
              "      <th>Sector_Textiles and Apparel</th>\n",
              "      <th>Sector_Tobacco</th>\n",
              "      <th>Sector_Tourism/Leisure</th>\n",
              "      <th>Sector_Toys</th>\n",
              "      <th>Sector_Universities</th>\n",
              "      <th>Sector_Waste Management</th>\n",
              "      <th>Sector_Water Utilities</th>\n",
              "      <th>Size_Large</th>\n",
              "      <th>Size_MNE</th>\n",
              "      <th>Size_SME</th>\n",
              "    </tr>\n",
              "  </thead>\n",
              "  <tbody>\n",
              "    <tr>\n",
              "      <th>0</th>\n",
              "      <td>0</td>\n",
              "      <td>0</td>\n",
              "      <td>0</td>\n",
              "      <td>0</td>\n",
              "      <td>0</td>\n",
              "      <td>1</td>\n",
              "      <td>1</td>\n",
              "      <td>0</td>\n",
              "      <td>1</td>\n",
              "      <td>0</td>\n",
              "      <td>1</td>\n",
              "      <td>0</td>\n",
              "      <td>0</td>\n",
              "      <td>0</td>\n",
              "      <td>0</td>\n",
              "      <td>0</td>\n",
              "      <td>0</td>\n",
              "      <td>1</td>\n",
              "      <td>0</td>\n",
              "      <td>0</td>\n",
              "      <td>0</td>\n",
              "      <td>0</td>\n",
              "      <td>0</td>\n",
              "      <td>1</td>\n",
              "      <td>0</td>\n",
              "      <td>0</td>\n",
              "      <td>0</td>\n",
              "      <td>0</td>\n",
              "      <td>0</td>\n",
              "      <td>0</td>\n",
              "      <td>0</td>\n",
              "      <td>0</td>\n",
              "      <td>0</td>\n",
              "      <td>0</td>\n",
              "      <td>0</td>\n",
              "      <td>0</td>\n",
              "      <td>0</td>\n",
              "      <td>0</td>\n",
              "      <td>0</td>\n",
              "      <td>1</td>\n",
              "      <td>0</td>\n",
              "      <td>0</td>\n",
              "      <td>0</td>\n",
              "      <td>0</td>\n",
              "      <td>0</td>\n",
              "      <td>0</td>\n",
              "      <td>0</td>\n",
              "      <td>0</td>\n",
              "      <td>0</td>\n",
              "      <td>0</td>\n",
              "      <td>0</td>\n",
              "      <td>0</td>\n",
              "      <td>0</td>\n",
              "      <td>0</td>\n",
              "      <td>0</td>\n",
              "      <td>0</td>\n",
              "      <td>0</td>\n",
              "      <td>0</td>\n",
              "      <td>0</td>\n",
              "      <td>0</td>\n",
              "      <td>0</td>\n",
              "      <td>0</td>\n",
              "      <td>0</td>\n",
              "      <td>0</td>\n",
              "      <td>0</td>\n",
              "      <td>0</td>\n",
              "      <td>1</td>\n",
              "      <td>0</td>\n",
              "      <td>0</td>\n",
              "    </tr>\n",
              "    <tr>\n",
              "      <th>1</th>\n",
              "      <td>0</td>\n",
              "      <td>0</td>\n",
              "      <td>0</td>\n",
              "      <td>0</td>\n",
              "      <td>0</td>\n",
              "      <td>1</td>\n",
              "      <td>1</td>\n",
              "      <td>0</td>\n",
              "      <td>1</td>\n",
              "      <td>0</td>\n",
              "      <td>1</td>\n",
              "      <td>0</td>\n",
              "      <td>0</td>\n",
              "      <td>0</td>\n",
              "      <td>0</td>\n",
              "      <td>0</td>\n",
              "      <td>0</td>\n",
              "      <td>1</td>\n",
              "      <td>0</td>\n",
              "      <td>0</td>\n",
              "      <td>0</td>\n",
              "      <td>0</td>\n",
              "      <td>0</td>\n",
              "      <td>0</td>\n",
              "      <td>0</td>\n",
              "      <td>1</td>\n",
              "      <td>0</td>\n",
              "      <td>0</td>\n",
              "      <td>0</td>\n",
              "      <td>0</td>\n",
              "      <td>0</td>\n",
              "      <td>0</td>\n",
              "      <td>0</td>\n",
              "      <td>0</td>\n",
              "      <td>0</td>\n",
              "      <td>0</td>\n",
              "      <td>0</td>\n",
              "      <td>0</td>\n",
              "      <td>0</td>\n",
              "      <td>0</td>\n",
              "      <td>0</td>\n",
              "      <td>0</td>\n",
              "      <td>0</td>\n",
              "      <td>0</td>\n",
              "      <td>1</td>\n",
              "      <td>0</td>\n",
              "      <td>0</td>\n",
              "      <td>0</td>\n",
              "      <td>0</td>\n",
              "      <td>0</td>\n",
              "      <td>0</td>\n",
              "      <td>0</td>\n",
              "      <td>0</td>\n",
              "      <td>0</td>\n",
              "      <td>0</td>\n",
              "      <td>0</td>\n",
              "      <td>0</td>\n",
              "      <td>0</td>\n",
              "      <td>0</td>\n",
              "      <td>0</td>\n",
              "      <td>0</td>\n",
              "      <td>0</td>\n",
              "      <td>0</td>\n",
              "      <td>0</td>\n",
              "      <td>0</td>\n",
              "      <td>0</td>\n",
              "      <td>1</td>\n",
              "      <td>0</td>\n",
              "      <td>0</td>\n",
              "    </tr>\n",
              "  </tbody>\n",
              "</table>\n",
              "</div>"
            ],
            "text/plain": [
              "   Country Status_DAC-LDC  Country Status_DAC-LMICT  ...  Size_MNE  Size_SME\n",
              "0                       0                         0  ...         0         0\n",
              "1                       0                         0  ...         0         0\n",
              "\n",
              "[2 rows x 69 columns]"
            ]
          },
          "metadata": {
            "tags": []
          },
          "execution_count": 657
        }
      ]
    },
    {
      "cell_type": "code",
      "metadata": {
        "id": "BSDj81Kt41IZ",
        "colab_type": "code",
        "colab": {}
      },
      "source": [
        "#Save File \n",
        "training_df.to_csv(\"encoded_data.csv\")"
      ],
      "execution_count": 0,
      "outputs": []
    },
    {
      "cell_type": "markdown",
      "metadata": {
        "id": "f5C8MTQZWnaa",
        "colab_type": "text"
      },
      "source": [
        "# TF Dataset definition"
      ]
    },
    {
      "cell_type": "code",
      "metadata": {
        "id": "hmSoCf4FWt7N",
        "colab_type": "code",
        "colab": {}
      },
      "source": [
        "import numpy as np\n",
        "import tensorflow as tf\n",
        "import os\n",
        "\n",
        "np.random.seed(1)\n",
        "tf.random.set_seed(1)"
      ],
      "execution_count": 0,
      "outputs": []
    },
    {
      "cell_type": "code",
      "metadata": {
        "id": "pA_LBb1dWr4j",
        "colab_type": "code",
        "colab": {}
      },
      "source": [
        "batch_size = 128"
      ],
      "execution_count": 0,
      "outputs": []
    },
    {
      "cell_type": "code",
      "metadata": {
        "id": "hNLq0NdMW1JS",
        "colab_type": "code",
        "colab": {}
      },
      "source": [
        "train_array = training_df.to_numpy(dtype=np.float32,copy=True)"
      ],
      "execution_count": 0,
      "outputs": []
    },
    {
      "cell_type": "code",
      "metadata": {
        "id": "1SrHLYTEZL5c",
        "colab_type": "code",
        "colab": {}
      },
      "source": [
        "train_dataset = tf.data.Dataset.from_tensor_slices(train_array)"
      ],
      "execution_count": 0,
      "outputs": []
    },
    {
      "cell_type": "code",
      "metadata": {
        "id": "m5T8LFcUcpg6",
        "colab_type": "code",
        "colab": {}
      },
      "source": [
        "train_dataset = train_dataset.batch(batch_size=batch_size)"
      ],
      "execution_count": 0,
      "outputs": []
    },
    {
      "cell_type": "code",
      "metadata": {
        "id": "qFNx6TjehkD0",
        "colab_type": "code",
        "colab": {}
      },
      "source": [
        "train_dataset = train_dataset.shuffle(train_array.shape[0])"
      ],
      "execution_count": 0,
      "outputs": []
    },
    {
      "cell_type": "code",
      "metadata": {
        "id": "T8aY9GqlhXSe",
        "colab_type": "code",
        "colab": {}
      },
      "source": [
        "train_dataset = train_dataset.prefetch(batch_size*4)"
      ],
      "execution_count": 0,
      "outputs": []
    },
    {
      "cell_type": "markdown",
      "metadata": {
        "id": "EoX2DoI8VMP2",
        "colab_type": "text"
      },
      "source": [
        "# Model Definition"
      ]
    },
    {
      "cell_type": "markdown",
      "metadata": {
        "id": "9aQTajYIV2JV",
        "colab_type": "text"
      },
      "source": [
        "## Encoder"
      ]
    },
    {
      "cell_type": "code",
      "metadata": {
        "id": "OCgYEoakVPuR",
        "colab_type": "code",
        "colab": {}
      },
      "source": [
        "intermediate_dim = 23\n",
        "original_dim = 69"
      ],
      "execution_count": 0,
      "outputs": []
    },
    {
      "cell_type": "code",
      "metadata": {
        "id": "gjAs2-A8WYJn",
        "colab_type": "code",
        "colab": {}
      },
      "source": [
        "class Encoder(tf.keras.layers.Layer):\n",
        "  def __init__(self, intermediate_dim, original_dim):\n",
        "    super(Encoder, self).__init__()\n",
        "    hidden_dim_1 = int((original_dim + intermediate_dim)/2)\n",
        "    self.hidden_layer_1 = tf.keras.layers.Dense(\n",
        "      units=hidden_dim_1,\n",
        "      activation=tf.nn.relu,\n",
        "      kernel_initializer='he_uniform'\n",
        "    )\n",
        "    self.hidden_layer_2 = tf.keras.layers.Dense(\n",
        "      units=intermediate_dim,\n",
        "      activation=tf.nn.relu,\n",
        "      kernel_initializer='he_uniform'\n",
        "    )\n",
        "    self.output_layer = tf.keras.layers.Dense(\n",
        "      units=intermediate_dim,\n",
        "      activation=tf.nn.sigmoid\n",
        "    )\n",
        "    \n",
        "  def call(self, input_features):\n",
        "    activation = self.hidden_layer_1(input_features)\n",
        "    activation = self.hidden_layer_2(activation)\n",
        "    return self.output_layer(activation)"
      ],
      "execution_count": 0,
      "outputs": []
    },
    {
      "cell_type": "markdown",
      "metadata": {
        "id": "tSgSwV01XOeZ",
        "colab_type": "text"
      },
      "source": [
        "## Decoder"
      ]
    },
    {
      "cell_type": "code",
      "metadata": {
        "id": "0t1rAS8pXPvu",
        "colab_type": "code",
        "colab": {}
      },
      "source": [
        "class Decoder(tf.keras.layers.Layer):\n",
        "  def __init__(self, intermediate_dim, original_dim):\n",
        "    super(Decoder, self).__init__()\n",
        "    hidden_dim_2 = int((original_dim + intermediate_dim)/2)\n",
        "    self.hidden_layer_1 = tf.keras.layers.Dense(\n",
        "      units=intermediate_dim,\n",
        "      activation=tf.nn.relu,\n",
        "      kernel_initializer='he_uniform'\n",
        "    )\n",
        "    self.hidden_layer_2 = tf.keras.layers.Dense(\n",
        "      units=hidden_dim_2,\n",
        "      activation=tf.nn.relu,\n",
        "      kernel_initializer='he_uniform'\n",
        "    )\n",
        "    self.output_layer = tf.keras.layers.Dense(\n",
        "      units=original_dim,\n",
        "      activation=tf.nn.sigmoid\n",
        "    )\n",
        "  \n",
        "  def call(self, code):\n",
        "    activation = self.hidden_layer_1(code)\n",
        "    activation = self.hidden_layer_2(activation)\n",
        "    return self.output_layer(activation)"
      ],
      "execution_count": 0,
      "outputs": []
    },
    {
      "cell_type": "markdown",
      "metadata": {
        "id": "Y56B0H4VXWCi",
        "colab_type": "text"
      },
      "source": [
        "## Autoencoder"
      ]
    },
    {
      "cell_type": "code",
      "metadata": {
        "id": "1pnG424RWY74",
        "colab_type": "code",
        "colab": {}
      },
      "source": [
        "class Autoencoder(tf.keras.Model):\n",
        "  def __init__(self, intermediate_dim, original_dim):\n",
        "    super(Autoencoder, self).__init__()\n",
        "    self.encoder = Encoder(\n",
        "        intermediate_dim=intermediate_dim, \n",
        "        original_dim=original_dim\n",
        "    )\n",
        "    self.decoder = Decoder(\n",
        "        intermediate_dim=intermediate_dim,\n",
        "        original_dim=original_dim\n",
        "    )\n",
        "  \n",
        "  def call(self, input_features):\n",
        "    code = self.encoder(input_features)\n",
        "    reconstructed = self.decoder(code)\n",
        "    return reconstructed"
      ],
      "execution_count": 0,
      "outputs": []
    },
    {
      "cell_type": "markdown",
      "metadata": {
        "id": "SsYvdPBnaEdH",
        "colab_type": "text"
      },
      "source": [
        "# Model and Training Setup"
      ]
    },
    {
      "cell_type": "code",
      "metadata": {
        "id": "5AWKjuNXaG7d",
        "colab_type": "code",
        "colab": {}
      },
      "source": [
        "autoencoder = Autoencoder(\n",
        "  intermediate_dim=intermediate_dim,\n",
        "  original_dim=original_dim\n",
        ")"
      ],
      "execution_count": 0,
      "outputs": []
    },
    {
      "cell_type": "code",
      "metadata": {
        "id": "dAZ24ybPaKEG",
        "colab_type": "code",
        "colab": {}
      },
      "source": [
        "learning_rate = 0.5e-2\n",
        "opt = tf.optimizers.Adam(learning_rate=learning_rate)"
      ],
      "execution_count": 0,
      "outputs": []
    },
    {
      "cell_type": "code",
      "metadata": {
        "id": "IcPs8QioaKGl",
        "colab_type": "code",
        "colab": {}
      },
      "source": [
        "def loss(model, original):\n",
        "  reconstruction_error = tf.reduce_mean(tf.square(tf.subtract(model(original), original)))\n",
        "  return reconstruction_error\n",
        "  \n",
        "def train(loss, model, opt, original):\n",
        "  with tf.GradientTape() as tape:\n",
        "    gradients = tape.gradient(loss(model, original), model.trainable_variables)\n",
        "  gradient_variables = zip(gradients, model.trainable_variables)\n",
        "  opt.apply_gradients(gradient_variables)"
      ],
      "execution_count": 0,
      "outputs": []
    },
    {
      "cell_type": "markdown",
      "metadata": {
        "id": "xag9yFPpcHKT",
        "colab_type": "text"
      },
      "source": [
        "# Training"
      ]
    },
    {
      "cell_type": "code",
      "metadata": {
        "id": "uUJWOicoaa1J",
        "colab_type": "code",
        "colab": {}
      },
      "source": [
        "epochs = 50\n",
        "save_path = \"drive/My Drive/model_checkpoints\""
      ],
      "execution_count": 0,
      "outputs": []
    },
    {
      "cell_type": "code",
      "metadata": {
        "id": "hnwQ2jGqmzzB",
        "colab_type": "code",
        "colab": {}
      },
      "source": [
        "def make_folder(path):\n",
        "  try:\n",
        "    os.mkdir(path)\n",
        "  except FileExistsError:\n",
        "    print(\"Directory already exist.\")\n",
        "  return"
      ],
      "execution_count": 0,
      "outputs": []
    },
    {
      "cell_type": "code",
      "metadata": {
        "id": "Bzz6d93foYBn",
        "colab_type": "code",
        "colab": {
          "base_uri": "https://localhost:8080/",
          "height": 35
        },
        "outputId": "9345e232-43ee-4eae-e8a9-0638ad682497"
      },
      "source": [
        "make_folder(save_path)"
      ],
      "execution_count": 675,
      "outputs": [
        {
          "output_type": "stream",
          "text": [
            "Directory already exist.\n"
          ],
          "name": "stdout"
        }
      ]
    },
    {
      "cell_type": "code",
      "metadata": {
        "id": "DePm8fyBcIPp",
        "colab_type": "code",
        "outputId": "72c7986c-1b8a-4f05-b67c-ae0549500dff",
        "colab": {
          "base_uri": "https://localhost:8080/",
          "height": 542
        }
      },
      "source": [
        "save_freq = 5\n",
        "writer = tf.summary.create_file_writer('{}/tmp'.format(save_path))\n",
        "sample_loss = [] # for evaluating the new autoencoder model\n",
        "with writer.as_default():\n",
        "  with tf.summary.record_if(True):\n",
        "    for epoch in range(epochs):\n",
        "        for step, batch_features in enumerate(train_dataset):\n",
        "            train(loss, autoencoder, opt, batch_features)\n",
        "            loss_values = loss(autoencoder, batch_features)\n",
        "            original = batch_features\n",
        "            reconstructed = autoencoder(tf.constant(batch_features))\n",
        "            tf.summary.scalar('loss', loss_values, step=step)\n",
        "            tf.summary.write('original', original, step=step)\n",
        "            tf.summary.write('reconstructed', reconstructed, step=step)\n",
        "\n",
        "        sample_loss.append(loss_values)\n",
        "\n",
        "        if epoch%save_freq == 0:\n",
        "            tf.print(\"Epoch: {}\".format(epoch))\n",
        "            tf.print(\" . Loss:\", loss_values)\n",
        "            path = \"{}/epoch_{:03d}\".format(save_path, epoch)\n",
        "            make_folder(path)\n",
        "            autoencoder.save_weights(path)\n"
      ],
      "execution_count": 676,
      "outputs": [
        {
          "output_type": "stream",
          "text": [
            "Epoch: 0\n",
            " . Loss: 0.0375696234\n",
            "Directory already exist.\n",
            "Epoch: 5\n",
            " . Loss: 0.0161709432\n",
            "Directory already exist.\n",
            "Epoch: 10\n",
            " . Loss: 0.0148522332\n",
            "Directory already exist.\n",
            "Epoch: 15\n",
            " . Loss: 0.012571591\n",
            "Directory already exist.\n",
            "Epoch: 20\n",
            " . Loss: 0.0102120843\n",
            "Directory already exist.\n",
            "Epoch: 25\n",
            " . Loss: 0.00866179634\n",
            "Directory already exist.\n",
            "Epoch: 30\n",
            " . Loss: 0.0120610632\n",
            "Directory already exist.\n",
            "Epoch: 35\n",
            " . Loss: 0.0114983618\n",
            "Directory already exist.\n",
            "Epoch: 40\n",
            " . Loss: 0.0101100262\n",
            "Directory already exist.\n",
            "Epoch: 45\n",
            " . Loss: 0.00975506566\n",
            "Directory already exist.\n"
          ],
          "name": "stdout"
        }
      ]
    },
    {
      "cell_type": "code",
      "metadata": {
        "id": "heFLCJZso-Bh",
        "colab_type": "code",
        "colab": {}
      },
      "source": [
        ""
      ],
      "execution_count": 0,
      "outputs": []
    },
    {
      "cell_type": "markdown",
      "metadata": {
        "id": "_NSual-YxFAU",
        "colab_type": "text"
      },
      "source": [
        "# Capstone Project Statement"
      ]
    },
    {
      "cell_type": "markdown",
      "metadata": {
        "id": "sVUh6Sot08UE",
        "colab_type": "text"
      },
      "source": [
        "## Instructions:\n",
        "1. Create a copy of this collab notebook and suffix it with your name\n",
        "2. Run through the code example above\n",
        "3. Work on the project objectives below inside the copy of the notebook"
      ]
    },
    {
      "cell_type": "markdown",
      "metadata": {
        "id": "gtAZpzd2xIYO",
        "colab_type": "text"
      },
      "source": [
        "## 1. Use the autoencoder as a basis to create a machine learning model to find the Top 5 similar company given an target company. \n",
        "\n",
        "Note: Implement an API/function to query for Top 5 similar company given an target company. Assuming the target company is within the data.f file."
      ]
    },
    {
      "cell_type": "markdown",
      "metadata": {
        "id": "w59MqTi1YvnR",
        "colab_type": "text"
      },
      "source": [
        "### Prepare datasets"
      ]
    },
    {
      "cell_type": "code",
      "metadata": {
        "id": "6ZLBKB1hY3LH",
        "colab_type": "code",
        "outputId": "97021c15-cc0c-4ba0-c209-c4276edcb3b0",
        "colab": {
          "base_uri": "https://localhost:8080/",
          "height": 70
        }
      },
      "source": [
        "# duplicate raw dataframe and fast cleanning\n",
        "dup_raw_df = pd.read_feather(data_path)\n",
        "dup_raw_df.replace(to_replace=[None], value=np.nan, inplace=True)\n",
        "\n",
        "# Find columns that has na\n",
        "dup_raw_df.columns[dup_raw_df.isna().any()]"
      ],
      "execution_count": 677,
      "outputs": [
        {
          "output_type": "execute_result",
          "data": {
            "text/plain": [
              "Index(['Featured Report?', 'GOLD Community', 'Listed/Non-listed', 'OS',\n",
              "       'Organization type', 'Size'],\n",
              "      dtype='object')"
            ]
          },
          "metadata": {
            "tags": []
          },
          "execution_count": 677
        }
      ]
    },
    {
      "cell_type": "code",
      "metadata": {
        "id": "qBMzw3UAZLVj",
        "colab_type": "code",
        "outputId": "7b7e5100-de8c-47a2-93ae-39e29b56d874",
        "colab": {
          "base_uri": "https://localhost:8080/",
          "height": 162
        }
      },
      "source": [
        "dup_raw_df.iloc[:,1:].describe()"
      ],
      "execution_count": 678,
      "outputs": [
        {
          "output_type": "execute_result",
          "data": {
            "text/html": [
              "<div>\n",
              "<style scoped>\n",
              "    .dataframe tbody tr th:only-of-type {\n",
              "        vertical-align: middle;\n",
              "    }\n",
              "\n",
              "    .dataframe tbody tr th {\n",
              "        vertical-align: top;\n",
              "    }\n",
              "\n",
              "    .dataframe thead th {\n",
              "        text-align: right;\n",
              "    }\n",
              "</style>\n",
              "<table border=\"1\" class=\"dataframe\">\n",
              "  <thead>\n",
              "    <tr style=\"text-align: right;\">\n",
              "      <th></th>\n",
              "      <th>Country</th>\n",
              "      <th>Country Status</th>\n",
              "      <th>Featured Report?</th>\n",
              "      <th>GOLD Community</th>\n",
              "      <th>Listed/Non-listed</th>\n",
              "      <th>Name</th>\n",
              "      <th>OS</th>\n",
              "      <th>Organization type</th>\n",
              "      <th>Region</th>\n",
              "      <th>Sector</th>\n",
              "      <th>Size</th>\n",
              "      <th>year</th>\n",
              "    </tr>\n",
              "  </thead>\n",
              "  <tbody>\n",
              "    <tr>\n",
              "      <th>count</th>\n",
              "      <td>12491</td>\n",
              "      <td>12491</td>\n",
              "      <td>9802</td>\n",
              "      <td>9114</td>\n",
              "      <td>11833</td>\n",
              "      <td>12491</td>\n",
              "      <td>688</td>\n",
              "      <td>11730</td>\n",
              "      <td>12491</td>\n",
              "      <td>12491</td>\n",
              "      <td>12458</td>\n",
              "      <td>12491</td>\n",
              "    </tr>\n",
              "    <tr>\n",
              "      <th>unique</th>\n",
              "      <td>130</td>\n",
              "      <td>6</td>\n",
              "      <td>2</td>\n",
              "      <td>2</td>\n",
              "      <td>3</td>\n",
              "      <td>12491</td>\n",
              "      <td>2</td>\n",
              "      <td>7</td>\n",
              "      <td>6</td>\n",
              "      <td>39</td>\n",
              "      <td>3</td>\n",
              "      <td>1541</td>\n",
              "    </tr>\n",
              "    <tr>\n",
              "      <th>top</th>\n",
              "      <td>Mainland China</td>\n",
              "      <td>OECD</td>\n",
              "      <td>No</td>\n",
              "      <td>No</td>\n",
              "      <td>Listed</td>\n",
              "      <td>Sorell Hotel Rüden</td>\n",
              "      <td>No</td>\n",
              "      <td>Private company</td>\n",
              "      <td>Asia</td>\n",
              "      <td>Financial Services</td>\n",
              "      <td>Large</td>\n",
              "      <td>2017</td>\n",
              "    </tr>\n",
              "    <tr>\n",
              "      <th>freq</th>\n",
              "      <td>1337</td>\n",
              "      <td>6392</td>\n",
              "      <td>9788</td>\n",
              "      <td>8897</td>\n",
              "      <td>7018</td>\n",
              "      <td>1</td>\n",
              "      <td>675</td>\n",
              "      <td>8423</td>\n",
              "      <td>4488</td>\n",
              "      <td>1481</td>\n",
              "      <td>7468</td>\n",
              "      <td>795</td>\n",
              "    </tr>\n",
              "  </tbody>\n",
              "</table>\n",
              "</div>"
            ],
            "text/plain": [
              "               Country Country Status  ...   Size   year\n",
              "count            12491          12491  ...  12458  12491\n",
              "unique             130              6  ...      3   1541\n",
              "top     Mainland China           OECD  ...  Large   2017\n",
              "freq              1337           6392  ...   7468    795\n",
              "\n",
              "[4 rows x 12 columns]"
            ]
          },
          "metadata": {
            "tags": []
          },
          "execution_count": 678
        }
      ]
    },
    {
      "cell_type": "code",
      "metadata": {
        "id": "yANu3RqPZOMO",
        "colab_type": "code",
        "colab": {}
      },
      "source": [
        "# Fill na\n",
        "dup_raw_df.fillna({'Featured Report?':'No', \\\n",
        "                    'GOLD Community': 'No', \\\n",
        "                    'Listed/Non-listed': 'Listed', \\\n",
        "                    'OS':'No', \\\n",
        "                    'Organization type': 'Private Company', \n",
        "                    'Size': 'Large'}, inplace=True)"
      ],
      "execution_count": 0,
      "outputs": []
    },
    {
      "cell_type": "code",
      "metadata": {
        "id": "M2t9GM_JZAG_",
        "colab_type": "code",
        "outputId": "986ee0af-b4c7-4afb-d19c-6b5558df5f46",
        "colab": {
          "base_uri": "https://localhost:8080/",
          "height": 182
        }
      },
      "source": [
        "# duplicate raw dataframes for two excercises\n",
        "ex1_raw_df = dup_raw_df.copy()\n",
        "ex2_raw_df = dup_raw_df.copy()\n",
        "\n",
        "# preview\n",
        "ex1_raw_df.head(3)"
      ],
      "execution_count": 680,
      "outputs": [
        {
          "output_type": "execute_result",
          "data": {
            "text/html": [
              "<div>\n",
              "<style scoped>\n",
              "    .dataframe tbody tr th:only-of-type {\n",
              "        vertical-align: middle;\n",
              "    }\n",
              "\n",
              "    .dataframe tbody tr th {\n",
              "        vertical-align: top;\n",
              "    }\n",
              "\n",
              "    .dataframe thead th {\n",
              "        text-align: right;\n",
              "    }\n",
              "</style>\n",
              "<table border=\"1\" class=\"dataframe\">\n",
              "  <thead>\n",
              "    <tr style=\"text-align: right;\">\n",
              "      <th></th>\n",
              "      <th>index</th>\n",
              "      <th>Country</th>\n",
              "      <th>Country Status</th>\n",
              "      <th>Featured Report?</th>\n",
              "      <th>GOLD Community</th>\n",
              "      <th>Listed/Non-listed</th>\n",
              "      <th>Name</th>\n",
              "      <th>OS</th>\n",
              "      <th>Organization type</th>\n",
              "      <th>Region</th>\n",
              "      <th>Sector</th>\n",
              "      <th>Size</th>\n",
              "      <th>year</th>\n",
              "    </tr>\n",
              "  </thead>\n",
              "  <tbody>\n",
              "    <tr>\n",
              "      <th>0</th>\n",
              "      <td>42434</td>\n",
              "      <td>Italy</td>\n",
              "      <td>OECD</td>\n",
              "      <td>No</td>\n",
              "      <td>No</td>\n",
              "      <td>Listed</td>\n",
              "      <td>Acea</td>\n",
              "      <td>No</td>\n",
              "      <td>Private company</td>\n",
              "      <td>Europe</td>\n",
              "      <td>Energy Utilities</td>\n",
              "      <td>Large</td>\n",
              "      <td>2017,2016,2015,2014,2013,2012,2011,2010,2009,2...</td>\n",
              "    </tr>\n",
              "    <tr>\n",
              "      <th>1</th>\n",
              "      <td>36391</td>\n",
              "      <td>United States of America</td>\n",
              "      <td>OECD</td>\n",
              "      <td>No</td>\n",
              "      <td>No</td>\n",
              "      <td>Listed</td>\n",
              "      <td>Bristol-Myers Squibb Company</td>\n",
              "      <td>No</td>\n",
              "      <td>Private company</td>\n",
              "      <td>Northern America</td>\n",
              "      <td>Healthcare Products</td>\n",
              "      <td>Large</td>\n",
              "      <td>2016,2016,2014,2012,2011,2010,2009,2008,2007,2...</td>\n",
              "    </tr>\n",
              "    <tr>\n",
              "      <th>2</th>\n",
              "      <td>29899</td>\n",
              "      <td>United Kingdom of Great Britain and Northern I...</td>\n",
              "      <td>OECD</td>\n",
              "      <td>No</td>\n",
              "      <td>No</td>\n",
              "      <td>Non-listed</td>\n",
              "      <td>British Airways</td>\n",
              "      <td>No</td>\n",
              "      <td>Subsidiary</td>\n",
              "      <td>Europe</td>\n",
              "      <td>Aviation</td>\n",
              "      <td>Large</td>\n",
              "      <td>2015,2014,2013,2000,1999</td>\n",
              "    </tr>\n",
              "  </tbody>\n",
              "</table>\n",
              "</div>"
            ],
            "text/plain": [
              "   index  ...                                               year\n",
              "0  42434  ...  2017,2016,2015,2014,2013,2012,2011,2010,2009,2...\n",
              "1  36391  ...  2016,2016,2014,2012,2011,2010,2009,2008,2007,2...\n",
              "2  29899  ...                           2015,2014,2013,2000,1999\n",
              "\n",
              "[3 rows x 13 columns]"
            ]
          },
          "metadata": {
            "tags": []
          },
          "execution_count": 680
        }
      ]
    },
    {
      "cell_type": "markdown",
      "metadata": {
        "id": "KpGow3iwSfXI",
        "colab_type": "text"
      },
      "source": [
        "### Get information of a specific company"
      ]
    },
    {
      "cell_type": "code",
      "metadata": {
        "id": "QQVlFYHX22d5",
        "colab_type": "code",
        "cellView": "both",
        "outputId": "17a7c389-e28c-4419-a4d7-9fa9670ec85b",
        "colab": {
          "base_uri": "https://localhost:8080/",
          "height": 140
        }
      },
      "source": [
        "#@title Preview the name of X companies\n",
        "start_index =  20#@param {type:\"number\"}\n",
        "end_index = 25#@param {type:\"number\"}\n",
        "\n",
        "# Preview the name of companies\n",
        "if ((start_index >= 0 and start_index <= len(ex1_raw_df)) and (end_index >= 0 and end_index <= len(ex1_raw_df))):\n",
        "    if (end_index - start_index) > 0:\n",
        "        print('Number of previewed companies: ', (end_index - start_index))\n",
        "        print('The name list:')\n",
        "        for item in list(ex1_raw_df['Name'].copy().unique()[start_index:end_index]):\n",
        "            print(' . ', item)\n",
        "    else:\n",
        "        print('Please re-enter the index value!')\n",
        "else:\n",
        "    raise NameError('Please enter index value between 0 and {}!'.format(len(ex1_raw_df)))\n",
        "    "
      ],
      "execution_count": 681,
      "outputs": [
        {
          "output_type": "stream",
          "text": [
            "Number of previewed companies:  5\n",
            "The name list:\n",
            " .  Eskom\n",
            " .  Ford Motor Company\n",
            " .  Fuji Xerox\n",
            " .  FUJIFILM Holdings Corporation\n",
            " .  Genencor\n"
          ],
          "name": "stdout"
        }
      ]
    },
    {
      "cell_type": "code",
      "metadata": {
        "id": "In9eeWEr-dS8",
        "colab_type": "code",
        "colab": {}
      },
      "source": [
        "#@title Paste the company name here\n",
        "company_name = \"FUJIFILM Holdings Corporation\" #@param {type:\"string\"}"
      ],
      "execution_count": 0,
      "outputs": []
    },
    {
      "cell_type": "code",
      "metadata": {
        "id": "BOQEa018yGXz",
        "colab_type": "code",
        "outputId": "c2f827f8-32cc-4159-e3f9-ca2d3cc5957c",
        "colab": {
          "base_uri": "https://localhost:8080/",
          "height": 35
        }
      },
      "source": [
        "if(company_name in ex1_raw_df['Name'].values):\n",
        "    print('The Company \"' + company_name + '\" is founded!')\n",
        "else:\n",
        "    raise NameError('This company name is not founded in \"data.f\" dataset!')"
      ],
      "execution_count": 683,
      "outputs": [
        {
          "output_type": "stream",
          "text": [
            "The Company \"FUJIFILM Holdings Corporation\" is founded!\n"
          ],
          "name": "stdout"
        }
      ]
    },
    {
      "cell_type": "code",
      "metadata": {
        "id": "SlmiYjcVTDI5",
        "colab_type": "code",
        "colab": {}
      },
      "source": [
        "# df preprocessing\n",
        "target_company_df = ex1_raw_df[ex1_raw_df.Name == company_name].copy()\n",
        "other_companies_df = ex1_raw_df[ex1_raw_df.Name != company_name].copy()"
      ],
      "execution_count": 0,
      "outputs": []
    },
    {
      "cell_type": "markdown",
      "metadata": {
        "id": "u98HfdIMSn_H",
        "colab_type": "text"
      },
      "source": [
        "### Get the target vector of given company"
      ]
    },
    {
      "cell_type": "code",
      "metadata": {
        "id": "ivlvJ36OsXrk",
        "colab_type": "code",
        "colab": {}
      },
      "source": [
        "def df_preprocessing(dataframe, exercise):\n",
        "    if(exercise == 'Exercise 1'):\n",
        "        # drop columns\n",
        "        dataframe.drop(labels=['index', 'year', 'Name', 'OS'], axis=1, inplace=True)\n",
        "        dataframe.replace(to_replace=[None], value=np.nan, inplace=True)\n",
        "\n",
        "        # find columns that has na\n",
        "        dataframe.columns[dataframe.isna().any()]\n",
        "\n",
        "        #fill na with majorituy category\n",
        "        dataframe.fillna({'Featured Report?':'No', \\\n",
        "                    'GOLD Community': 'No', \\\n",
        "                    'Listed/Non-listed': 'Listed', \\\n",
        "                    'OS':'No', \\\n",
        "                    'Organization type': 'Private Company', \n",
        "                    'Size': 'Large'}, inplace=True)\n",
        "        \n",
        "        dataframe_clean = dataframe.loc[:, 'Country Status':'Size'].copy()\n",
        "\n",
        "    elif(exercise == 'Exercise 2'):\n",
        "        # drop columns\n",
        "        dataframe.drop(labels=['index', 'Name', 'year'], axis=1, inplace=True)\n",
        "        dataframe.replace(to_replace=[None], value=np.nan, inplace=True)\n",
        "\n",
        "        # find columns that has na\n",
        "        dataframe.columns[dataframe.isna().any()]\n",
        "\n",
        "        #fill na with majorituy category\n",
        "        dataframe.fillna({'Featured Report?':'No', \\\n",
        "                    'GOLD Community': 'No', \\\n",
        "                    'Listed/Non-listed': 'Listed', \\\n",
        "                    'OS':'No', \\\n",
        "                    'Organization type': 'Private Company', \n",
        "                    'Size': 'Large'}, inplace=True)\n",
        "        \n",
        "        dataframe_clean = dataframe.copy()\n",
        "\n",
        "    else:\n",
        "        print('Unknown Exercise...')\n",
        "\n",
        "    dataframe_ori_cols = dataframe_clean.shape[1] # Number of cleaned original columns\n",
        "    return dataframe_clean, dataframe_ori_cols"
      ],
      "execution_count": 0,
      "outputs": []
    },
    {
      "cell_type": "code",
      "metadata": {
        "id": "IysAbus5jVD7",
        "colab_type": "code",
        "colab": {}
      },
      "source": [
        "# Create a function to get one-hot code dataframe\n",
        "def get_code_df(dataframe, get_type, exercise):\n",
        "    dataframe_clean, dataframe_ori_cols = df_preprocessing(dataframe, exercise)\n",
        "\n",
        "    if(exercise == 'Exercise 1'):\n",
        "        if(get_type == 'filter'):\n",
        "            _features_df = features_dataframe.copy()\n",
        "\n",
        "            # create a dictionary of origin values of the target company \n",
        "            target_com_dict = dataframe_clean.to_dict(orient='records')[0]\n",
        "\n",
        "            # show a data list with satisfying conditions\n",
        "            for key, value in target_com_dict.items():\n",
        "                _features_df = _features_df[_features_df[key] == value].copy()\n",
        "                target_features_df = _features_df\n",
        "\n",
        "            # drop duplicates\n",
        "            target_features_df = target_features_df.drop_duplicates()\n",
        "\n",
        "            # Takes only the columns which have been one-hot-encoded\n",
        "            target_vector = target_features_df[target_features_df.columns[dataframe_ori_cols:]]\n",
        "            return dataframe_clean, dataframe_clean.head(3), target_vector, target_vector.head(3)\n",
        "            \n",
        "        if(get_type == 'one-hot'):\n",
        "            # One-hot-encoding\n",
        "            token_dataframe = dataframe_clean.copy()\n",
        "            for feature in dataframe_clean.columns:\n",
        "                dfDummies = pd.get_dummies(dataframe_clean[feature], prefix = feature)\n",
        "                token_dataframe = pd.concat([token_dataframe, dfDummies], axis=1)\n",
        "\n",
        "            # Get the full dataframe for the last step\n",
        "            full_df = token_dataframe.copy()\n",
        "\n",
        "            # Take only the columns which have been one-hot-encoded\n",
        "            token_df = token_dataframe[token_dataframe.columns[dataframe_ori_cols:]]\n",
        "            return dataframe_clean, dataframe_clean.head(3), token_df, token_df.head(3), full_df\n",
        "    \n",
        "    elif(exercise == 'Exercise 2'):\n",
        "        if(get_type == 'filter'):\n",
        "            ori_df = df_preprocessing(ex2_raw_df.copy(), exercise='Exercise 2')[0]\n",
        "\n",
        "            # One-hot-encoding\n",
        "            ori_dataframe = ori_df.copy()\n",
        "            for feature in ori_df.columns:\n",
        "                dfDummies = pd.get_dummies(ori_df[feature], prefix = feature)\n",
        "                ori_dataframe = pd.concat([ori_dataframe, dfDummies], axis=1)\n",
        "\n",
        "            _features_df = ori_dataframe\n",
        "\n",
        "            # create a dictionary of origin values of the target company \n",
        "            target_com_dict = dataframe_clean.to_dict(orient='records')[0]\n",
        "\n",
        "            # show a data list with satisfying conditions\n",
        "            for key, value in target_com_dict.items():\n",
        "                _features_df = _features_df[_features_df[key] == value].copy()\n",
        "                target_features_df = _features_df\n",
        "\n",
        "            # drop duplicates\n",
        "            target_features_df = target_features_df.drop_duplicates()\n",
        "\n",
        "            # Takes only the columns which have been one-hot-encoded\n",
        "            target_vector = target_features_df[target_features_df.columns[dataframe_ori_cols:]]\n",
        "            return dataframe_clean, dataframe_clean.head(3), target_vector, target_vector.head(3)\n",
        "\n",
        "        elif(get_type == 'one-hot'):\n",
        "            # One-hot-encoding\n",
        "            token_dataframe = dataframe_clean.copy()\n",
        "            for feature in dataframe_clean.columns:\n",
        "                dfDummies = pd.get_dummies(dataframe_clean[feature], prefix = feature)\n",
        "                token_dataframe = pd.concat([token_dataframe, dfDummies], axis=1)\n",
        "\n",
        "            # Get the full dataframe for the last step\n",
        "            full_df = token_dataframe.copy()\n",
        "\n",
        "            # Take only the columns which have been one-hot-encoded\n",
        "            token_df = token_dataframe[token_dataframe.columns[dataframe_ori_cols:]]\n",
        "            return dataframe_clean, dataframe_clean.head(3), token_df, token_df.head(3), full_df\n"
      ],
      "execution_count": 0,
      "outputs": []
    },
    {
      "cell_type": "code",
      "metadata": {
        "id": "B8nR2H_uB9hA",
        "colab_type": "code",
        "outputId": "08e52395-617d-4253-b027-b4eb0effb7fe",
        "colab": {
          "base_uri": "https://localhost:8080/",
          "height": 221
        }
      },
      "source": [
        "# preview target company\n",
        "target_company, prv_target_company, encoded_target_company, prv_encoded_target_company = get_code_df(target_company_df.copy(), get_type='filter', exercise='Exercise 1')\n",
        "display(prv_target_company, prv_encoded_target_company, encoded_target_company.shape)"
      ],
      "execution_count": 687,
      "outputs": [
        {
          "output_type": "display_data",
          "data": {
            "text/html": [
              "<div>\n",
              "<style scoped>\n",
              "    .dataframe tbody tr th:only-of-type {\n",
              "        vertical-align: middle;\n",
              "    }\n",
              "\n",
              "    .dataframe tbody tr th {\n",
              "        vertical-align: top;\n",
              "    }\n",
              "\n",
              "    .dataframe thead th {\n",
              "        text-align: right;\n",
              "    }\n",
              "</style>\n",
              "<table border=\"1\" class=\"dataframe\">\n",
              "  <thead>\n",
              "    <tr style=\"text-align: right;\">\n",
              "      <th></th>\n",
              "      <th>Country Status</th>\n",
              "      <th>Featured Report?</th>\n",
              "      <th>GOLD Community</th>\n",
              "      <th>Listed/Non-listed</th>\n",
              "      <th>Organization type</th>\n",
              "      <th>Region</th>\n",
              "      <th>Sector</th>\n",
              "      <th>Size</th>\n",
              "    </tr>\n",
              "  </thead>\n",
              "  <tbody>\n",
              "    <tr>\n",
              "      <th>23</th>\n",
              "      <td>OECD</td>\n",
              "      <td>No</td>\n",
              "      <td>No</td>\n",
              "      <td>Listed</td>\n",
              "      <td>Private company</td>\n",
              "      <td>Asia</td>\n",
              "      <td>Conglomerates</td>\n",
              "      <td>Large</td>\n",
              "    </tr>\n",
              "  </tbody>\n",
              "</table>\n",
              "</div>"
            ],
            "text/plain": [
              "   Country Status Featured Report? GOLD Community  ... Region         Sector   Size\n",
              "23           OECD               No             No  ...   Asia  Conglomerates  Large\n",
              "\n",
              "[1 rows x 8 columns]"
            ]
          },
          "metadata": {
            "tags": []
          }
        },
        {
          "output_type": "display_data",
          "data": {
            "text/html": [
              "<div>\n",
              "<style scoped>\n",
              "    .dataframe tbody tr th:only-of-type {\n",
              "        vertical-align: middle;\n",
              "    }\n",
              "\n",
              "    .dataframe tbody tr th {\n",
              "        vertical-align: top;\n",
              "    }\n",
              "\n",
              "    .dataframe thead th {\n",
              "        text-align: right;\n",
              "    }\n",
              "</style>\n",
              "<table border=\"1\" class=\"dataframe\">\n",
              "  <thead>\n",
              "    <tr style=\"text-align: right;\">\n",
              "      <th></th>\n",
              "      <th>Country Status_DAC-LDC</th>\n",
              "      <th>Country Status_DAC-LMICT</th>\n",
              "      <th>Country Status_DAC-OLIC</th>\n",
              "      <th>Country Status_DAC-UMICT</th>\n",
              "      <th>Country Status_Non-OECD / Non-DAC</th>\n",
              "      <th>Country Status_OECD</th>\n",
              "      <th>Featured Report?_No</th>\n",
              "      <th>Featured Report?_Yes</th>\n",
              "      <th>GOLD Community_No</th>\n",
              "      <th>GOLD Community_Yes</th>\n",
              "      <th>Listed/Non-listed_Listed</th>\n",
              "      <th>Listed/Non-listed_Non-listed</th>\n",
              "      <th>Listed/Non-listed_Not applicable</th>\n",
              "      <th>Organization type_Cooperative</th>\n",
              "      <th>Organization type_Non-profit organization</th>\n",
              "      <th>Organization type_Partnership</th>\n",
              "      <th>Organization type_Private Company</th>\n",
              "      <th>Organization type_Private company</th>\n",
              "      <th>Organization type_Public institution</th>\n",
              "      <th>Organization type_State-owned company</th>\n",
              "      <th>Organization type_Subsidiary</th>\n",
              "      <th>Region_Africa</th>\n",
              "      <th>Region_Asia</th>\n",
              "      <th>Region_Europe</th>\n",
              "      <th>Region_Latin America &amp; the Caribbean</th>\n",
              "      <th>Region_Northern America</th>\n",
              "      <th>Region_Oceania</th>\n",
              "      <th>Sector_=</th>\n",
              "      <th>Sector_Agriculture</th>\n",
              "      <th>Sector_Automotive</th>\n",
              "      <th>Sector_Aviation</th>\n",
              "      <th>Sector_Chemicals</th>\n",
              "      <th>Sector_Commercial Services</th>\n",
              "      <th>Sector_Computers</th>\n",
              "      <th>Sector_Conglomerates</th>\n",
              "      <th>Sector_Construction</th>\n",
              "      <th>Sector_Construction Materials</th>\n",
              "      <th>Sector_Consumer Durables</th>\n",
              "      <th>Sector_Energy</th>\n",
              "      <th>Sector_Energy Utilities</th>\n",
              "      <th>Sector_Equipment</th>\n",
              "      <th>Sector_Financial Services</th>\n",
              "      <th>Sector_Food and Beverage Products</th>\n",
              "      <th>Sector_Forest and Paper Products</th>\n",
              "      <th>Sector_Healthcare Products</th>\n",
              "      <th>Sector_Healthcare Services</th>\n",
              "      <th>Sector_Household and Personal Products</th>\n",
              "      <th>Sector_Logistics</th>\n",
              "      <th>Sector_Media</th>\n",
              "      <th>Sector_Metals Products</th>\n",
              "      <th>Sector_Mining</th>\n",
              "      <th>Sector_Non-Profit / Services</th>\n",
              "      <th>Sector_Other</th>\n",
              "      <th>Sector_Public Agency</th>\n",
              "      <th>Sector_Railroad</th>\n",
              "      <th>Sector_Real Estate</th>\n",
              "      <th>Sector_Retailers</th>\n",
              "      <th>Sector_Technology Hardware</th>\n",
              "      <th>Sector_Telecommunications</th>\n",
              "      <th>Sector_Textiles and Apparel</th>\n",
              "      <th>Sector_Tobacco</th>\n",
              "      <th>Sector_Tourism/Leisure</th>\n",
              "      <th>Sector_Toys</th>\n",
              "      <th>Sector_Universities</th>\n",
              "      <th>Sector_Waste Management</th>\n",
              "      <th>Sector_Water Utilities</th>\n",
              "      <th>Size_Large</th>\n",
              "      <th>Size_MNE</th>\n",
              "      <th>Size_SME</th>\n",
              "    </tr>\n",
              "  </thead>\n",
              "  <tbody>\n",
              "    <tr>\n",
              "      <th>23</th>\n",
              "      <td>0</td>\n",
              "      <td>0</td>\n",
              "      <td>0</td>\n",
              "      <td>0</td>\n",
              "      <td>0</td>\n",
              "      <td>1</td>\n",
              "      <td>1</td>\n",
              "      <td>0</td>\n",
              "      <td>1</td>\n",
              "      <td>0</td>\n",
              "      <td>1</td>\n",
              "      <td>0</td>\n",
              "      <td>0</td>\n",
              "      <td>0</td>\n",
              "      <td>0</td>\n",
              "      <td>0</td>\n",
              "      <td>0</td>\n",
              "      <td>1</td>\n",
              "      <td>0</td>\n",
              "      <td>0</td>\n",
              "      <td>0</td>\n",
              "      <td>0</td>\n",
              "      <td>1</td>\n",
              "      <td>0</td>\n",
              "      <td>0</td>\n",
              "      <td>0</td>\n",
              "      <td>0</td>\n",
              "      <td>0</td>\n",
              "      <td>0</td>\n",
              "      <td>0</td>\n",
              "      <td>0</td>\n",
              "      <td>0</td>\n",
              "      <td>0</td>\n",
              "      <td>0</td>\n",
              "      <td>1</td>\n",
              "      <td>0</td>\n",
              "      <td>0</td>\n",
              "      <td>0</td>\n",
              "      <td>0</td>\n",
              "      <td>0</td>\n",
              "      <td>0</td>\n",
              "      <td>0</td>\n",
              "      <td>0</td>\n",
              "      <td>0</td>\n",
              "      <td>0</td>\n",
              "      <td>0</td>\n",
              "      <td>0</td>\n",
              "      <td>0</td>\n",
              "      <td>0</td>\n",
              "      <td>0</td>\n",
              "      <td>0</td>\n",
              "      <td>0</td>\n",
              "      <td>0</td>\n",
              "      <td>0</td>\n",
              "      <td>0</td>\n",
              "      <td>0</td>\n",
              "      <td>0</td>\n",
              "      <td>0</td>\n",
              "      <td>0</td>\n",
              "      <td>0</td>\n",
              "      <td>0</td>\n",
              "      <td>0</td>\n",
              "      <td>0</td>\n",
              "      <td>0</td>\n",
              "      <td>0</td>\n",
              "      <td>0</td>\n",
              "      <td>1</td>\n",
              "      <td>0</td>\n",
              "      <td>0</td>\n",
              "    </tr>\n",
              "  </tbody>\n",
              "</table>\n",
              "</div>"
            ],
            "text/plain": [
              "    Country Status_DAC-LDC  Country Status_DAC-LMICT  ...  Size_MNE  Size_SME\n",
              "23                       0                         0  ...         0         0\n",
              "\n",
              "[1 rows x 69 columns]"
            ]
          },
          "metadata": {
            "tags": []
          }
        },
        {
          "output_type": "display_data",
          "data": {
            "text/plain": [
              "(1, 69)"
            ]
          },
          "metadata": {
            "tags": []
          }
        }
      ]
    },
    {
      "cell_type": "code",
      "metadata": {
        "id": "LNWza3PJWTep",
        "colab_type": "code",
        "outputId": "09bd7aed-e3bd-414d-e17a-629099e02862",
        "colab": {
          "base_uri": "https://localhost:8080/",
          "height": 336
        }
      },
      "source": [
        "# preview other companies\n",
        "other_companies, prv_other_companies, encoded_other_companies, prv_encoded_other_companies, df_for_last_step = get_code_df(other_companies_df.copy(), get_type='one-hot', exercise='Exercise 1')\n",
        "display(prv_other_companies, prv_encoded_other_companies, encoded_other_companies.shape)"
      ],
      "execution_count": 688,
      "outputs": [
        {
          "output_type": "display_data",
          "data": {
            "text/html": [
              "<div>\n",
              "<style scoped>\n",
              "    .dataframe tbody tr th:only-of-type {\n",
              "        vertical-align: middle;\n",
              "    }\n",
              "\n",
              "    .dataframe tbody tr th {\n",
              "        vertical-align: top;\n",
              "    }\n",
              "\n",
              "    .dataframe thead th {\n",
              "        text-align: right;\n",
              "    }\n",
              "</style>\n",
              "<table border=\"1\" class=\"dataframe\">\n",
              "  <thead>\n",
              "    <tr style=\"text-align: right;\">\n",
              "      <th></th>\n",
              "      <th>Country Status</th>\n",
              "      <th>Featured Report?</th>\n",
              "      <th>GOLD Community</th>\n",
              "      <th>Listed/Non-listed</th>\n",
              "      <th>Organization type</th>\n",
              "      <th>Region</th>\n",
              "      <th>Sector</th>\n",
              "      <th>Size</th>\n",
              "    </tr>\n",
              "  </thead>\n",
              "  <tbody>\n",
              "    <tr>\n",
              "      <th>0</th>\n",
              "      <td>OECD</td>\n",
              "      <td>No</td>\n",
              "      <td>No</td>\n",
              "      <td>Listed</td>\n",
              "      <td>Private company</td>\n",
              "      <td>Europe</td>\n",
              "      <td>Energy Utilities</td>\n",
              "      <td>Large</td>\n",
              "    </tr>\n",
              "    <tr>\n",
              "      <th>1</th>\n",
              "      <td>OECD</td>\n",
              "      <td>No</td>\n",
              "      <td>No</td>\n",
              "      <td>Listed</td>\n",
              "      <td>Private company</td>\n",
              "      <td>Northern America</td>\n",
              "      <td>Healthcare Products</td>\n",
              "      <td>Large</td>\n",
              "    </tr>\n",
              "    <tr>\n",
              "      <th>2</th>\n",
              "      <td>OECD</td>\n",
              "      <td>No</td>\n",
              "      <td>No</td>\n",
              "      <td>Non-listed</td>\n",
              "      <td>Subsidiary</td>\n",
              "      <td>Europe</td>\n",
              "      <td>Aviation</td>\n",
              "      <td>Large</td>\n",
              "    </tr>\n",
              "  </tbody>\n",
              "</table>\n",
              "</div>"
            ],
            "text/plain": [
              "  Country Status Featured Report?  ...               Sector   Size\n",
              "0           OECD               No  ...     Energy Utilities  Large\n",
              "1           OECD               No  ...  Healthcare Products  Large\n",
              "2           OECD               No  ...             Aviation  Large\n",
              "\n",
              "[3 rows x 8 columns]"
            ]
          },
          "metadata": {
            "tags": []
          }
        },
        {
          "output_type": "display_data",
          "data": {
            "text/html": [
              "<div>\n",
              "<style scoped>\n",
              "    .dataframe tbody tr th:only-of-type {\n",
              "        vertical-align: middle;\n",
              "    }\n",
              "\n",
              "    .dataframe tbody tr th {\n",
              "        vertical-align: top;\n",
              "    }\n",
              "\n",
              "    .dataframe thead th {\n",
              "        text-align: right;\n",
              "    }\n",
              "</style>\n",
              "<table border=\"1\" class=\"dataframe\">\n",
              "  <thead>\n",
              "    <tr style=\"text-align: right;\">\n",
              "      <th></th>\n",
              "      <th>Country Status_DAC-LDC</th>\n",
              "      <th>Country Status_DAC-LMICT</th>\n",
              "      <th>Country Status_DAC-OLIC</th>\n",
              "      <th>Country Status_DAC-UMICT</th>\n",
              "      <th>Country Status_Non-OECD / Non-DAC</th>\n",
              "      <th>Country Status_OECD</th>\n",
              "      <th>Featured Report?_No</th>\n",
              "      <th>Featured Report?_Yes</th>\n",
              "      <th>GOLD Community_No</th>\n",
              "      <th>GOLD Community_Yes</th>\n",
              "      <th>Listed/Non-listed_Listed</th>\n",
              "      <th>Listed/Non-listed_Non-listed</th>\n",
              "      <th>Listed/Non-listed_Not applicable</th>\n",
              "      <th>Organization type_Cooperative</th>\n",
              "      <th>Organization type_Non-profit organization</th>\n",
              "      <th>Organization type_Partnership</th>\n",
              "      <th>Organization type_Private Company</th>\n",
              "      <th>Organization type_Private company</th>\n",
              "      <th>Organization type_Public institution</th>\n",
              "      <th>Organization type_State-owned company</th>\n",
              "      <th>Organization type_Subsidiary</th>\n",
              "      <th>Region_Africa</th>\n",
              "      <th>Region_Asia</th>\n",
              "      <th>Region_Europe</th>\n",
              "      <th>Region_Latin America &amp; the Caribbean</th>\n",
              "      <th>Region_Northern America</th>\n",
              "      <th>Region_Oceania</th>\n",
              "      <th>Sector_=</th>\n",
              "      <th>Sector_Agriculture</th>\n",
              "      <th>Sector_Automotive</th>\n",
              "      <th>Sector_Aviation</th>\n",
              "      <th>Sector_Chemicals</th>\n",
              "      <th>Sector_Commercial Services</th>\n",
              "      <th>Sector_Computers</th>\n",
              "      <th>Sector_Conglomerates</th>\n",
              "      <th>Sector_Construction</th>\n",
              "      <th>Sector_Construction Materials</th>\n",
              "      <th>Sector_Consumer Durables</th>\n",
              "      <th>Sector_Energy</th>\n",
              "      <th>Sector_Energy Utilities</th>\n",
              "      <th>Sector_Equipment</th>\n",
              "      <th>Sector_Financial Services</th>\n",
              "      <th>Sector_Food and Beverage Products</th>\n",
              "      <th>Sector_Forest and Paper Products</th>\n",
              "      <th>Sector_Healthcare Products</th>\n",
              "      <th>Sector_Healthcare Services</th>\n",
              "      <th>Sector_Household and Personal Products</th>\n",
              "      <th>Sector_Logistics</th>\n",
              "      <th>Sector_Media</th>\n",
              "      <th>Sector_Metals Products</th>\n",
              "      <th>Sector_Mining</th>\n",
              "      <th>Sector_Non-Profit / Services</th>\n",
              "      <th>Sector_Other</th>\n",
              "      <th>Sector_Public Agency</th>\n",
              "      <th>Sector_Railroad</th>\n",
              "      <th>Sector_Real Estate</th>\n",
              "      <th>Sector_Retailers</th>\n",
              "      <th>Sector_Technology Hardware</th>\n",
              "      <th>Sector_Telecommunications</th>\n",
              "      <th>Sector_Textiles and Apparel</th>\n",
              "      <th>Sector_Tobacco</th>\n",
              "      <th>Sector_Tourism/Leisure</th>\n",
              "      <th>Sector_Toys</th>\n",
              "      <th>Sector_Universities</th>\n",
              "      <th>Sector_Waste Management</th>\n",
              "      <th>Sector_Water Utilities</th>\n",
              "      <th>Size_Large</th>\n",
              "      <th>Size_MNE</th>\n",
              "      <th>Size_SME</th>\n",
              "    </tr>\n",
              "  </thead>\n",
              "  <tbody>\n",
              "    <tr>\n",
              "      <th>0</th>\n",
              "      <td>0</td>\n",
              "      <td>0</td>\n",
              "      <td>0</td>\n",
              "      <td>0</td>\n",
              "      <td>0</td>\n",
              "      <td>1</td>\n",
              "      <td>1</td>\n",
              "      <td>0</td>\n",
              "      <td>1</td>\n",
              "      <td>0</td>\n",
              "      <td>1</td>\n",
              "      <td>0</td>\n",
              "      <td>0</td>\n",
              "      <td>0</td>\n",
              "      <td>0</td>\n",
              "      <td>0</td>\n",
              "      <td>0</td>\n",
              "      <td>1</td>\n",
              "      <td>0</td>\n",
              "      <td>0</td>\n",
              "      <td>0</td>\n",
              "      <td>0</td>\n",
              "      <td>0</td>\n",
              "      <td>1</td>\n",
              "      <td>0</td>\n",
              "      <td>0</td>\n",
              "      <td>0</td>\n",
              "      <td>0</td>\n",
              "      <td>0</td>\n",
              "      <td>0</td>\n",
              "      <td>0</td>\n",
              "      <td>0</td>\n",
              "      <td>0</td>\n",
              "      <td>0</td>\n",
              "      <td>0</td>\n",
              "      <td>0</td>\n",
              "      <td>0</td>\n",
              "      <td>0</td>\n",
              "      <td>0</td>\n",
              "      <td>1</td>\n",
              "      <td>0</td>\n",
              "      <td>0</td>\n",
              "      <td>0</td>\n",
              "      <td>0</td>\n",
              "      <td>0</td>\n",
              "      <td>0</td>\n",
              "      <td>0</td>\n",
              "      <td>0</td>\n",
              "      <td>0</td>\n",
              "      <td>0</td>\n",
              "      <td>0</td>\n",
              "      <td>0</td>\n",
              "      <td>0</td>\n",
              "      <td>0</td>\n",
              "      <td>0</td>\n",
              "      <td>0</td>\n",
              "      <td>0</td>\n",
              "      <td>0</td>\n",
              "      <td>0</td>\n",
              "      <td>0</td>\n",
              "      <td>0</td>\n",
              "      <td>0</td>\n",
              "      <td>0</td>\n",
              "      <td>0</td>\n",
              "      <td>0</td>\n",
              "      <td>0</td>\n",
              "      <td>1</td>\n",
              "      <td>0</td>\n",
              "      <td>0</td>\n",
              "    </tr>\n",
              "    <tr>\n",
              "      <th>1</th>\n",
              "      <td>0</td>\n",
              "      <td>0</td>\n",
              "      <td>0</td>\n",
              "      <td>0</td>\n",
              "      <td>0</td>\n",
              "      <td>1</td>\n",
              "      <td>1</td>\n",
              "      <td>0</td>\n",
              "      <td>1</td>\n",
              "      <td>0</td>\n",
              "      <td>1</td>\n",
              "      <td>0</td>\n",
              "      <td>0</td>\n",
              "      <td>0</td>\n",
              "      <td>0</td>\n",
              "      <td>0</td>\n",
              "      <td>0</td>\n",
              "      <td>1</td>\n",
              "      <td>0</td>\n",
              "      <td>0</td>\n",
              "      <td>0</td>\n",
              "      <td>0</td>\n",
              "      <td>0</td>\n",
              "      <td>0</td>\n",
              "      <td>0</td>\n",
              "      <td>1</td>\n",
              "      <td>0</td>\n",
              "      <td>0</td>\n",
              "      <td>0</td>\n",
              "      <td>0</td>\n",
              "      <td>0</td>\n",
              "      <td>0</td>\n",
              "      <td>0</td>\n",
              "      <td>0</td>\n",
              "      <td>0</td>\n",
              "      <td>0</td>\n",
              "      <td>0</td>\n",
              "      <td>0</td>\n",
              "      <td>0</td>\n",
              "      <td>0</td>\n",
              "      <td>0</td>\n",
              "      <td>0</td>\n",
              "      <td>0</td>\n",
              "      <td>0</td>\n",
              "      <td>1</td>\n",
              "      <td>0</td>\n",
              "      <td>0</td>\n",
              "      <td>0</td>\n",
              "      <td>0</td>\n",
              "      <td>0</td>\n",
              "      <td>0</td>\n",
              "      <td>0</td>\n",
              "      <td>0</td>\n",
              "      <td>0</td>\n",
              "      <td>0</td>\n",
              "      <td>0</td>\n",
              "      <td>0</td>\n",
              "      <td>0</td>\n",
              "      <td>0</td>\n",
              "      <td>0</td>\n",
              "      <td>0</td>\n",
              "      <td>0</td>\n",
              "      <td>0</td>\n",
              "      <td>0</td>\n",
              "      <td>0</td>\n",
              "      <td>0</td>\n",
              "      <td>1</td>\n",
              "      <td>0</td>\n",
              "      <td>0</td>\n",
              "    </tr>\n",
              "    <tr>\n",
              "      <th>2</th>\n",
              "      <td>0</td>\n",
              "      <td>0</td>\n",
              "      <td>0</td>\n",
              "      <td>0</td>\n",
              "      <td>0</td>\n",
              "      <td>1</td>\n",
              "      <td>1</td>\n",
              "      <td>0</td>\n",
              "      <td>1</td>\n",
              "      <td>0</td>\n",
              "      <td>0</td>\n",
              "      <td>1</td>\n",
              "      <td>0</td>\n",
              "      <td>0</td>\n",
              "      <td>0</td>\n",
              "      <td>0</td>\n",
              "      <td>0</td>\n",
              "      <td>0</td>\n",
              "      <td>0</td>\n",
              "      <td>0</td>\n",
              "      <td>1</td>\n",
              "      <td>0</td>\n",
              "      <td>0</td>\n",
              "      <td>1</td>\n",
              "      <td>0</td>\n",
              "      <td>0</td>\n",
              "      <td>0</td>\n",
              "      <td>0</td>\n",
              "      <td>0</td>\n",
              "      <td>0</td>\n",
              "      <td>1</td>\n",
              "      <td>0</td>\n",
              "      <td>0</td>\n",
              "      <td>0</td>\n",
              "      <td>0</td>\n",
              "      <td>0</td>\n",
              "      <td>0</td>\n",
              "      <td>0</td>\n",
              "      <td>0</td>\n",
              "      <td>0</td>\n",
              "      <td>0</td>\n",
              "      <td>0</td>\n",
              "      <td>0</td>\n",
              "      <td>0</td>\n",
              "      <td>0</td>\n",
              "      <td>0</td>\n",
              "      <td>0</td>\n",
              "      <td>0</td>\n",
              "      <td>0</td>\n",
              "      <td>0</td>\n",
              "      <td>0</td>\n",
              "      <td>0</td>\n",
              "      <td>0</td>\n",
              "      <td>0</td>\n",
              "      <td>0</td>\n",
              "      <td>0</td>\n",
              "      <td>0</td>\n",
              "      <td>0</td>\n",
              "      <td>0</td>\n",
              "      <td>0</td>\n",
              "      <td>0</td>\n",
              "      <td>0</td>\n",
              "      <td>0</td>\n",
              "      <td>0</td>\n",
              "      <td>0</td>\n",
              "      <td>0</td>\n",
              "      <td>1</td>\n",
              "      <td>0</td>\n",
              "      <td>0</td>\n",
              "    </tr>\n",
              "  </tbody>\n",
              "</table>\n",
              "</div>"
            ],
            "text/plain": [
              "   Country Status_DAC-LDC  Country Status_DAC-LMICT  ...  Size_MNE  Size_SME\n",
              "0                       0                         0  ...         0         0\n",
              "1                       0                         0  ...         0         0\n",
              "2                       0                         0  ...         0         0\n",
              "\n",
              "[3 rows x 69 columns]"
            ]
          },
          "metadata": {
            "tags": []
          }
        },
        {
          "output_type": "display_data",
          "data": {
            "text/plain": [
              "(12490, 69)"
            ]
          },
          "metadata": {
            "tags": []
          }
        }
      ]
    },
    {
      "cell_type": "code",
      "metadata": {
        "id": "5PDr9KW0Yr1B",
        "colab_type": "code",
        "outputId": "20b5593e-35e2-48ff-88c7-99f5910b34ac",
        "colab": {
          "base_uri": "https://localhost:8080/",
          "height": 35
        }
      },
      "source": [
        "target_vector_69 = encoded_target_company.to_numpy(dtype=np.float32, copy=True)\n",
        "target_vector_69.shape"
      ],
      "execution_count": 689,
      "outputs": [
        {
          "output_type": "execute_result",
          "data": {
            "text/plain": [
              "(1, 69)"
            ]
          },
          "metadata": {
            "tags": []
          },
          "execution_count": 689
        }
      ]
    },
    {
      "cell_type": "code",
      "metadata": {
        "id": "0pEAtakLcaRN",
        "colab_type": "code",
        "outputId": "9a68476c-a7d3-4aff-c3b9-0bba27aafa74",
        "colab": {
          "base_uri": "https://localhost:8080/",
          "height": 35
        }
      },
      "source": [
        "other_vectors_69 = encoded_other_companies.to_numpy(dtype=np.float32, copy=True)\n",
        "other_vectors_69.shape"
      ],
      "execution_count": 690,
      "outputs": [
        {
          "output_type": "execute_result",
          "data": {
            "text/plain": [
              "(12490, 69)"
            ]
          },
          "metadata": {
            "tags": []
          },
          "execution_count": 690
        }
      ]
    },
    {
      "cell_type": "markdown",
      "metadata": {
        "id": "ZwB78yHpTECs",
        "colab_type": "text"
      },
      "source": [
        "### Dimension Reduction by Encoder"
      ]
    },
    {
      "cell_type": "code",
      "metadata": {
        "id": "ZeBvIr1_TUiK",
        "colab_type": "code",
        "colab": {}
      },
      "source": [
        "encoder = Encoder(\n",
        "    intermediate_dim=intermediate_dim,\n",
        "    original_dim=original_dim\n",
        ")\n",
        "\n",
        "decoder = Decoder(\n",
        "    intermediate_dim=intermediate_dim,\n",
        "    original_dim=original_dim\n",
        ")"
      ],
      "execution_count": 0,
      "outputs": []
    },
    {
      "cell_type": "code",
      "metadata": {
        "id": "XgZvXganctBW",
        "colab_type": "code",
        "outputId": "667909d4-6293-491c-82d4-e2747a9f2374",
        "colab": {
          "base_uri": "https://localhost:8080/",
          "height": 35
        }
      },
      "source": [
        "# list of 23-dimensions vectors\n",
        "\n",
        "# encode target vector\n",
        "target_vector_23 = encoder(target_vector_69)\n",
        "target_vector_23.shape"
      ],
      "execution_count": 692,
      "outputs": [
        {
          "output_type": "execute_result",
          "data": {
            "text/plain": [
              "TensorShape([1, 23])"
            ]
          },
          "metadata": {
            "tags": []
          },
          "execution_count": 692
        }
      ]
    },
    {
      "cell_type": "code",
      "metadata": {
        "id": "w_oj7lMSnfoh",
        "colab_type": "code",
        "outputId": "b546222d-76db-4a86-a17a-77a9598e47d2",
        "colab": {
          "base_uri": "https://localhost:8080/",
          "height": 35
        }
      },
      "source": [
        "# encode other vectors\n",
        "other_vectors_23 = encoder(other_vectors_69)\n",
        "other_vectors_23.shape"
      ],
      "execution_count": 693,
      "outputs": [
        {
          "output_type": "execute_result",
          "data": {
            "text/plain": [
              "TensorShape([12490, 23])"
            ]
          },
          "metadata": {
            "tags": []
          },
          "execution_count": 693
        }
      ]
    },
    {
      "cell_type": "markdown",
      "metadata": {
        "id": "E-7CBaffTXVR",
        "colab_type": "text"
      },
      "source": [
        "### Calculate the distance between the target vector and other vectors in dataset"
      ]
    },
    {
      "cell_type": "code",
      "metadata": {
        "id": "6I1SqWSXTvLa",
        "colab_type": "code",
        "colab": {}
      },
      "source": [
        "def vector_loss(vector_1, vector_2):\n",
        "    distance_value = np.linalg.norm(vector_1 - vector_2)\n",
        "    return distance_value"
      ],
      "execution_count": 0,
      "outputs": []
    },
    {
      "cell_type": "code",
      "metadata": {
        "id": "HjrRtRbYp7pp",
        "colab_type": "code",
        "outputId": "9f9288d3-a27b-430d-f0ed-3b9e6f804c85",
        "colab": {
          "base_uri": "https://localhost:8080/",
          "height": 472
        }
      },
      "source": [
        "loss_index_dict = {}\n",
        "\n",
        "for index, vector in enumerate(other_vectors_23):\n",
        "    loss_value = vector_loss(vector_1=target_vector_23, vector_2=vector)\n",
        "    loss_index_dict.update({loss_value : index})\n",
        "\n",
        "    if index%1000 == 0:\n",
        "        print('Step:', index)\n",
        "        print(' . Distance: {}'.format(loss_value))"
      ],
      "execution_count": 695,
      "outputs": [
        {
          "output_type": "stream",
          "text": [
            "Step: 0\n",
            " . Distance: 0.2706526815891266\n",
            "Step: 1000\n",
            " . Distance: 0.2629547417163849\n",
            "Step: 2000\n",
            " . Distance: 0.26175427436828613\n",
            "Step: 3000\n",
            " . Distance: 0.17016035318374634\n",
            "Step: 4000\n",
            " . Distance: 0.24755623936653137\n",
            "Step: 5000\n",
            " . Distance: 0.29576238989830017\n",
            "Step: 6000\n",
            " . Distance: 0.33508485555648804\n",
            "Step: 7000\n",
            " . Distance: 0.23701833188533783\n",
            "Step: 8000\n",
            " . Distance: 0.5927746295928955\n",
            "Step: 9000\n",
            " . Distance: 0.39439743757247925\n",
            "Step: 10000\n",
            " . Distance: 0.17016035318374634\n",
            "Step: 11000\n",
            " . Distance: 0.22466495633125305\n",
            "Step: 12000\n",
            " . Distance: 0.31637024879455566\n"
          ],
          "name": "stdout"
        }
      ]
    },
    {
      "cell_type": "markdown",
      "metadata": {
        "id": "NBSV9K6pTv5G",
        "colab_type": "text"
      },
      "source": [
        "### Choose 5 minimum distances (top 5 similar companies)"
      ]
    },
    {
      "cell_type": "code",
      "metadata": {
        "id": "qj-sBmf-tCkp",
        "colab_type": "code",
        "outputId": "fb5fb711-ee06-48c7-9e3f-ee8241fdd2b6",
        "colab": {
          "base_uri": "https://localhost:8080/",
          "height": 122
        }
      },
      "source": [
        "top5_min_dist_idx = sorted(loss_index_dict.items(), key= lambda item: item[0])[:5]\n",
        "print('Top 5 minimum distances with specific steps (distance-step):')\n",
        "for item in top5_min_dist_idx:\n",
        "    print(' . {item}'.format(item=item))"
      ],
      "execution_count": 696,
      "outputs": [
        {
          "output_type": "stream",
          "text": [
            "Top 5 minimum distances with specific steps (distance-step):\n",
            " . (9.424322e-08, 10629)\n",
            " . (0.09044244, 6014)\n",
            " . (0.096435755, 9278)\n",
            " . (0.101429224, 10006)\n",
            " . (0.10160583, 4729)\n"
          ],
          "name": "stdout"
        }
      ]
    },
    {
      "cell_type": "markdown",
      "metadata": {
        "id": "LOnEPst0fon4",
        "colab_type": "text"
      },
      "source": [
        "### Define the index of each vector in the origin dataframe"
      ]
    },
    {
      "cell_type": "code",
      "metadata": {
        "id": "kkKBcm3efnMM",
        "colab_type": "code",
        "outputId": "13ad2c94-be70-43bc-b5fd-e56a1f3fd8f3",
        "colab": {
          "base_uri": "https://localhost:8080/",
          "height": 35
        }
      },
      "source": [
        "# Index value of target vector (given company) in the origin dataframe\n",
        "target_index = target_company.index.values.astype(int)[0]\n",
        "print('Index value of target vector (given company):', target_index)"
      ],
      "execution_count": 697,
      "outputs": [
        {
          "output_type": "stream",
          "text": [
            "Index value of target vector (given company): 23\n"
          ],
          "name": "stdout"
        }
      ]
    },
    {
      "cell_type": "code",
      "metadata": {
        "id": "4vaPQVKpgrpz",
        "colab_type": "code",
        "outputId": "87d83be5-0890-4fa6-e070-db7a16053507",
        "colab": {
          "base_uri": "https://localhost:8080/",
          "height": 122
        }
      },
      "source": [
        "# Index value of top 5 minimum-distance vector (similar companies) in the origin dataframe\n",
        "top5_indexes = []\n",
        "for step in top5_min_dist_idx:\n",
        "    if step[1] >= target_index:\n",
        "        top5_indexes.append(step[1] + 1)\n",
        "    else:\n",
        "        top5_indexes.append(step[1])\n",
        "\n",
        "top5_indexes = sorted(top5_indexes)\n",
        "print('Top 5 similar companies sort by index:')\n",
        "for index in top5_indexes:\n",
        "    print(' . ', index)"
      ],
      "execution_count": 698,
      "outputs": [
        {
          "output_type": "stream",
          "text": [
            "Top 5 similar companies sort by index:\n",
            " .  4730\n",
            " .  6015\n",
            " .  9279\n",
            " .  10007\n",
            " .  10630\n"
          ],
          "name": "stdout"
        }
      ]
    },
    {
      "cell_type": "markdown",
      "metadata": {
        "id": "r0HCUmiMUhbA",
        "colab_type": "text"
      },
      "source": [
        "### Find the information of Top 5"
      ]
    },
    {
      "cell_type": "code",
      "metadata": {
        "id": "eOb6ZugQZ_sl",
        "colab_type": "code",
        "outputId": "e052838f-787e-4969-faf3-f25149ef43b7",
        "colab": {
          "base_uri": "https://localhost:8080/",
          "height": 93
        }
      },
      "source": [
        "given_company = ex1_raw_df.loc[[target_index],:]\n",
        "print('The given company:')\n",
        "given_company"
      ],
      "execution_count": 699,
      "outputs": [
        {
          "output_type": "stream",
          "text": [
            "The given company:\n"
          ],
          "name": "stdout"
        },
        {
          "output_type": "execute_result",
          "data": {
            "text/html": [
              "<div>\n",
              "<style scoped>\n",
              "    .dataframe tbody tr th:only-of-type {\n",
              "        vertical-align: middle;\n",
              "    }\n",
              "\n",
              "    .dataframe tbody tr th {\n",
              "        vertical-align: top;\n",
              "    }\n",
              "\n",
              "    .dataframe thead th {\n",
              "        text-align: right;\n",
              "    }\n",
              "</style>\n",
              "<table border=\"1\" class=\"dataframe\">\n",
              "  <thead>\n",
              "    <tr style=\"text-align: right;\">\n",
              "      <th></th>\n",
              "      <th>index</th>\n",
              "      <th>Country</th>\n",
              "      <th>Country Status</th>\n",
              "      <th>Featured Report?</th>\n",
              "      <th>GOLD Community</th>\n",
              "      <th>Listed/Non-listed</th>\n",
              "      <th>Name</th>\n",
              "      <th>OS</th>\n",
              "      <th>Organization type</th>\n",
              "      <th>Region</th>\n",
              "      <th>Sector</th>\n",
              "      <th>Size</th>\n",
              "      <th>year</th>\n",
              "    </tr>\n",
              "  </thead>\n",
              "  <tbody>\n",
              "    <tr>\n",
              "      <th>23</th>\n",
              "      <td>44805</td>\n",
              "      <td>Japan</td>\n",
              "      <td>OECD</td>\n",
              "      <td>No</td>\n",
              "      <td>No</td>\n",
              "      <td>Listed</td>\n",
              "      <td>FUJIFILM Holdings Corporation</td>\n",
              "      <td>No</td>\n",
              "      <td>Private company</td>\n",
              "      <td>Asia</td>\n",
              "      <td>Conglomerates</td>\n",
              "      <td>Large</td>\n",
              "      <td>2017,2016,2015,2014,2013,2012,2011,2010,2009,2...</td>\n",
              "    </tr>\n",
              "  </tbody>\n",
              "</table>\n",
              "</div>"
            ],
            "text/plain": [
              "    index Country  ...   Size                                               year\n",
              "23  44805   Japan  ...  Large  2017,2016,2015,2014,2013,2012,2011,2010,2009,2...\n",
              "\n",
              "[1 rows x 13 columns]"
            ]
          },
          "metadata": {
            "tags": []
          },
          "execution_count": 699
        }
      ]
    },
    {
      "cell_type": "code",
      "metadata": {
        "id": "qsgZkbotTDfs",
        "colab_type": "code",
        "outputId": "a86bcf61-5147-492d-c9b9-eab93f28bcd1",
        "colab": {
          "base_uri": "https://localhost:8080/",
          "height": 208
        }
      },
      "source": [
        "# seleceted features (sf)\n",
        "top5_similar_companies_sf = features_dataframe.iloc[top5_indexes,:ncolumns_data]\n",
        "print('Top 5 similar companies (selected features):')\n",
        "top5_similar_companies_sf"
      ],
      "execution_count": 700,
      "outputs": [
        {
          "output_type": "stream",
          "text": [
            "Top 5 similar companies (selected features):\n"
          ],
          "name": "stdout"
        },
        {
          "output_type": "execute_result",
          "data": {
            "text/html": [
              "<div>\n",
              "<style scoped>\n",
              "    .dataframe tbody tr th:only-of-type {\n",
              "        vertical-align: middle;\n",
              "    }\n",
              "\n",
              "    .dataframe tbody tr th {\n",
              "        vertical-align: top;\n",
              "    }\n",
              "\n",
              "    .dataframe thead th {\n",
              "        text-align: right;\n",
              "    }\n",
              "</style>\n",
              "<table border=\"1\" class=\"dataframe\">\n",
              "  <thead>\n",
              "    <tr style=\"text-align: right;\">\n",
              "      <th></th>\n",
              "      <th>Country Status</th>\n",
              "      <th>Featured Report?</th>\n",
              "      <th>GOLD Community</th>\n",
              "      <th>Listed/Non-listed</th>\n",
              "      <th>Organization type</th>\n",
              "      <th>Region</th>\n",
              "      <th>Sector</th>\n",
              "      <th>Size</th>\n",
              "    </tr>\n",
              "  </thead>\n",
              "  <tbody>\n",
              "    <tr>\n",
              "      <th>4730</th>\n",
              "      <td>OECD</td>\n",
              "      <td>No</td>\n",
              "      <td>No</td>\n",
              "      <td>Listed</td>\n",
              "      <td>Subsidiary</td>\n",
              "      <td>Asia</td>\n",
              "      <td>Construction</td>\n",
              "      <td>Large</td>\n",
              "    </tr>\n",
              "    <tr>\n",
              "      <th>6015</th>\n",
              "      <td>OECD</td>\n",
              "      <td>No</td>\n",
              "      <td>No</td>\n",
              "      <td>Listed</td>\n",
              "      <td>Private company</td>\n",
              "      <td>Asia</td>\n",
              "      <td>Healthcare Services</td>\n",
              "      <td>Large</td>\n",
              "    </tr>\n",
              "    <tr>\n",
              "      <th>9279</th>\n",
              "      <td>OECD</td>\n",
              "      <td>No</td>\n",
              "      <td>No</td>\n",
              "      <td>Listed</td>\n",
              "      <td>Private company</td>\n",
              "      <td>Asia</td>\n",
              "      <td>Food and Beverage Products</td>\n",
              "      <td>Large</td>\n",
              "    </tr>\n",
              "    <tr>\n",
              "      <th>10007</th>\n",
              "      <td>Non-OECD / Non-DAC</td>\n",
              "      <td>No</td>\n",
              "      <td>No</td>\n",
              "      <td>Listed</td>\n",
              "      <td>State-owned company</td>\n",
              "      <td>Asia</td>\n",
              "      <td>Public Agency</td>\n",
              "      <td>Large</td>\n",
              "    </tr>\n",
              "    <tr>\n",
              "      <th>10630</th>\n",
              "      <td>OECD</td>\n",
              "      <td>No</td>\n",
              "      <td>No</td>\n",
              "      <td>Listed</td>\n",
              "      <td>Private company</td>\n",
              "      <td>Asia</td>\n",
              "      <td>Conglomerates</td>\n",
              "      <td>Large</td>\n",
              "    </tr>\n",
              "  </tbody>\n",
              "</table>\n",
              "</div>"
            ],
            "text/plain": [
              "           Country Status Featured Report?  ...                      Sector   Size\n",
              "4730                 OECD               No  ...                Construction  Large\n",
              "6015                 OECD               No  ...         Healthcare Services  Large\n",
              "9279                 OECD               No  ...  Food and Beverage Products  Large\n",
              "10007  Non-OECD / Non-DAC               No  ...               Public Agency  Large\n",
              "10630                OECD               No  ...               Conglomerates  Large\n",
              "\n",
              "[5 rows x 8 columns]"
            ]
          },
          "metadata": {
            "tags": []
          },
          "execution_count": 700
        }
      ]
    },
    {
      "cell_type": "code",
      "metadata": {
        "id": "gZUpMxnmmTiT",
        "colab_type": "code",
        "outputId": "25e7d28c-bd14-4a36-9ec3-92a48409f816",
        "colab": {
          "base_uri": "https://localhost:8080/",
          "height": 208
        }
      },
      "source": [
        "# full features (ff)\n",
        "top5_similar_companies_ff = ex1_raw_df.loc[top5_indexes,:]\n",
        "print('Top 5 similar companies (full features):')\n",
        "top5_similar_companies_ff"
      ],
      "execution_count": 701,
      "outputs": [
        {
          "output_type": "stream",
          "text": [
            "Top 5 similar companies (full features):\n"
          ],
          "name": "stdout"
        },
        {
          "output_type": "execute_result",
          "data": {
            "text/html": [
              "<div>\n",
              "<style scoped>\n",
              "    .dataframe tbody tr th:only-of-type {\n",
              "        vertical-align: middle;\n",
              "    }\n",
              "\n",
              "    .dataframe tbody tr th {\n",
              "        vertical-align: top;\n",
              "    }\n",
              "\n",
              "    .dataframe thead th {\n",
              "        text-align: right;\n",
              "    }\n",
              "</style>\n",
              "<table border=\"1\" class=\"dataframe\">\n",
              "  <thead>\n",
              "    <tr style=\"text-align: right;\">\n",
              "      <th></th>\n",
              "      <th>index</th>\n",
              "      <th>Country</th>\n",
              "      <th>Country Status</th>\n",
              "      <th>Featured Report?</th>\n",
              "      <th>GOLD Community</th>\n",
              "      <th>Listed/Non-listed</th>\n",
              "      <th>Name</th>\n",
              "      <th>OS</th>\n",
              "      <th>Organization type</th>\n",
              "      <th>Region</th>\n",
              "      <th>Sector</th>\n",
              "      <th>Size</th>\n",
              "      <th>year</th>\n",
              "    </tr>\n",
              "  </thead>\n",
              "  <tbody>\n",
              "    <tr>\n",
              "      <th>4730</th>\n",
              "      <td>48115</td>\n",
              "      <td>Japan</td>\n",
              "      <td>OECD</td>\n",
              "      <td>No</td>\n",
              "      <td>No</td>\n",
              "      <td>Listed</td>\n",
              "      <td>Takasago Thermal Engineering</td>\n",
              "      <td>No</td>\n",
              "      <td>Subsidiary</td>\n",
              "      <td>Asia</td>\n",
              "      <td>Construction</td>\n",
              "      <td>Large</td>\n",
              "      <td>2017,2016,2015,2014,2013,2012,2011</td>\n",
              "    </tr>\n",
              "    <tr>\n",
              "      <th>6015</th>\n",
              "      <td>40915</td>\n",
              "      <td>Japan</td>\n",
              "      <td>OECD</td>\n",
              "      <td>No</td>\n",
              "      <td>No</td>\n",
              "      <td>Listed</td>\n",
              "      <td>Shionogi</td>\n",
              "      <td>No</td>\n",
              "      <td>Private company</td>\n",
              "      <td>Asia</td>\n",
              "      <td>Healthcare Services</td>\n",
              "      <td>Large</td>\n",
              "      <td>2016,2015,2014,2013,2012</td>\n",
              "    </tr>\n",
              "    <tr>\n",
              "      <th>9279</th>\n",
              "      <td>40031</td>\n",
              "      <td>Israel</td>\n",
              "      <td>OECD</td>\n",
              "      <td>No</td>\n",
              "      <td>No</td>\n",
              "      <td>Listed</td>\n",
              "      <td>Osem Group</td>\n",
              "      <td>No</td>\n",
              "      <td>Private company</td>\n",
              "      <td>Asia</td>\n",
              "      <td>Food and Beverage Products</td>\n",
              "      <td>Large</td>\n",
              "      <td>2016,2015</td>\n",
              "    </tr>\n",
              "    <tr>\n",
              "      <th>10007</th>\n",
              "      <td>37352</td>\n",
              "      <td>United Arab Emirates</td>\n",
              "      <td>Non-OECD / Non-DAC</td>\n",
              "      <td>No</td>\n",
              "      <td>No</td>\n",
              "      <td>Listed</td>\n",
              "      <td>Dubai Police General Headquarters</td>\n",
              "      <td>No</td>\n",
              "      <td>State-owned company</td>\n",
              "      <td>Asia</td>\n",
              "      <td>Public Agency</td>\n",
              "      <td>Large</td>\n",
              "      <td>2016</td>\n",
              "    </tr>\n",
              "    <tr>\n",
              "      <th>10630</th>\n",
              "      <td>47762</td>\n",
              "      <td>Korea, Republic of</td>\n",
              "      <td>OECD</td>\n",
              "      <td>No</td>\n",
              "      <td>No</td>\n",
              "      <td>Listed</td>\n",
              "      <td>SK Holdings</td>\n",
              "      <td>No</td>\n",
              "      <td>Private company</td>\n",
              "      <td>Asia</td>\n",
              "      <td>Conglomerates</td>\n",
              "      <td>Large</td>\n",
              "      <td>2017,2016</td>\n",
              "    </tr>\n",
              "  </tbody>\n",
              "</table>\n",
              "</div>"
            ],
            "text/plain": [
              "       index               Country  ...   Size                                year\n",
              "4730   48115                 Japan  ...  Large  2017,2016,2015,2014,2013,2012,2011\n",
              "6015   40915                 Japan  ...  Large            2016,2015,2014,2013,2012\n",
              "9279   40031                Israel  ...  Large                           2016,2015\n",
              "10007  37352  United Arab Emirates  ...  Large                                2016\n",
              "10630  47762    Korea, Republic of  ...  Large                           2017,2016\n",
              "\n",
              "[5 rows x 13 columns]"
            ]
          },
          "metadata": {
            "tags": []
          },
          "execution_count": 701
        }
      ]
    },
    {
      "cell_type": "code",
      "metadata": {
        "id": "JRwbAPHrn2a6",
        "colab_type": "code",
        "colab": {}
      },
      "source": [
        ""
      ],
      "execution_count": 0,
      "outputs": []
    },
    {
      "cell_type": "markdown",
      "metadata": {
        "id": "TIQApN_Qxo2f",
        "colab_type": "text"
      },
      "source": [
        "## 2. Improve on the company encoder by using more features or use a different architecture to improve performance of the Top 5 similar company API."
      ]
    },
    {
      "cell_type": "markdown",
      "metadata": {
        "id": "Wfhu1oumCmol",
        "colab_type": "text"
      },
      "source": [
        "### Get new datasets of the given company and the rest"
      ]
    },
    {
      "cell_type": "code",
      "metadata": {
        "id": "0SkxsWZvcfH1",
        "colab_type": "code",
        "outputId": "5d34ac1d-5cbf-44ae-e43e-60ccbc1348b7",
        "colab": {
          "base_uri": "https://localhost:8080/",
          "height": 248
        }
      },
      "source": [
        "# preview target company\n",
        "target_company_2, prv_target_company_2, encoded_target_company_2, prv_encoded_target_company_2 = get_code_df(target_company_df.copy(), get_type='filter', exercise='Exercise 2')\n",
        "display(prv_target_company_2, prv_encoded_target_company_2, encoded_target_company_2.shape)"
      ],
      "execution_count": 702,
      "outputs": [
        {
          "output_type": "display_data",
          "data": {
            "text/html": [
              "<div>\n",
              "<style scoped>\n",
              "    .dataframe tbody tr th:only-of-type {\n",
              "        vertical-align: middle;\n",
              "    }\n",
              "\n",
              "    .dataframe tbody tr th {\n",
              "        vertical-align: top;\n",
              "    }\n",
              "\n",
              "    .dataframe thead th {\n",
              "        text-align: right;\n",
              "    }\n",
              "</style>\n",
              "<table border=\"1\" class=\"dataframe\">\n",
              "  <thead>\n",
              "    <tr style=\"text-align: right;\">\n",
              "      <th></th>\n",
              "      <th>Country</th>\n",
              "      <th>Country Status</th>\n",
              "      <th>Featured Report?</th>\n",
              "      <th>GOLD Community</th>\n",
              "      <th>Listed/Non-listed</th>\n",
              "      <th>OS</th>\n",
              "      <th>Organization type</th>\n",
              "      <th>Region</th>\n",
              "      <th>Sector</th>\n",
              "      <th>Size</th>\n",
              "    </tr>\n",
              "  </thead>\n",
              "  <tbody>\n",
              "    <tr>\n",
              "      <th>23</th>\n",
              "      <td>Japan</td>\n",
              "      <td>OECD</td>\n",
              "      <td>No</td>\n",
              "      <td>No</td>\n",
              "      <td>Listed</td>\n",
              "      <td>No</td>\n",
              "      <td>Private company</td>\n",
              "      <td>Asia</td>\n",
              "      <td>Conglomerates</td>\n",
              "      <td>Large</td>\n",
              "    </tr>\n",
              "  </tbody>\n",
              "</table>\n",
              "</div>"
            ],
            "text/plain": [
              "   Country Country Status Featured Report?  ... Region         Sector   Size\n",
              "23   Japan           OECD               No  ...   Asia  Conglomerates  Large\n",
              "\n",
              "[1 rows x 10 columns]"
            ]
          },
          "metadata": {
            "tags": []
          }
        },
        {
          "output_type": "display_data",
          "data": {
            "text/html": [
              "<div>\n",
              "<style scoped>\n",
              "    .dataframe tbody tr th:only-of-type {\n",
              "        vertical-align: middle;\n",
              "    }\n",
              "\n",
              "    .dataframe tbody tr th {\n",
              "        vertical-align: top;\n",
              "    }\n",
              "\n",
              "    .dataframe thead th {\n",
              "        text-align: right;\n",
              "    }\n",
              "</style>\n",
              "<table border=\"1\" class=\"dataframe\">\n",
              "  <thead>\n",
              "    <tr style=\"text-align: right;\">\n",
              "      <th></th>\n",
              "      <th>Country_Albania</th>\n",
              "      <th>Country_Andorra</th>\n",
              "      <th>Country_Angola</th>\n",
              "      <th>Country_Argentina</th>\n",
              "      <th>Country_Australia</th>\n",
              "      <th>Country_Austria</th>\n",
              "      <th>Country_Bahrain</th>\n",
              "      <th>Country_Bangladesh</th>\n",
              "      <th>Country_Belarus</th>\n",
              "      <th>Country_Belgium</th>\n",
              "      <th>Country_Bermuda</th>\n",
              "      <th>Country_Bolivia</th>\n",
              "      <th>Country_Botswana</th>\n",
              "      <th>Country_Brazil</th>\n",
              "      <th>Country_Bulgaria</th>\n",
              "      <th>Country_Burkina Faso</th>\n",
              "      <th>Country_Burundi</th>\n",
              "      <th>Country_Cambodia</th>\n",
              "      <th>Country_Cameroon</th>\n",
              "      <th>Country_Canada</th>\n",
              "      <th>Country_Cape Verde</th>\n",
              "      <th>Country_Cayman Islands</th>\n",
              "      <th>Country_Channel Islands</th>\n",
              "      <th>Country_Chile</th>\n",
              "      <th>Country_Colombia</th>\n",
              "      <th>Country_Costa Rica</th>\n",
              "      <th>Country_Croatia</th>\n",
              "      <th>Country_Cyprus</th>\n",
              "      <th>Country_Czech Republic</th>\n",
              "      <th>Country_Côte d'Ivoire</th>\n",
              "      <th>Country_Denmark</th>\n",
              "      <th>Country_Dominican Republic</th>\n",
              "      <th>Country_Ecuador</th>\n",
              "      <th>Country_Egypt</th>\n",
              "      <th>Country_El Salvador</th>\n",
              "      <th>Country_Estonia</th>\n",
              "      <th>Country_Ethiopia</th>\n",
              "      <th>Country_Finland</th>\n",
              "      <th>Country_France</th>\n",
              "      <th>Country_Gabon</th>\n",
              "      <th>...</th>\n",
              "      <th>Sector_Automotive</th>\n",
              "      <th>Sector_Aviation</th>\n",
              "      <th>Sector_Chemicals</th>\n",
              "      <th>Sector_Commercial Services</th>\n",
              "      <th>Sector_Computers</th>\n",
              "      <th>Sector_Conglomerates</th>\n",
              "      <th>Sector_Construction</th>\n",
              "      <th>Sector_Construction Materials</th>\n",
              "      <th>Sector_Consumer Durables</th>\n",
              "      <th>Sector_Energy</th>\n",
              "      <th>Sector_Energy Utilities</th>\n",
              "      <th>Sector_Equipment</th>\n",
              "      <th>Sector_Financial Services</th>\n",
              "      <th>Sector_Food and Beverage Products</th>\n",
              "      <th>Sector_Forest and Paper Products</th>\n",
              "      <th>Sector_Healthcare Products</th>\n",
              "      <th>Sector_Healthcare Services</th>\n",
              "      <th>Sector_Household and Personal Products</th>\n",
              "      <th>Sector_Logistics</th>\n",
              "      <th>Sector_Media</th>\n",
              "      <th>Sector_Metals Products</th>\n",
              "      <th>Sector_Mining</th>\n",
              "      <th>Sector_Non-Profit / Services</th>\n",
              "      <th>Sector_Other</th>\n",
              "      <th>Sector_Public Agency</th>\n",
              "      <th>Sector_Railroad</th>\n",
              "      <th>Sector_Real Estate</th>\n",
              "      <th>Sector_Retailers</th>\n",
              "      <th>Sector_Technology Hardware</th>\n",
              "      <th>Sector_Telecommunications</th>\n",
              "      <th>Sector_Textiles and Apparel</th>\n",
              "      <th>Sector_Tobacco</th>\n",
              "      <th>Sector_Tourism/Leisure</th>\n",
              "      <th>Sector_Toys</th>\n",
              "      <th>Sector_Universities</th>\n",
              "      <th>Sector_Waste Management</th>\n",
              "      <th>Sector_Water Utilities</th>\n",
              "      <th>Size_Large</th>\n",
              "      <th>Size_MNE</th>\n",
              "      <th>Size_SME</th>\n",
              "    </tr>\n",
              "  </thead>\n",
              "  <tbody>\n",
              "    <tr>\n",
              "      <th>23</th>\n",
              "      <td>0</td>\n",
              "      <td>0</td>\n",
              "      <td>0</td>\n",
              "      <td>0</td>\n",
              "      <td>0</td>\n",
              "      <td>0</td>\n",
              "      <td>0</td>\n",
              "      <td>0</td>\n",
              "      <td>0</td>\n",
              "      <td>0</td>\n",
              "      <td>0</td>\n",
              "      <td>0</td>\n",
              "      <td>0</td>\n",
              "      <td>0</td>\n",
              "      <td>0</td>\n",
              "      <td>0</td>\n",
              "      <td>0</td>\n",
              "      <td>0</td>\n",
              "      <td>0</td>\n",
              "      <td>0</td>\n",
              "      <td>0</td>\n",
              "      <td>0</td>\n",
              "      <td>0</td>\n",
              "      <td>0</td>\n",
              "      <td>0</td>\n",
              "      <td>0</td>\n",
              "      <td>0</td>\n",
              "      <td>0</td>\n",
              "      <td>0</td>\n",
              "      <td>0</td>\n",
              "      <td>0</td>\n",
              "      <td>0</td>\n",
              "      <td>0</td>\n",
              "      <td>0</td>\n",
              "      <td>0</td>\n",
              "      <td>0</td>\n",
              "      <td>0</td>\n",
              "      <td>0</td>\n",
              "      <td>0</td>\n",
              "      <td>0</td>\n",
              "      <td>...</td>\n",
              "      <td>0</td>\n",
              "      <td>0</td>\n",
              "      <td>0</td>\n",
              "      <td>0</td>\n",
              "      <td>0</td>\n",
              "      <td>1</td>\n",
              "      <td>0</td>\n",
              "      <td>0</td>\n",
              "      <td>0</td>\n",
              "      <td>0</td>\n",
              "      <td>0</td>\n",
              "      <td>0</td>\n",
              "      <td>0</td>\n",
              "      <td>0</td>\n",
              "      <td>0</td>\n",
              "      <td>0</td>\n",
              "      <td>0</td>\n",
              "      <td>0</td>\n",
              "      <td>0</td>\n",
              "      <td>0</td>\n",
              "      <td>0</td>\n",
              "      <td>0</td>\n",
              "      <td>0</td>\n",
              "      <td>0</td>\n",
              "      <td>0</td>\n",
              "      <td>0</td>\n",
              "      <td>0</td>\n",
              "      <td>0</td>\n",
              "      <td>0</td>\n",
              "      <td>0</td>\n",
              "      <td>0</td>\n",
              "      <td>0</td>\n",
              "      <td>0</td>\n",
              "      <td>0</td>\n",
              "      <td>0</td>\n",
              "      <td>0</td>\n",
              "      <td>0</td>\n",
              "      <td>1</td>\n",
              "      <td>0</td>\n",
              "      <td>0</td>\n",
              "    </tr>\n",
              "  </tbody>\n",
              "</table>\n",
              "<p>1 rows × 201 columns</p>\n",
              "</div>"
            ],
            "text/plain": [
              "    Country_Albania  Country_Andorra  ...  Size_MNE  Size_SME\n",
              "23                0                0  ...         0         0\n",
              "\n",
              "[1 rows x 201 columns]"
            ]
          },
          "metadata": {
            "tags": []
          }
        },
        {
          "output_type": "display_data",
          "data": {
            "text/plain": [
              "(1, 201)"
            ]
          },
          "metadata": {
            "tags": []
          }
        }
      ]
    },
    {
      "cell_type": "code",
      "metadata": {
        "id": "Lph68cWzCKtW",
        "colab_type": "code",
        "outputId": "b123a603-2555-4700-d209-9ce3b4885dc4",
        "colab": {
          "base_uri": "https://localhost:8080/",
          "height": 363
        }
      },
      "source": [
        "# preview other companies\n",
        "other_companies_2, prv_other_companies_2, encoded_other_companies_2, prv_encoded_other_companies_2, df_for_last_step_2 = get_code_df(other_companies_df.copy(), get_type='one-hot', exercise='Exercise 2')\n",
        "display(prv_other_companies_2, prv_encoded_other_companies_2, encoded_other_companies_2.shape)"
      ],
      "execution_count": 703,
      "outputs": [
        {
          "output_type": "display_data",
          "data": {
            "text/html": [
              "<div>\n",
              "<style scoped>\n",
              "    .dataframe tbody tr th:only-of-type {\n",
              "        vertical-align: middle;\n",
              "    }\n",
              "\n",
              "    .dataframe tbody tr th {\n",
              "        vertical-align: top;\n",
              "    }\n",
              "\n",
              "    .dataframe thead th {\n",
              "        text-align: right;\n",
              "    }\n",
              "</style>\n",
              "<table border=\"1\" class=\"dataframe\">\n",
              "  <thead>\n",
              "    <tr style=\"text-align: right;\">\n",
              "      <th></th>\n",
              "      <th>Country</th>\n",
              "      <th>Country Status</th>\n",
              "      <th>Featured Report?</th>\n",
              "      <th>GOLD Community</th>\n",
              "      <th>Listed/Non-listed</th>\n",
              "      <th>OS</th>\n",
              "      <th>Organization type</th>\n",
              "      <th>Region</th>\n",
              "      <th>Sector</th>\n",
              "      <th>Size</th>\n",
              "    </tr>\n",
              "  </thead>\n",
              "  <tbody>\n",
              "    <tr>\n",
              "      <th>0</th>\n",
              "      <td>Italy</td>\n",
              "      <td>OECD</td>\n",
              "      <td>No</td>\n",
              "      <td>No</td>\n",
              "      <td>Listed</td>\n",
              "      <td>No</td>\n",
              "      <td>Private company</td>\n",
              "      <td>Europe</td>\n",
              "      <td>Energy Utilities</td>\n",
              "      <td>Large</td>\n",
              "    </tr>\n",
              "    <tr>\n",
              "      <th>1</th>\n",
              "      <td>United States of America</td>\n",
              "      <td>OECD</td>\n",
              "      <td>No</td>\n",
              "      <td>No</td>\n",
              "      <td>Listed</td>\n",
              "      <td>No</td>\n",
              "      <td>Private company</td>\n",
              "      <td>Northern America</td>\n",
              "      <td>Healthcare Products</td>\n",
              "      <td>Large</td>\n",
              "    </tr>\n",
              "    <tr>\n",
              "      <th>2</th>\n",
              "      <td>United Kingdom of Great Britain and Northern I...</td>\n",
              "      <td>OECD</td>\n",
              "      <td>No</td>\n",
              "      <td>No</td>\n",
              "      <td>Non-listed</td>\n",
              "      <td>No</td>\n",
              "      <td>Subsidiary</td>\n",
              "      <td>Europe</td>\n",
              "      <td>Aviation</td>\n",
              "      <td>Large</td>\n",
              "    </tr>\n",
              "  </tbody>\n",
              "</table>\n",
              "</div>"
            ],
            "text/plain": [
              "                                             Country  ...   Size\n",
              "0                                              Italy  ...  Large\n",
              "1                           United States of America  ...  Large\n",
              "2  United Kingdom of Great Britain and Northern I...  ...  Large\n",
              "\n",
              "[3 rows x 10 columns]"
            ]
          },
          "metadata": {
            "tags": []
          }
        },
        {
          "output_type": "display_data",
          "data": {
            "text/html": [
              "<div>\n",
              "<style scoped>\n",
              "    .dataframe tbody tr th:only-of-type {\n",
              "        vertical-align: middle;\n",
              "    }\n",
              "\n",
              "    .dataframe tbody tr th {\n",
              "        vertical-align: top;\n",
              "    }\n",
              "\n",
              "    .dataframe thead th {\n",
              "        text-align: right;\n",
              "    }\n",
              "</style>\n",
              "<table border=\"1\" class=\"dataframe\">\n",
              "  <thead>\n",
              "    <tr style=\"text-align: right;\">\n",
              "      <th></th>\n",
              "      <th>Country_Albania</th>\n",
              "      <th>Country_Andorra</th>\n",
              "      <th>Country_Angola</th>\n",
              "      <th>Country_Argentina</th>\n",
              "      <th>Country_Australia</th>\n",
              "      <th>Country_Austria</th>\n",
              "      <th>Country_Bahrain</th>\n",
              "      <th>Country_Bangladesh</th>\n",
              "      <th>Country_Belarus</th>\n",
              "      <th>Country_Belgium</th>\n",
              "      <th>Country_Bermuda</th>\n",
              "      <th>Country_Bolivia</th>\n",
              "      <th>Country_Botswana</th>\n",
              "      <th>Country_Brazil</th>\n",
              "      <th>Country_Bulgaria</th>\n",
              "      <th>Country_Burkina Faso</th>\n",
              "      <th>Country_Burundi</th>\n",
              "      <th>Country_Cambodia</th>\n",
              "      <th>Country_Cameroon</th>\n",
              "      <th>Country_Canada</th>\n",
              "      <th>Country_Cape Verde</th>\n",
              "      <th>Country_Cayman Islands</th>\n",
              "      <th>Country_Channel Islands</th>\n",
              "      <th>Country_Chile</th>\n",
              "      <th>Country_Colombia</th>\n",
              "      <th>Country_Costa Rica</th>\n",
              "      <th>Country_Croatia</th>\n",
              "      <th>Country_Cyprus</th>\n",
              "      <th>Country_Czech Republic</th>\n",
              "      <th>Country_Côte d'Ivoire</th>\n",
              "      <th>Country_Denmark</th>\n",
              "      <th>Country_Dominican Republic</th>\n",
              "      <th>Country_Ecuador</th>\n",
              "      <th>Country_Egypt</th>\n",
              "      <th>Country_El Salvador</th>\n",
              "      <th>Country_Estonia</th>\n",
              "      <th>Country_Ethiopia</th>\n",
              "      <th>Country_Finland</th>\n",
              "      <th>Country_France</th>\n",
              "      <th>Country_Gabon</th>\n",
              "      <th>...</th>\n",
              "      <th>Sector_Automotive</th>\n",
              "      <th>Sector_Aviation</th>\n",
              "      <th>Sector_Chemicals</th>\n",
              "      <th>Sector_Commercial Services</th>\n",
              "      <th>Sector_Computers</th>\n",
              "      <th>Sector_Conglomerates</th>\n",
              "      <th>Sector_Construction</th>\n",
              "      <th>Sector_Construction Materials</th>\n",
              "      <th>Sector_Consumer Durables</th>\n",
              "      <th>Sector_Energy</th>\n",
              "      <th>Sector_Energy Utilities</th>\n",
              "      <th>Sector_Equipment</th>\n",
              "      <th>Sector_Financial Services</th>\n",
              "      <th>Sector_Food and Beverage Products</th>\n",
              "      <th>Sector_Forest and Paper Products</th>\n",
              "      <th>Sector_Healthcare Products</th>\n",
              "      <th>Sector_Healthcare Services</th>\n",
              "      <th>Sector_Household and Personal Products</th>\n",
              "      <th>Sector_Logistics</th>\n",
              "      <th>Sector_Media</th>\n",
              "      <th>Sector_Metals Products</th>\n",
              "      <th>Sector_Mining</th>\n",
              "      <th>Sector_Non-Profit / Services</th>\n",
              "      <th>Sector_Other</th>\n",
              "      <th>Sector_Public Agency</th>\n",
              "      <th>Sector_Railroad</th>\n",
              "      <th>Sector_Real Estate</th>\n",
              "      <th>Sector_Retailers</th>\n",
              "      <th>Sector_Technology Hardware</th>\n",
              "      <th>Sector_Telecommunications</th>\n",
              "      <th>Sector_Textiles and Apparel</th>\n",
              "      <th>Sector_Tobacco</th>\n",
              "      <th>Sector_Tourism/Leisure</th>\n",
              "      <th>Sector_Toys</th>\n",
              "      <th>Sector_Universities</th>\n",
              "      <th>Sector_Waste Management</th>\n",
              "      <th>Sector_Water Utilities</th>\n",
              "      <th>Size_Large</th>\n",
              "      <th>Size_MNE</th>\n",
              "      <th>Size_SME</th>\n",
              "    </tr>\n",
              "  </thead>\n",
              "  <tbody>\n",
              "    <tr>\n",
              "      <th>0</th>\n",
              "      <td>0</td>\n",
              "      <td>0</td>\n",
              "      <td>0</td>\n",
              "      <td>0</td>\n",
              "      <td>0</td>\n",
              "      <td>0</td>\n",
              "      <td>0</td>\n",
              "      <td>0</td>\n",
              "      <td>0</td>\n",
              "      <td>0</td>\n",
              "      <td>0</td>\n",
              "      <td>0</td>\n",
              "      <td>0</td>\n",
              "      <td>0</td>\n",
              "      <td>0</td>\n",
              "      <td>0</td>\n",
              "      <td>0</td>\n",
              "      <td>0</td>\n",
              "      <td>0</td>\n",
              "      <td>0</td>\n",
              "      <td>0</td>\n",
              "      <td>0</td>\n",
              "      <td>0</td>\n",
              "      <td>0</td>\n",
              "      <td>0</td>\n",
              "      <td>0</td>\n",
              "      <td>0</td>\n",
              "      <td>0</td>\n",
              "      <td>0</td>\n",
              "      <td>0</td>\n",
              "      <td>0</td>\n",
              "      <td>0</td>\n",
              "      <td>0</td>\n",
              "      <td>0</td>\n",
              "      <td>0</td>\n",
              "      <td>0</td>\n",
              "      <td>0</td>\n",
              "      <td>0</td>\n",
              "      <td>0</td>\n",
              "      <td>0</td>\n",
              "      <td>...</td>\n",
              "      <td>0</td>\n",
              "      <td>0</td>\n",
              "      <td>0</td>\n",
              "      <td>0</td>\n",
              "      <td>0</td>\n",
              "      <td>0</td>\n",
              "      <td>0</td>\n",
              "      <td>0</td>\n",
              "      <td>0</td>\n",
              "      <td>0</td>\n",
              "      <td>1</td>\n",
              "      <td>0</td>\n",
              "      <td>0</td>\n",
              "      <td>0</td>\n",
              "      <td>0</td>\n",
              "      <td>0</td>\n",
              "      <td>0</td>\n",
              "      <td>0</td>\n",
              "      <td>0</td>\n",
              "      <td>0</td>\n",
              "      <td>0</td>\n",
              "      <td>0</td>\n",
              "      <td>0</td>\n",
              "      <td>0</td>\n",
              "      <td>0</td>\n",
              "      <td>0</td>\n",
              "      <td>0</td>\n",
              "      <td>0</td>\n",
              "      <td>0</td>\n",
              "      <td>0</td>\n",
              "      <td>0</td>\n",
              "      <td>0</td>\n",
              "      <td>0</td>\n",
              "      <td>0</td>\n",
              "      <td>0</td>\n",
              "      <td>0</td>\n",
              "      <td>0</td>\n",
              "      <td>1</td>\n",
              "      <td>0</td>\n",
              "      <td>0</td>\n",
              "    </tr>\n",
              "    <tr>\n",
              "      <th>1</th>\n",
              "      <td>0</td>\n",
              "      <td>0</td>\n",
              "      <td>0</td>\n",
              "      <td>0</td>\n",
              "      <td>0</td>\n",
              "      <td>0</td>\n",
              "      <td>0</td>\n",
              "      <td>0</td>\n",
              "      <td>0</td>\n",
              "      <td>0</td>\n",
              "      <td>0</td>\n",
              "      <td>0</td>\n",
              "      <td>0</td>\n",
              "      <td>0</td>\n",
              "      <td>0</td>\n",
              "      <td>0</td>\n",
              "      <td>0</td>\n",
              "      <td>0</td>\n",
              "      <td>0</td>\n",
              "      <td>0</td>\n",
              "      <td>0</td>\n",
              "      <td>0</td>\n",
              "      <td>0</td>\n",
              "      <td>0</td>\n",
              "      <td>0</td>\n",
              "      <td>0</td>\n",
              "      <td>0</td>\n",
              "      <td>0</td>\n",
              "      <td>0</td>\n",
              "      <td>0</td>\n",
              "      <td>0</td>\n",
              "      <td>0</td>\n",
              "      <td>0</td>\n",
              "      <td>0</td>\n",
              "      <td>0</td>\n",
              "      <td>0</td>\n",
              "      <td>0</td>\n",
              "      <td>0</td>\n",
              "      <td>0</td>\n",
              "      <td>0</td>\n",
              "      <td>...</td>\n",
              "      <td>0</td>\n",
              "      <td>0</td>\n",
              "      <td>0</td>\n",
              "      <td>0</td>\n",
              "      <td>0</td>\n",
              "      <td>0</td>\n",
              "      <td>0</td>\n",
              "      <td>0</td>\n",
              "      <td>0</td>\n",
              "      <td>0</td>\n",
              "      <td>0</td>\n",
              "      <td>0</td>\n",
              "      <td>0</td>\n",
              "      <td>0</td>\n",
              "      <td>0</td>\n",
              "      <td>1</td>\n",
              "      <td>0</td>\n",
              "      <td>0</td>\n",
              "      <td>0</td>\n",
              "      <td>0</td>\n",
              "      <td>0</td>\n",
              "      <td>0</td>\n",
              "      <td>0</td>\n",
              "      <td>0</td>\n",
              "      <td>0</td>\n",
              "      <td>0</td>\n",
              "      <td>0</td>\n",
              "      <td>0</td>\n",
              "      <td>0</td>\n",
              "      <td>0</td>\n",
              "      <td>0</td>\n",
              "      <td>0</td>\n",
              "      <td>0</td>\n",
              "      <td>0</td>\n",
              "      <td>0</td>\n",
              "      <td>0</td>\n",
              "      <td>0</td>\n",
              "      <td>1</td>\n",
              "      <td>0</td>\n",
              "      <td>0</td>\n",
              "    </tr>\n",
              "    <tr>\n",
              "      <th>2</th>\n",
              "      <td>0</td>\n",
              "      <td>0</td>\n",
              "      <td>0</td>\n",
              "      <td>0</td>\n",
              "      <td>0</td>\n",
              "      <td>0</td>\n",
              "      <td>0</td>\n",
              "      <td>0</td>\n",
              "      <td>0</td>\n",
              "      <td>0</td>\n",
              "      <td>0</td>\n",
              "      <td>0</td>\n",
              "      <td>0</td>\n",
              "      <td>0</td>\n",
              "      <td>0</td>\n",
              "      <td>0</td>\n",
              "      <td>0</td>\n",
              "      <td>0</td>\n",
              "      <td>0</td>\n",
              "      <td>0</td>\n",
              "      <td>0</td>\n",
              "      <td>0</td>\n",
              "      <td>0</td>\n",
              "      <td>0</td>\n",
              "      <td>0</td>\n",
              "      <td>0</td>\n",
              "      <td>0</td>\n",
              "      <td>0</td>\n",
              "      <td>0</td>\n",
              "      <td>0</td>\n",
              "      <td>0</td>\n",
              "      <td>0</td>\n",
              "      <td>0</td>\n",
              "      <td>0</td>\n",
              "      <td>0</td>\n",
              "      <td>0</td>\n",
              "      <td>0</td>\n",
              "      <td>0</td>\n",
              "      <td>0</td>\n",
              "      <td>0</td>\n",
              "      <td>...</td>\n",
              "      <td>0</td>\n",
              "      <td>1</td>\n",
              "      <td>0</td>\n",
              "      <td>0</td>\n",
              "      <td>0</td>\n",
              "      <td>0</td>\n",
              "      <td>0</td>\n",
              "      <td>0</td>\n",
              "      <td>0</td>\n",
              "      <td>0</td>\n",
              "      <td>0</td>\n",
              "      <td>0</td>\n",
              "      <td>0</td>\n",
              "      <td>0</td>\n",
              "      <td>0</td>\n",
              "      <td>0</td>\n",
              "      <td>0</td>\n",
              "      <td>0</td>\n",
              "      <td>0</td>\n",
              "      <td>0</td>\n",
              "      <td>0</td>\n",
              "      <td>0</td>\n",
              "      <td>0</td>\n",
              "      <td>0</td>\n",
              "      <td>0</td>\n",
              "      <td>0</td>\n",
              "      <td>0</td>\n",
              "      <td>0</td>\n",
              "      <td>0</td>\n",
              "      <td>0</td>\n",
              "      <td>0</td>\n",
              "      <td>0</td>\n",
              "      <td>0</td>\n",
              "      <td>0</td>\n",
              "      <td>0</td>\n",
              "      <td>0</td>\n",
              "      <td>0</td>\n",
              "      <td>1</td>\n",
              "      <td>0</td>\n",
              "      <td>0</td>\n",
              "    </tr>\n",
              "  </tbody>\n",
              "</table>\n",
              "<p>3 rows × 201 columns</p>\n",
              "</div>"
            ],
            "text/plain": [
              "   Country_Albania  Country_Andorra  ...  Size_MNE  Size_SME\n",
              "0                0                0  ...         0         0\n",
              "1                0                0  ...         0         0\n",
              "2                0                0  ...         0         0\n",
              "\n",
              "[3 rows x 201 columns]"
            ]
          },
          "metadata": {
            "tags": []
          }
        },
        {
          "output_type": "display_data",
          "data": {
            "text/plain": [
              "(12490, 201)"
            ]
          },
          "metadata": {
            "tags": []
          }
        }
      ]
    },
    {
      "cell_type": "code",
      "metadata": {
        "id": "n-PI517wFNtF",
        "colab_type": "code",
        "outputId": "022e8643-cca7-4d7d-9559-cbbf9886f55b",
        "colab": {
          "base_uri": "https://localhost:8080/",
          "height": 363
        }
      },
      "source": [
        "# full dataset\n",
        "ex2_full_ori_df, prv_ex2_full_ori_df, ex2_token_full_df, prv_ex2_token_full_df, ex2_full_df = get_code_df(ex2_raw_df.copy(), get_type='one-hot', exercise='Exercise 2')\n",
        "display(prv_ex2_full_ori_df, prv_ex2_token_full_df, ex2_token_full_df.shape)"
      ],
      "execution_count": 704,
      "outputs": [
        {
          "output_type": "display_data",
          "data": {
            "text/html": [
              "<div>\n",
              "<style scoped>\n",
              "    .dataframe tbody tr th:only-of-type {\n",
              "        vertical-align: middle;\n",
              "    }\n",
              "\n",
              "    .dataframe tbody tr th {\n",
              "        vertical-align: top;\n",
              "    }\n",
              "\n",
              "    .dataframe thead th {\n",
              "        text-align: right;\n",
              "    }\n",
              "</style>\n",
              "<table border=\"1\" class=\"dataframe\">\n",
              "  <thead>\n",
              "    <tr style=\"text-align: right;\">\n",
              "      <th></th>\n",
              "      <th>Country</th>\n",
              "      <th>Country Status</th>\n",
              "      <th>Featured Report?</th>\n",
              "      <th>GOLD Community</th>\n",
              "      <th>Listed/Non-listed</th>\n",
              "      <th>OS</th>\n",
              "      <th>Organization type</th>\n",
              "      <th>Region</th>\n",
              "      <th>Sector</th>\n",
              "      <th>Size</th>\n",
              "    </tr>\n",
              "  </thead>\n",
              "  <tbody>\n",
              "    <tr>\n",
              "      <th>0</th>\n",
              "      <td>Italy</td>\n",
              "      <td>OECD</td>\n",
              "      <td>No</td>\n",
              "      <td>No</td>\n",
              "      <td>Listed</td>\n",
              "      <td>No</td>\n",
              "      <td>Private company</td>\n",
              "      <td>Europe</td>\n",
              "      <td>Energy Utilities</td>\n",
              "      <td>Large</td>\n",
              "    </tr>\n",
              "    <tr>\n",
              "      <th>1</th>\n",
              "      <td>United States of America</td>\n",
              "      <td>OECD</td>\n",
              "      <td>No</td>\n",
              "      <td>No</td>\n",
              "      <td>Listed</td>\n",
              "      <td>No</td>\n",
              "      <td>Private company</td>\n",
              "      <td>Northern America</td>\n",
              "      <td>Healthcare Products</td>\n",
              "      <td>Large</td>\n",
              "    </tr>\n",
              "    <tr>\n",
              "      <th>2</th>\n",
              "      <td>United Kingdom of Great Britain and Northern I...</td>\n",
              "      <td>OECD</td>\n",
              "      <td>No</td>\n",
              "      <td>No</td>\n",
              "      <td>Non-listed</td>\n",
              "      <td>No</td>\n",
              "      <td>Subsidiary</td>\n",
              "      <td>Europe</td>\n",
              "      <td>Aviation</td>\n",
              "      <td>Large</td>\n",
              "    </tr>\n",
              "  </tbody>\n",
              "</table>\n",
              "</div>"
            ],
            "text/plain": [
              "                                             Country  ...   Size\n",
              "0                                              Italy  ...  Large\n",
              "1                           United States of America  ...  Large\n",
              "2  United Kingdom of Great Britain and Northern I...  ...  Large\n",
              "\n",
              "[3 rows x 10 columns]"
            ]
          },
          "metadata": {
            "tags": []
          }
        },
        {
          "output_type": "display_data",
          "data": {
            "text/html": [
              "<div>\n",
              "<style scoped>\n",
              "    .dataframe tbody tr th:only-of-type {\n",
              "        vertical-align: middle;\n",
              "    }\n",
              "\n",
              "    .dataframe tbody tr th {\n",
              "        vertical-align: top;\n",
              "    }\n",
              "\n",
              "    .dataframe thead th {\n",
              "        text-align: right;\n",
              "    }\n",
              "</style>\n",
              "<table border=\"1\" class=\"dataframe\">\n",
              "  <thead>\n",
              "    <tr style=\"text-align: right;\">\n",
              "      <th></th>\n",
              "      <th>Country_Albania</th>\n",
              "      <th>Country_Andorra</th>\n",
              "      <th>Country_Angola</th>\n",
              "      <th>Country_Argentina</th>\n",
              "      <th>Country_Australia</th>\n",
              "      <th>Country_Austria</th>\n",
              "      <th>Country_Bahrain</th>\n",
              "      <th>Country_Bangladesh</th>\n",
              "      <th>Country_Belarus</th>\n",
              "      <th>Country_Belgium</th>\n",
              "      <th>Country_Bermuda</th>\n",
              "      <th>Country_Bolivia</th>\n",
              "      <th>Country_Botswana</th>\n",
              "      <th>Country_Brazil</th>\n",
              "      <th>Country_Bulgaria</th>\n",
              "      <th>Country_Burkina Faso</th>\n",
              "      <th>Country_Burundi</th>\n",
              "      <th>Country_Cambodia</th>\n",
              "      <th>Country_Cameroon</th>\n",
              "      <th>Country_Canada</th>\n",
              "      <th>Country_Cape Verde</th>\n",
              "      <th>Country_Cayman Islands</th>\n",
              "      <th>Country_Channel Islands</th>\n",
              "      <th>Country_Chile</th>\n",
              "      <th>Country_Colombia</th>\n",
              "      <th>Country_Costa Rica</th>\n",
              "      <th>Country_Croatia</th>\n",
              "      <th>Country_Cyprus</th>\n",
              "      <th>Country_Czech Republic</th>\n",
              "      <th>Country_Côte d'Ivoire</th>\n",
              "      <th>Country_Denmark</th>\n",
              "      <th>Country_Dominican Republic</th>\n",
              "      <th>Country_Ecuador</th>\n",
              "      <th>Country_Egypt</th>\n",
              "      <th>Country_El Salvador</th>\n",
              "      <th>Country_Estonia</th>\n",
              "      <th>Country_Ethiopia</th>\n",
              "      <th>Country_Finland</th>\n",
              "      <th>Country_France</th>\n",
              "      <th>Country_Gabon</th>\n",
              "      <th>...</th>\n",
              "      <th>Sector_Automotive</th>\n",
              "      <th>Sector_Aviation</th>\n",
              "      <th>Sector_Chemicals</th>\n",
              "      <th>Sector_Commercial Services</th>\n",
              "      <th>Sector_Computers</th>\n",
              "      <th>Sector_Conglomerates</th>\n",
              "      <th>Sector_Construction</th>\n",
              "      <th>Sector_Construction Materials</th>\n",
              "      <th>Sector_Consumer Durables</th>\n",
              "      <th>Sector_Energy</th>\n",
              "      <th>Sector_Energy Utilities</th>\n",
              "      <th>Sector_Equipment</th>\n",
              "      <th>Sector_Financial Services</th>\n",
              "      <th>Sector_Food and Beverage Products</th>\n",
              "      <th>Sector_Forest and Paper Products</th>\n",
              "      <th>Sector_Healthcare Products</th>\n",
              "      <th>Sector_Healthcare Services</th>\n",
              "      <th>Sector_Household and Personal Products</th>\n",
              "      <th>Sector_Logistics</th>\n",
              "      <th>Sector_Media</th>\n",
              "      <th>Sector_Metals Products</th>\n",
              "      <th>Sector_Mining</th>\n",
              "      <th>Sector_Non-Profit / Services</th>\n",
              "      <th>Sector_Other</th>\n",
              "      <th>Sector_Public Agency</th>\n",
              "      <th>Sector_Railroad</th>\n",
              "      <th>Sector_Real Estate</th>\n",
              "      <th>Sector_Retailers</th>\n",
              "      <th>Sector_Technology Hardware</th>\n",
              "      <th>Sector_Telecommunications</th>\n",
              "      <th>Sector_Textiles and Apparel</th>\n",
              "      <th>Sector_Tobacco</th>\n",
              "      <th>Sector_Tourism/Leisure</th>\n",
              "      <th>Sector_Toys</th>\n",
              "      <th>Sector_Universities</th>\n",
              "      <th>Sector_Waste Management</th>\n",
              "      <th>Sector_Water Utilities</th>\n",
              "      <th>Size_Large</th>\n",
              "      <th>Size_MNE</th>\n",
              "      <th>Size_SME</th>\n",
              "    </tr>\n",
              "  </thead>\n",
              "  <tbody>\n",
              "    <tr>\n",
              "      <th>0</th>\n",
              "      <td>0</td>\n",
              "      <td>0</td>\n",
              "      <td>0</td>\n",
              "      <td>0</td>\n",
              "      <td>0</td>\n",
              "      <td>0</td>\n",
              "      <td>0</td>\n",
              "      <td>0</td>\n",
              "      <td>0</td>\n",
              "      <td>0</td>\n",
              "      <td>0</td>\n",
              "      <td>0</td>\n",
              "      <td>0</td>\n",
              "      <td>0</td>\n",
              "      <td>0</td>\n",
              "      <td>0</td>\n",
              "      <td>0</td>\n",
              "      <td>0</td>\n",
              "      <td>0</td>\n",
              "      <td>0</td>\n",
              "      <td>0</td>\n",
              "      <td>0</td>\n",
              "      <td>0</td>\n",
              "      <td>0</td>\n",
              "      <td>0</td>\n",
              "      <td>0</td>\n",
              "      <td>0</td>\n",
              "      <td>0</td>\n",
              "      <td>0</td>\n",
              "      <td>0</td>\n",
              "      <td>0</td>\n",
              "      <td>0</td>\n",
              "      <td>0</td>\n",
              "      <td>0</td>\n",
              "      <td>0</td>\n",
              "      <td>0</td>\n",
              "      <td>0</td>\n",
              "      <td>0</td>\n",
              "      <td>0</td>\n",
              "      <td>0</td>\n",
              "      <td>...</td>\n",
              "      <td>0</td>\n",
              "      <td>0</td>\n",
              "      <td>0</td>\n",
              "      <td>0</td>\n",
              "      <td>0</td>\n",
              "      <td>0</td>\n",
              "      <td>0</td>\n",
              "      <td>0</td>\n",
              "      <td>0</td>\n",
              "      <td>0</td>\n",
              "      <td>1</td>\n",
              "      <td>0</td>\n",
              "      <td>0</td>\n",
              "      <td>0</td>\n",
              "      <td>0</td>\n",
              "      <td>0</td>\n",
              "      <td>0</td>\n",
              "      <td>0</td>\n",
              "      <td>0</td>\n",
              "      <td>0</td>\n",
              "      <td>0</td>\n",
              "      <td>0</td>\n",
              "      <td>0</td>\n",
              "      <td>0</td>\n",
              "      <td>0</td>\n",
              "      <td>0</td>\n",
              "      <td>0</td>\n",
              "      <td>0</td>\n",
              "      <td>0</td>\n",
              "      <td>0</td>\n",
              "      <td>0</td>\n",
              "      <td>0</td>\n",
              "      <td>0</td>\n",
              "      <td>0</td>\n",
              "      <td>0</td>\n",
              "      <td>0</td>\n",
              "      <td>0</td>\n",
              "      <td>1</td>\n",
              "      <td>0</td>\n",
              "      <td>0</td>\n",
              "    </tr>\n",
              "    <tr>\n",
              "      <th>1</th>\n",
              "      <td>0</td>\n",
              "      <td>0</td>\n",
              "      <td>0</td>\n",
              "      <td>0</td>\n",
              "      <td>0</td>\n",
              "      <td>0</td>\n",
              "      <td>0</td>\n",
              "      <td>0</td>\n",
              "      <td>0</td>\n",
              "      <td>0</td>\n",
              "      <td>0</td>\n",
              "      <td>0</td>\n",
              "      <td>0</td>\n",
              "      <td>0</td>\n",
              "      <td>0</td>\n",
              "      <td>0</td>\n",
              "      <td>0</td>\n",
              "      <td>0</td>\n",
              "      <td>0</td>\n",
              "      <td>0</td>\n",
              "      <td>0</td>\n",
              "      <td>0</td>\n",
              "      <td>0</td>\n",
              "      <td>0</td>\n",
              "      <td>0</td>\n",
              "      <td>0</td>\n",
              "      <td>0</td>\n",
              "      <td>0</td>\n",
              "      <td>0</td>\n",
              "      <td>0</td>\n",
              "      <td>0</td>\n",
              "      <td>0</td>\n",
              "      <td>0</td>\n",
              "      <td>0</td>\n",
              "      <td>0</td>\n",
              "      <td>0</td>\n",
              "      <td>0</td>\n",
              "      <td>0</td>\n",
              "      <td>0</td>\n",
              "      <td>0</td>\n",
              "      <td>...</td>\n",
              "      <td>0</td>\n",
              "      <td>0</td>\n",
              "      <td>0</td>\n",
              "      <td>0</td>\n",
              "      <td>0</td>\n",
              "      <td>0</td>\n",
              "      <td>0</td>\n",
              "      <td>0</td>\n",
              "      <td>0</td>\n",
              "      <td>0</td>\n",
              "      <td>0</td>\n",
              "      <td>0</td>\n",
              "      <td>0</td>\n",
              "      <td>0</td>\n",
              "      <td>0</td>\n",
              "      <td>1</td>\n",
              "      <td>0</td>\n",
              "      <td>0</td>\n",
              "      <td>0</td>\n",
              "      <td>0</td>\n",
              "      <td>0</td>\n",
              "      <td>0</td>\n",
              "      <td>0</td>\n",
              "      <td>0</td>\n",
              "      <td>0</td>\n",
              "      <td>0</td>\n",
              "      <td>0</td>\n",
              "      <td>0</td>\n",
              "      <td>0</td>\n",
              "      <td>0</td>\n",
              "      <td>0</td>\n",
              "      <td>0</td>\n",
              "      <td>0</td>\n",
              "      <td>0</td>\n",
              "      <td>0</td>\n",
              "      <td>0</td>\n",
              "      <td>0</td>\n",
              "      <td>1</td>\n",
              "      <td>0</td>\n",
              "      <td>0</td>\n",
              "    </tr>\n",
              "    <tr>\n",
              "      <th>2</th>\n",
              "      <td>0</td>\n",
              "      <td>0</td>\n",
              "      <td>0</td>\n",
              "      <td>0</td>\n",
              "      <td>0</td>\n",
              "      <td>0</td>\n",
              "      <td>0</td>\n",
              "      <td>0</td>\n",
              "      <td>0</td>\n",
              "      <td>0</td>\n",
              "      <td>0</td>\n",
              "      <td>0</td>\n",
              "      <td>0</td>\n",
              "      <td>0</td>\n",
              "      <td>0</td>\n",
              "      <td>0</td>\n",
              "      <td>0</td>\n",
              "      <td>0</td>\n",
              "      <td>0</td>\n",
              "      <td>0</td>\n",
              "      <td>0</td>\n",
              "      <td>0</td>\n",
              "      <td>0</td>\n",
              "      <td>0</td>\n",
              "      <td>0</td>\n",
              "      <td>0</td>\n",
              "      <td>0</td>\n",
              "      <td>0</td>\n",
              "      <td>0</td>\n",
              "      <td>0</td>\n",
              "      <td>0</td>\n",
              "      <td>0</td>\n",
              "      <td>0</td>\n",
              "      <td>0</td>\n",
              "      <td>0</td>\n",
              "      <td>0</td>\n",
              "      <td>0</td>\n",
              "      <td>0</td>\n",
              "      <td>0</td>\n",
              "      <td>0</td>\n",
              "      <td>...</td>\n",
              "      <td>0</td>\n",
              "      <td>1</td>\n",
              "      <td>0</td>\n",
              "      <td>0</td>\n",
              "      <td>0</td>\n",
              "      <td>0</td>\n",
              "      <td>0</td>\n",
              "      <td>0</td>\n",
              "      <td>0</td>\n",
              "      <td>0</td>\n",
              "      <td>0</td>\n",
              "      <td>0</td>\n",
              "      <td>0</td>\n",
              "      <td>0</td>\n",
              "      <td>0</td>\n",
              "      <td>0</td>\n",
              "      <td>0</td>\n",
              "      <td>0</td>\n",
              "      <td>0</td>\n",
              "      <td>0</td>\n",
              "      <td>0</td>\n",
              "      <td>0</td>\n",
              "      <td>0</td>\n",
              "      <td>0</td>\n",
              "      <td>0</td>\n",
              "      <td>0</td>\n",
              "      <td>0</td>\n",
              "      <td>0</td>\n",
              "      <td>0</td>\n",
              "      <td>0</td>\n",
              "      <td>0</td>\n",
              "      <td>0</td>\n",
              "      <td>0</td>\n",
              "      <td>0</td>\n",
              "      <td>0</td>\n",
              "      <td>0</td>\n",
              "      <td>0</td>\n",
              "      <td>1</td>\n",
              "      <td>0</td>\n",
              "      <td>0</td>\n",
              "    </tr>\n",
              "  </tbody>\n",
              "</table>\n",
              "<p>3 rows × 201 columns</p>\n",
              "</div>"
            ],
            "text/plain": [
              "   Country_Albania  Country_Andorra  ...  Size_MNE  Size_SME\n",
              "0                0                0  ...         0         0\n",
              "1                0                0  ...         0         0\n",
              "2                0                0  ...         0         0\n",
              "\n",
              "[3 rows x 201 columns]"
            ]
          },
          "metadata": {
            "tags": []
          }
        },
        {
          "output_type": "display_data",
          "data": {
            "text/plain": [
              "(12491, 201)"
            ]
          },
          "metadata": {
            "tags": []
          }
        }
      ]
    },
    {
      "cell_type": "code",
      "metadata": {
        "id": "nO-TFUgCHdu8",
        "colab_type": "code",
        "outputId": "79e9233e-1d28-460b-ad17-f2d2ceedc082",
        "colab": {
          "base_uri": "https://localhost:8080/",
          "height": 70
        }
      },
      "source": [
        "ncolumns_data_2 = ex2_full_ori_df.shape[1]\n",
        "ncolumns_code_2 = ex2_token_full_df.shape[1]\n",
        "full_columns_2 = ex2_full_df.shape[1]\n",
        "\n",
        "print(\"Original data columns: {}\".format(ncolumns_data_2))\n",
        "print(\"Encoding columns: {}\".format(ncolumns_code_2))\n",
        "print(\"Total columns: {}\".format(full_columns_2))"
      ],
      "execution_count": 705,
      "outputs": [
        {
          "output_type": "stream",
          "text": [
            "Original data columns: 10\n",
            "Encoding columns: 201\n",
            "Total columns: 211\n"
          ],
          "name": "stdout"
        }
      ]
    },
    {
      "cell_type": "markdown",
      "metadata": {
        "id": "HgrKqnwzSWgL",
        "colab_type": "text"
      },
      "source": [
        "### TensorFlow Dataset Definition"
      ]
    },
    {
      "cell_type": "code",
      "metadata": {
        "id": "McItazldR2b6",
        "colab_type": "code",
        "colab": {}
      },
      "source": [
        "import numpy as np\n",
        "import tensorflow as tf\n",
        "import os\n",
        "from tensorflow.keras import losses\n",
        "from tensorflow.keras.layers import Input, Dense, BatchNormalization\n",
        "from tensorflow.keras.models import Model\n",
        "from tensorflow.keras.callbacks import ModelCheckpoint\n",
        "\n",
        "np.random.seed(1)\n",
        "tf.random.set_seed(1)"
      ],
      "execution_count": 0,
      "outputs": []
    },
    {
      "cell_type": "code",
      "metadata": {
        "id": "49qi6rv6Th9Q",
        "colab_type": "code",
        "colab": {}
      },
      "source": [
        "training_df2 = ex2_token_full_df.copy()"
      ],
      "execution_count": 0,
      "outputs": []
    },
    {
      "cell_type": "code",
      "metadata": {
        "id": "Ojg5eB1rR2x1",
        "colab_type": "code",
        "colab": {}
      },
      "source": [
        "train_array_2 = training_df2.to_numpy(dtype=np.float32,copy=True)"
      ],
      "execution_count": 0,
      "outputs": []
    },
    {
      "cell_type": "code",
      "metadata": {
        "id": "CgVQ0BhETUou",
        "colab_type": "code",
        "colab": {}
      },
      "source": [
        "train_dataset_2 = tf.data.Dataset.from_tensor_slices(train_array_2)"
      ],
      "execution_count": 0,
      "outputs": []
    },
    {
      "cell_type": "markdown",
      "metadata": {
        "id": "bAMI70PUUDJ9",
        "colab_type": "text"
      },
      "source": [
        "### New Model Definition"
      ]
    },
    {
      "cell_type": "code",
      "metadata": {
        "id": "5TIH1fPEaeKW",
        "colab_type": "code",
        "colab": {}
      },
      "source": [
        "intermediate_dim_ = 49\n",
        "original_dim_ = 201\n",
        "\n",
        "step = (original_dim_ - intermediate_dim_)/4\n",
        "\n",
        "hidden_dim1 = original_dim_ - step      #163\n",
        "hidden_dim2 = original_dim_ - 2*step    #125\n",
        "hidden_dim3 = original_dim_ - 3*step    #87"
      ],
      "execution_count": 0,
      "outputs": []
    },
    {
      "cell_type": "markdown",
      "metadata": {
        "id": "ikKlIzTHDMHc",
        "colab_type": "text"
      },
      "source": [
        "#### Model structure"
      ]
    },
    {
      "cell_type": "code",
      "metadata": {
        "id": "LepaBYRPjy9S",
        "colab_type": "code",
        "colab": {}
      },
      "source": [
        "# Input Layer\n",
        "input_layer = Input(shape=(original_dim_,))\n",
        "\n",
        "# Hidden layers\n",
        "# hidden_layer_input_batch = BatchNormalization()(input_layer)\n",
        "hidden_layer_1_ = Dense(hidden_dim1, activation='relu', kernel_initializer='he_uniform')(input_layer)\n",
        "hidden_layer_1_batch = BatchNormalization()(hidden_layer_1_)\n",
        "hidden_layer_2_ = Dense(hidden_dim2, activation='relu', kernel_initializer='he_uniform')(hidden_layer_1_batch)\n",
        "hidden_layer_2_batch = BatchNormalization()(hidden_layer_2_)\n",
        "hidden_layer_3_ = Dense(hidden_dim3, activation='relu', kernel_initializer='he_uniform')(hidden_layer_2_batch)\n",
        "hidden_layer_3_batch = BatchNormalization()(hidden_layer_3_)\n",
        "\n",
        "intermediate_layer_ = Dense(intermediate_dim_, activation='relu', kernel_initializer='he_uniform')(hidden_layer_3_batch)\n",
        "intermediate_layer_batch = BatchNormalization()(intermediate_layer_)\n",
        "\n",
        "hidden_layer_4_ = Dense(hidden_dim3, activation='relu', kernel_initializer='he_uniform')(intermediate_layer_batch)\n",
        "hidden_layer_4_batch = BatchNormalization()(hidden_layer_4_)\n",
        "hidden_layer_5_ = Dense(hidden_dim2, activation='relu', kernel_initializer='he_uniform')(hidden_layer_4_batch)\n",
        "hidden_layer_5_batch = BatchNormalization()(hidden_layer_5_)\n",
        "hidden_layer_6_ = Dense(hidden_dim1, activation='relu', kernel_initializer='he_uniform')(hidden_layer_5_batch)\n",
        "hidden_layer_6_batch = BatchNormalization()(hidden_layer_6_)\n",
        "\n",
        "# Output Layer\n",
        "output_layer = Dense(original_dim_, activation='sigmoid')(hidden_layer_6_batch)"
      ],
      "execution_count": 0,
      "outputs": []
    },
    {
      "cell_type": "markdown",
      "metadata": {
        "id": "hhqbWFhTUWIw",
        "colab_type": "text"
      },
      "source": [
        "#### New Autoencoder"
      ]
    },
    {
      "cell_type": "code",
      "metadata": {
        "id": "dA72pXZYehnL",
        "colab_type": "code",
        "outputId": "3e1a7873-119b-434d-b8ad-b6dd9164ce9b",
        "colab": {
          "base_uri": "https://localhost:8080/",
          "height": 717
        }
      },
      "source": [
        "# New Autoencoder model\n",
        "n_autoencoder = Model(input_layer, output_layer)\n",
        "\n",
        "# Model Summary\n",
        "n_autoencoder.summary()"
      ],
      "execution_count": 712,
      "outputs": [
        {
          "output_type": "stream",
          "text": [
            "Model: \"model_63\"\n",
            "_________________________________________________________________\n",
            "Layer (type)                 Output Shape              Param #   \n",
            "=================================================================\n",
            "input_43 (InputLayer)        [(None, 201)]             0         \n",
            "_________________________________________________________________\n",
            "dense_240 (Dense)            (None, 163)               32926     \n",
            "_________________________________________________________________\n",
            "batch_normalization_154 (Bat (None, 163)               652       \n",
            "_________________________________________________________________\n",
            "dense_241 (Dense)            (None, 125)               20500     \n",
            "_________________________________________________________________\n",
            "batch_normalization_155 (Bat (None, 125)               500       \n",
            "_________________________________________________________________\n",
            "dense_242 (Dense)            (None, 87)                10962     \n",
            "_________________________________________________________________\n",
            "batch_normalization_156 (Bat (None, 87)                348       \n",
            "_________________________________________________________________\n",
            "dense_243 (Dense)            (None, 49)                4312      \n",
            "_________________________________________________________________\n",
            "batch_normalization_157 (Bat (None, 49)                196       \n",
            "_________________________________________________________________\n",
            "dense_244 (Dense)            (None, 87)                4350      \n",
            "_________________________________________________________________\n",
            "batch_normalization_158 (Bat (None, 87)                348       \n",
            "_________________________________________________________________\n",
            "dense_245 (Dense)            (None, 125)               11000     \n",
            "_________________________________________________________________\n",
            "batch_normalization_159 (Bat (None, 125)               500       \n",
            "_________________________________________________________________\n",
            "dense_246 (Dense)            (None, 163)               20538     \n",
            "_________________________________________________________________\n",
            "batch_normalization_160 (Bat (None, 163)               652       \n",
            "_________________________________________________________________\n",
            "dense_247 (Dense)            (None, 201)               32964     \n",
            "=================================================================\n",
            "Total params: 140,748\n",
            "Trainable params: 139,150\n",
            "Non-trainable params: 1,598\n",
            "_________________________________________________________________\n"
          ],
          "name": "stdout"
        }
      ]
    },
    {
      "cell_type": "markdown",
      "metadata": {
        "id": "9Q8dosD2UPEq",
        "colab_type": "text"
      },
      "source": [
        "#### New Encoder"
      ]
    },
    {
      "cell_type": "code",
      "metadata": {
        "id": "eMrMCkOVeknP",
        "colab_type": "code",
        "outputId": "fe7a8e6e-312d-42e6-c867-f277c35ad3cb",
        "colab": {
          "base_uri": "https://localhost:8080/",
          "height": 472
        }
      },
      "source": [
        "# New Encoder model\n",
        "n_encoder = Model(input_layer, intermediate_layer_batch)\n",
        "\n",
        "# Model Summary\n",
        "n_encoder.summary()"
      ],
      "execution_count": 713,
      "outputs": [
        {
          "output_type": "stream",
          "text": [
            "Model: \"model_64\"\n",
            "_________________________________________________________________\n",
            "Layer (type)                 Output Shape              Param #   \n",
            "=================================================================\n",
            "input_43 (InputLayer)        [(None, 201)]             0         \n",
            "_________________________________________________________________\n",
            "dense_240 (Dense)            (None, 163)               32926     \n",
            "_________________________________________________________________\n",
            "batch_normalization_154 (Bat (None, 163)               652       \n",
            "_________________________________________________________________\n",
            "dense_241 (Dense)            (None, 125)               20500     \n",
            "_________________________________________________________________\n",
            "batch_normalization_155 (Bat (None, 125)               500       \n",
            "_________________________________________________________________\n",
            "dense_242 (Dense)            (None, 87)                10962     \n",
            "_________________________________________________________________\n",
            "batch_normalization_156 (Bat (None, 87)                348       \n",
            "_________________________________________________________________\n",
            "dense_243 (Dense)            (None, 49)                4312      \n",
            "_________________________________________________________________\n",
            "batch_normalization_157 (Bat (None, 49)                196       \n",
            "=================================================================\n",
            "Total params: 70,396\n",
            "Trainable params: 69,548\n",
            "Non-trainable params: 848\n",
            "_________________________________________________________________\n"
          ],
          "name": "stdout"
        }
      ]
    },
    {
      "cell_type": "markdown",
      "metadata": {
        "id": "87hK7tpBUScj",
        "colab_type": "text"
      },
      "source": [
        "#### New Decoder"
      ]
    },
    {
      "cell_type": "code",
      "metadata": {
        "id": "9WdS732Ft9or",
        "colab_type": "code",
        "outputId": "bf6d26d6-9996-40be-9216-1dd684141ea1",
        "colab": {
          "base_uri": "https://localhost:8080/",
          "height": 472
        }
      },
      "source": [
        "# create a placeholder for an encoded (49-dimensional) input\n",
        "decoded_input = Input(shape=(intermediate_dim_,))\n",
        "\n",
        "# Retrieve layers of the new autoencoder model\n",
        "decoded_hidden = n_autoencoder.layers[-8](decoded_input)\n",
        "decoded_hidden = n_autoencoder.layers[-7](decoded_hidden)\n",
        "decoded_hidden = n_autoencoder.layers[-6](decoded_hidden)\n",
        "decoded_hidden = n_autoencoder.layers[-5](decoded_hidden)\n",
        "decoded_hidden = n_autoencoder.layers[-4](decoded_hidden)\n",
        "decoded_hidden = n_autoencoder.layers[-3](decoded_hidden)\n",
        "decoded_hidden = n_autoencoder.layers[-2](decoded_hidden)\n",
        "\n",
        "decoded_output = n_autoencoder.layers[-1](decoded_hidden)\n",
        "\n",
        "# New Decoder model\n",
        "n_decoder = Model(decoded_input, decoded_output)\n",
        "\n",
        "# Model Summary\n",
        "n_decoder.summary()"
      ],
      "execution_count": 714,
      "outputs": [
        {
          "output_type": "stream",
          "text": [
            "Model: \"model_65\"\n",
            "_________________________________________________________________\n",
            "Layer (type)                 Output Shape              Param #   \n",
            "=================================================================\n",
            "input_44 (InputLayer)        [(None, 49)]              0         \n",
            "_________________________________________________________________\n",
            "batch_normalization_157 (Bat (None, 49)                196       \n",
            "_________________________________________________________________\n",
            "dense_244 (Dense)            (None, 87)                4350      \n",
            "_________________________________________________________________\n",
            "batch_normalization_158 (Bat (None, 87)                348       \n",
            "_________________________________________________________________\n",
            "dense_245 (Dense)            (None, 125)               11000     \n",
            "_________________________________________________________________\n",
            "batch_normalization_159 (Bat (None, 125)               500       \n",
            "_________________________________________________________________\n",
            "dense_246 (Dense)            (None, 163)               20538     \n",
            "_________________________________________________________________\n",
            "batch_normalization_160 (Bat (None, 163)               652       \n",
            "_________________________________________________________________\n",
            "dense_247 (Dense)            (None, 201)               32964     \n",
            "=================================================================\n",
            "Total params: 70,548\n",
            "Trainable params: 69,700\n",
            "Non-trainable params: 848\n",
            "_________________________________________________________________\n"
          ],
          "name": "stdout"
        }
      ]
    },
    {
      "cell_type": "markdown",
      "metadata": {
        "id": "0yyS5em_kedS",
        "colab_type": "text"
      },
      "source": [
        "### Model & Training Setup"
      ]
    },
    {
      "cell_type": "code",
      "metadata": {
        "id": "Edda1vZuoKvJ",
        "colab_type": "code",
        "colab": {
          "base_uri": "https://localhost:8080/",
          "height": 52
        },
        "outputId": "d0abbb3f-fab4-4c68-8ed5-2e23bc809cbe"
      },
      "source": [
        "project_path = \"drive/My Drive/capstone_project\"\n",
        "make_folder(project_path)\n",
        "project_save_path = \"drive/My Drive/capstone_project/model_checkpoints\"\n",
        "make_folder(project_save_path)\n",
        "checkpoint_path = \"model_checkpoints/checkpoint_path.ckpt\"\n",
        "checkpoint_dir = os.path.dirname(checkpoint_path)\n",
        "\n",
        "# Create a callback that saves the model's weights\n",
        "cp_callback = ModelCheckpoint(\n",
        "    filepath=checkpoint_path,\n",
        "    save_weights_only=True,\n",
        "    verbose=1\n",
        ")"
      ],
      "execution_count": 715,
      "outputs": [
        {
          "output_type": "stream",
          "text": [
            "Directory already exist.\n",
            "Directory already exist.\n"
          ],
          "name": "stdout"
        }
      ]
    },
    {
      "cell_type": "code",
      "metadata": {
        "id": "17beO0fHktMQ",
        "colab_type": "code",
        "colab": {}
      },
      "source": [
        "n_autoencoder.compile(optimizer=opt, loss=losses.mean_squared_error)"
      ],
      "execution_count": 0,
      "outputs": []
    },
    {
      "cell_type": "code",
      "metadata": {
        "id": "ZtpPy40cn4jg",
        "colab_type": "code",
        "outputId": "ef582384-3b9d-44f1-b47b-c3d0df2ec16a",
        "colab": {
          "base_uri": "https://localhost:8080/",
          "height": 1000
        }
      },
      "source": [
        "n_autoencoder_train = n_autoencoder.fit(\n",
        "    x= train_array_2,\n",
        "    y= train_array_2,\n",
        "    epochs= epoch + 1,\n",
        "    batch_size= batch_size*8,\n",
        "    callbacks= [cp_callback] # Pass callback to training\n",
        ")                               "
      ],
      "execution_count": 717,
      "outputs": [
        {
          "output_type": "stream",
          "text": [
            "Train on 12491 samples\n",
            "Epoch 1/50\n",
            "12288/12491 [============================>.] - ETA: 0s - loss: 0.1175\n",
            "Epoch 00001: saving model to model_checkpoints/checkpoint_path.ckpt\n",
            "12491/12491 [==============================] - 2s 161us/sample - loss: 0.1160\n",
            "Epoch 2/50\n",
            " 7168/12491 [================>.............] - ETA: 0s - loss: 0.0242\n",
            "Epoch 00002: saving model to model_checkpoints/checkpoint_path.ckpt\n",
            "12491/12491 [==============================] - 0s 14us/sample - loss: 0.0211\n",
            "Epoch 3/50\n",
            " 7168/12491 [================>.............] - ETA: 0s - loss: 0.0153\n",
            "Epoch 00003: saving model to model_checkpoints/checkpoint_path.ckpt\n",
            "12491/12491 [==============================] - 0s 13us/sample - loss: 0.0151\n",
            "Epoch 4/50\n",
            "12288/12491 [============================>.] - ETA: 0s - loss: 0.0152\n",
            "Epoch 00004: saving model to model_checkpoints/checkpoint_path.ckpt\n",
            "12491/12491 [==============================] - 0s 13us/sample - loss: 0.0153\n",
            "Epoch 5/50\n",
            "12288/12491 [============================>.] - ETA: 0s - loss: 0.0148\n",
            "Epoch 00005: saving model to model_checkpoints/checkpoint_path.ckpt\n",
            "12491/12491 [==============================] - 0s 14us/sample - loss: 0.0148\n",
            "Epoch 6/50\n",
            "12288/12491 [============================>.] - ETA: 0s - loss: 0.0138\n",
            "Epoch 00006: saving model to model_checkpoints/checkpoint_path.ckpt\n",
            "12491/12491 [==============================] - 0s 13us/sample - loss: 0.0138\n",
            "Epoch 7/50\n",
            " 7168/12491 [================>.............] - ETA: 0s - loss: 0.0126\n",
            "Epoch 00007: saving model to model_checkpoints/checkpoint_path.ckpt\n",
            "12491/12491 [==============================] - 0s 13us/sample - loss: 0.0125\n",
            "Epoch 8/50\n",
            " 7168/12491 [================>.............] - ETA: 0s - loss: 0.0120\n",
            "Epoch 00008: saving model to model_checkpoints/checkpoint_path.ckpt\n",
            "12491/12491 [==============================] - 0s 14us/sample - loss: 0.0119\n",
            "Epoch 9/50\n",
            "10240/12491 [=======================>......] - ETA: 0s - loss: 0.0117\n",
            "Epoch 00009: saving model to model_checkpoints/checkpoint_path.ckpt\n",
            "12491/12491 [==============================] - 0s 15us/sample - loss: 0.0117\n",
            "Epoch 10/50\n",
            " 7168/12491 [================>.............] - ETA: 0s - loss: 0.0116\n",
            "Epoch 00010: saving model to model_checkpoints/checkpoint_path.ckpt\n",
            "12491/12491 [==============================] - 0s 13us/sample - loss: 0.0115\n",
            "Epoch 11/50\n",
            "10240/12491 [=======================>......] - ETA: 0s - loss: 0.0113\n",
            "Epoch 00011: saving model to model_checkpoints/checkpoint_path.ckpt\n",
            "12491/12491 [==============================] - 0s 15us/sample - loss: 0.0114\n",
            "Epoch 12/50\n",
            " 6144/12491 [=============>................] - ETA: 0s - loss: 0.0113\n",
            "Epoch 00012: saving model to model_checkpoints/checkpoint_path.ckpt\n",
            "12491/12491 [==============================] - 0s 13us/sample - loss: 0.0113\n",
            "Epoch 13/50\n",
            " 7168/12491 [================>.............] - ETA: 0s - loss: 0.0112\n",
            "Epoch 00013: saving model to model_checkpoints/checkpoint_path.ckpt\n",
            "12491/12491 [==============================] - 0s 12us/sample - loss: 0.0112\n",
            "Epoch 14/50\n",
            "12288/12491 [============================>.] - ETA: 0s - loss: 0.0112\n",
            "Epoch 00014: saving model to model_checkpoints/checkpoint_path.ckpt\n",
            "12491/12491 [==============================] - 0s 14us/sample - loss: 0.0112\n",
            "Epoch 15/50\n",
            " 7168/12491 [================>.............] - ETA: 0s - loss: 0.0112\n",
            "Epoch 00015: saving model to model_checkpoints/checkpoint_path.ckpt\n",
            "12491/12491 [==============================] - 0s 13us/sample - loss: 0.0111\n",
            "Epoch 16/50\n",
            " 7168/12491 [================>.............] - ETA: 0s - loss: 0.0110\n",
            "Epoch 00016: saving model to model_checkpoints/checkpoint_path.ckpt\n",
            "12491/12491 [==============================] - 0s 14us/sample - loss: 0.0111\n",
            "Epoch 17/50\n",
            "12288/12491 [============================>.] - ETA: 0s - loss: 0.0111\n",
            "Epoch 00017: saving model to model_checkpoints/checkpoint_path.ckpt\n",
            "12491/12491 [==============================] - 0s 15us/sample - loss: 0.0111\n",
            "Epoch 18/50\n",
            "12288/12491 [============================>.] - ETA: 0s - loss: 0.0110\n",
            "Epoch 00018: saving model to model_checkpoints/checkpoint_path.ckpt\n",
            "12491/12491 [==============================] - 0s 15us/sample - loss: 0.0110\n",
            "Epoch 19/50\n",
            " 7168/12491 [================>.............] - ETA: 0s - loss: 0.0110\n",
            "Epoch 00019: saving model to model_checkpoints/checkpoint_path.ckpt\n",
            "12491/12491 [==============================] - 0s 13us/sample - loss: 0.0110\n",
            "Epoch 20/50\n",
            "11264/12491 [==========================>...] - ETA: 0s - loss: 0.0109\n",
            "Epoch 00020: saving model to model_checkpoints/checkpoint_path.ckpt\n",
            "12491/12491 [==============================] - 0s 15us/sample - loss: 0.0109\n",
            "Epoch 21/50\n",
            "12288/12491 [============================>.] - ETA: 0s - loss: 0.0109\n",
            "Epoch 00021: saving model to model_checkpoints/checkpoint_path.ckpt\n",
            "12491/12491 [==============================] - 0s 13us/sample - loss: 0.0109\n",
            "Epoch 22/50\n",
            "12288/12491 [============================>.] - ETA: 0s - loss: 0.0108\n",
            "Epoch 00022: saving model to model_checkpoints/checkpoint_path.ckpt\n",
            "12491/12491 [==============================] - 0s 13us/sample - loss: 0.0108\n",
            "Epoch 23/50\n",
            "12288/12491 [============================>.] - ETA: 0s - loss: 0.0108\n",
            "Epoch 00023: saving model to model_checkpoints/checkpoint_path.ckpt\n",
            "12491/12491 [==============================] - 0s 14us/sample - loss: 0.0108\n",
            "Epoch 24/50\n",
            "10240/12491 [=======================>......] - ETA: 0s - loss: 0.0107\n",
            "Epoch 00024: saving model to model_checkpoints/checkpoint_path.ckpt\n",
            "12491/12491 [==============================] - 0s 15us/sample - loss: 0.0106\n",
            "Epoch 25/50\n",
            " 7168/12491 [================>.............] - ETA: 0s - loss: 0.0106\n",
            "Epoch 00025: saving model to model_checkpoints/checkpoint_path.ckpt\n",
            "12491/12491 [==============================] - 0s 13us/sample - loss: 0.0105\n",
            "Epoch 26/50\n",
            " 7168/12491 [================>.............] - ETA: 0s - loss: 0.0104\n",
            "Epoch 00026: saving model to model_checkpoints/checkpoint_path.ckpt\n",
            "12491/12491 [==============================] - 0s 12us/sample - loss: 0.0104\n",
            "Epoch 27/50\n",
            " 7168/12491 [================>.............] - ETA: 0s - loss: 0.0104\n",
            "Epoch 00027: saving model to model_checkpoints/checkpoint_path.ckpt\n",
            "12491/12491 [==============================] - 0s 13us/sample - loss: 0.0104\n",
            "Epoch 28/50\n",
            "12288/12491 [============================>.] - ETA: 0s - loss: 0.0104\n",
            "Epoch 00028: saving model to model_checkpoints/checkpoint_path.ckpt\n",
            "12491/12491 [==============================] - 0s 14us/sample - loss: 0.0104\n",
            "Epoch 29/50\n",
            "11264/12491 [==========================>...] - ETA: 0s - loss: 0.0103\n",
            "Epoch 00029: saving model to model_checkpoints/checkpoint_path.ckpt\n",
            "12491/12491 [==============================] - 0s 16us/sample - loss: 0.0103\n",
            "Epoch 30/50\n",
            "11264/12491 [==========================>...] - ETA: 0s - loss: 0.0103\n",
            "Epoch 00030: saving model to model_checkpoints/checkpoint_path.ckpt\n",
            "12491/12491 [==============================] - 0s 15us/sample - loss: 0.0103\n",
            "Epoch 31/50\n",
            " 7168/12491 [================>.............] - ETA: 0s - loss: 0.0103\n",
            "Epoch 00031: saving model to model_checkpoints/checkpoint_path.ckpt\n",
            "12491/12491 [==============================] - 0s 12us/sample - loss: 0.0103\n",
            "Epoch 32/50\n",
            " 6144/12491 [=============>................] - ETA: 0s - loss: 0.0102\n",
            "Epoch 00032: saving model to model_checkpoints/checkpoint_path.ckpt\n",
            "12491/12491 [==============================] - 0s 13us/sample - loss: 0.0103\n",
            "Epoch 33/50\n",
            "11264/12491 [==========================>...] - ETA: 0s - loss: 0.0102\n",
            "Epoch 00033: saving model to model_checkpoints/checkpoint_path.ckpt\n",
            "12491/12491 [==============================] - 0s 14us/sample - loss: 0.0103\n",
            "Epoch 34/50\n",
            "12288/12491 [============================>.] - ETA: 0s - loss: 0.0102\n",
            "Epoch 00034: saving model to model_checkpoints/checkpoint_path.ckpt\n",
            "12491/12491 [==============================] - 0s 14us/sample - loss: 0.0102\n",
            "Epoch 35/50\n",
            "12288/12491 [============================>.] - ETA: 0s - loss: 0.0101\n",
            "Epoch 00035: saving model to model_checkpoints/checkpoint_path.ckpt\n",
            "12491/12491 [==============================] - 0s 14us/sample - loss: 0.0101\n",
            "Epoch 36/50\n",
            "11264/12491 [==========================>...] - ETA: 0s - loss: 0.0100\n",
            "Epoch 00036: saving model to model_checkpoints/checkpoint_path.ckpt\n",
            "12491/12491 [==============================] - 0s 14us/sample - loss: 0.0100\n",
            "Epoch 37/50\n",
            "12288/12491 [============================>.] - ETA: 0s - loss: 0.0100\n",
            "Epoch 00037: saving model to model_checkpoints/checkpoint_path.ckpt\n",
            "12491/12491 [==============================] - 0s 14us/sample - loss: 0.0100\n",
            "Epoch 38/50\n",
            " 9216/12491 [=====================>........] - ETA: 0s - loss: 0.0100\n",
            "Epoch 00038: saving model to model_checkpoints/checkpoint_path.ckpt\n",
            "12491/12491 [==============================] - 0s 16us/sample - loss: 0.0100\n",
            "Epoch 39/50\n",
            " 7168/12491 [================>.............] - ETA: 0s - loss: 0.0100\n",
            "Epoch 00039: saving model to model_checkpoints/checkpoint_path.ckpt\n",
            "12491/12491 [==============================] - 0s 15us/sample - loss: 0.0100\n",
            "Epoch 40/50\n",
            " 7168/12491 [================>.............] - ETA: 0s - loss: 0.0099\n",
            "Epoch 00040: saving model to model_checkpoints/checkpoint_path.ckpt\n",
            "12491/12491 [==============================] - 0s 13us/sample - loss: 0.0099\n",
            "Epoch 41/50\n",
            " 7168/12491 [================>.............] - ETA: 0s - loss: 0.0099\n",
            "Epoch 00041: saving model to model_checkpoints/checkpoint_path.ckpt\n",
            "12491/12491 [==============================] - 0s 13us/sample - loss: 0.0099\n",
            "Epoch 42/50\n",
            "12288/12491 [============================>.] - ETA: 0s - loss: 0.0099\n",
            "Epoch 00042: saving model to model_checkpoints/checkpoint_path.ckpt\n",
            "12491/12491 [==============================] - 0s 15us/sample - loss: 0.0099\n",
            "Epoch 43/50\n",
            " 7168/12491 [================>.............] - ETA: 0s - loss: 0.0099\n",
            "Epoch 00043: saving model to model_checkpoints/checkpoint_path.ckpt\n",
            "12491/12491 [==============================] - 0s 13us/sample - loss: 0.0099\n",
            "Epoch 44/50\n",
            " 7168/12491 [================>.............] - ETA: 0s - loss: 0.0100\n",
            "Epoch 00044: saving model to model_checkpoints/checkpoint_path.ckpt\n",
            "12491/12491 [==============================] - 0s 13us/sample - loss: 0.0099\n",
            "Epoch 45/50\n",
            " 7168/12491 [================>.............] - ETA: 0s - loss: 0.0099\n",
            "Epoch 00045: saving model to model_checkpoints/checkpoint_path.ckpt\n",
            "12491/12491 [==============================] - 0s 13us/sample - loss: 0.0099\n",
            "Epoch 46/50\n",
            "12288/12491 [============================>.] - ETA: 0s - loss: 0.0099\n",
            "Epoch 00046: saving model to model_checkpoints/checkpoint_path.ckpt\n",
            "12491/12491 [==============================] - 0s 15us/sample - loss: 0.0099\n",
            "Epoch 47/50\n",
            "11264/12491 [==========================>...] - ETA: 0s - loss: 0.0099\n",
            "Epoch 00047: saving model to model_checkpoints/checkpoint_path.ckpt\n",
            "12491/12491 [==============================] - 0s 15us/sample - loss: 0.0099\n",
            "Epoch 48/50\n",
            " 7168/12491 [================>.............] - ETA: 0s - loss: 0.0099\n",
            "Epoch 00048: saving model to model_checkpoints/checkpoint_path.ckpt\n",
            "12491/12491 [==============================] - 0s 14us/sample - loss: 0.0099\n",
            "Epoch 49/50\n",
            "11264/12491 [==========================>...] - ETA: 0s - loss: 0.0099\n",
            "Epoch 00049: saving model to model_checkpoints/checkpoint_path.ckpt\n",
            "12491/12491 [==============================] - 0s 15us/sample - loss: 0.0099\n",
            "Epoch 50/50\n",
            " 7168/12491 [================>.............] - ETA: 0s - loss: 0.0099\n",
            "Epoch 00050: saving model to model_checkpoints/checkpoint_path.ckpt\n",
            "12491/12491 [==============================] - 0s 13us/sample - loss: 0.0099\n"
          ],
          "name": "stdout"
        }
      ]
    },
    {
      "cell_type": "markdown",
      "metadata": {
        "id": "w4r-uEulpYW_",
        "colab_type": "text"
      },
      "source": [
        "### Evaluate new model"
      ]
    },
    {
      "cell_type": "code",
      "metadata": {
        "id": "fpwLV1F8X7H2",
        "colab_type": "code",
        "colab": {}
      },
      "source": [
        "from matplotlib import pyplot as plt\n",
        "%matplotlib inline"
      ],
      "execution_count": 0,
      "outputs": []
    },
    {
      "cell_type": "code",
      "metadata": {
        "id": "30lddQQnc7kK",
        "colab_type": "code",
        "outputId": "556522e7-3c56-4277-9a08-81aaa1021a63",
        "colab": {
          "base_uri": "https://localhost:8080/",
          "height": 310
        }
      },
      "source": [
        "loss = n_autoencoder_train.history['loss']\n",
        "epoch_range = range(epoch + 1)\n",
        "plt.figure(figsize=[9,4])\n",
        "plt.plot(epoch_range, loss, label='New model (201 dimensions)', color='red')\n",
        "plt.plot(epoch_range, sample_loss, label='Sample model (69 dimensions)', color='blue')\n",
        "plt.xlabel('Epoch', labelpad=10)\n",
        "plt.ylabel('Loss', labelpad=10)\n",
        "plt.title('Training loss of autoencoder models', pad=15)\n",
        "plt.legend()\n",
        "plt.show()"
      ],
      "execution_count": 719,
      "outputs": [
        {
          "output_type": "display_data",
          "data": {
            "image/png": "[encoded data removed]",
            "text/plain": [
              "<Figure size 648x288 with 1 Axes>"
            ]
          },
          "metadata": {
            "tags": []
          }
        }
      ]
    },
    {
      "cell_type": "markdown",
      "metadata": {
        "id": "6rmfY9NzplBF",
        "colab_type": "text"
      },
      "source": [
        "### Save the final model"
      ]
    },
    {
      "cell_type": "code",
      "metadata": {
        "id": "I5u5Cea6e4DG",
        "colab_type": "code",
        "outputId": "04aacba7-2b89-4e5c-b4e9-7a9dfd818ed1",
        "colab": {
          "base_uri": "https://localhost:8080/",
          "height": 52
        }
      },
      "source": [
        "final_patch = \"drive/My Drive/capstone_project/final_model\"\n",
        "make_folder(final_patch)\n",
        "\n",
        "n_autoencoder.save(final_patch)"
      ],
      "execution_count": 720,
      "outputs": [
        {
          "output_type": "stream",
          "text": [
            "Directory already exist.\n",
            "INFO:tensorflow:Assets written to: drive/My Drive/capstone_project/final_model/assets\n"
          ],
          "name": "stdout"
        }
      ]
    }
  ]
}