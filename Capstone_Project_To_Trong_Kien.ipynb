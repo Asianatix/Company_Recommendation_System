{
  "nbformat": 4,
  "nbformat_minor": 0,
  "metadata": {
    "colab": {
      "name": "Capstone Project_To Trong Kien.ipynb",
      "provenance": [],
      "collapsed_sections": [],
      "toc_visible": true,
      "include_colab_link": true
    },
    "kernelspec": {
      "name": "python3",
      "display_name": "Python 3"
    },
    "accelerator": "GPU"
  },
  "cells": [
    {
      "cell_type": "markdown",
      "metadata": {
        "id": "view-in-github",
        "colab_type": "text"
      },
      "source": [
        "<a href=\"https://colab.research.google.com/github/tokien1998/Company_Recommendation_System/blob/master/Capstone_Project_To_Trong_Kien.ipynb\" target=\"_parent\"><img src=\"https://colab.research.google.com/assets/colab-badge.svg\" alt=\"Open In Colab\"/></a>"
      ]
    },
    {
      "cell_type": "markdown",
      "metadata": {
        "id": "Q8ROW3db_byq",
        "colab_type": "text"
      },
      "source": [
        "# Company Peer Discovery using Autoencoder\n",
        "\n",
        "Autoencoders are a neural network used for dimensionality reduction. The neural network learn the latent features of the dataset to transform input features into a compressed representation. \n",
        "\n",
        "It can be used for encoding high dimensionality data to reduce noise and compute the similarity between high dimensionality data points.\n",
        "\n",
        "In this case, we have a list of compnay with their profiles. The problem statement is to find the peer of these companies. \n",
        "\n",
        "Traditionally, we would engage an expert and define ruleset to filter and sort these companies into specific buckets which is rather subjective. It would be prohibitive if the list is long, we have 12,491 companies in this list.\n",
        "\n",
        "We can use autoencoders to encode companies into their latent vector and programmatically search for their peers objectively. Hence, machine learning enabled the discovery of peer companies in a scalable manner.\n",
        "\n",
        "In this project, you will use an autoencoder to encode company profiles and create a machine learning system for peer discovery. You will go through the applied data science journey:\n",
        "\n",
        "Data wrangling >> Machine Learning model training >> Serving machine learning model >> evaluating the effectiveness of the machine learning system.\n",
        "\n",
        "Data file can be downloaded at:\n",
        "https://drive.google.com/file/d/1FrqsCW758NbZgfKbEoCMDDLmf7kUPf2j/view?usp=sharing\n",
        "\n"
      ]
    },
    {
      "cell_type": "markdown",
      "metadata": {
        "id": "9h-NpHl203bY",
        "colab_type": "text"
      },
      "source": [
        "## Adding GPU\n",
        "\n",
        "We can add a GPU by going to the menu and selecting:\n",
        "\n",
        "Edit -> Notebook Settings -> Add accelerator (GPU)\n",
        "\n",
        "Then run the following cell to confirm that the GPU is detected."
      ]
    },
    {
      "cell_type": "code",
      "metadata": {
        "id": "ZoVrYIA3OScW",
        "colab_type": "code",
        "outputId": "4a2a939d-3c99-4ac3-e2ef-92ec0676adb8",
        "colab": {
          "base_uri": "https://localhost:8080/",
          "height": 650
        }
      },
      "source": [
        "!pip uninstall tensorflow -y\n",
        "!pip install tensorflow-gpu==2.0.0"
      ],
      "execution_count": 0,
      "outputs": [
        {
          "output_type": "stream",
          "text": [
            "\u001b[33mWARNING: Skipping tensorflow as it is not installed.\u001b[0m\n",
            "Requirement already satisfied: tensorflow-gpu==2.0.0 in /usr/local/lib/python3.6/dist-packages (2.0.0)\n",
            "Requirement already satisfied: numpy<2.0,>=1.16.0 in /usr/local/lib/python3.6/dist-packages (from tensorflow-gpu==2.0.0) (1.17.5)\n",
            "Requirement already satisfied: opt-einsum>=2.3.2 in /usr/local/lib/python3.6/dist-packages (from tensorflow-gpu==2.0.0) (3.1.0)\n",
            "Requirement already satisfied: wheel>=0.26 in /usr/local/lib/python3.6/dist-packages (from tensorflow-gpu==2.0.0) (0.33.6)\n",
            "Requirement already satisfied: termcolor>=1.1.0 in /usr/local/lib/python3.6/dist-packages (from tensorflow-gpu==2.0.0) (1.1.0)\n",
            "Requirement already satisfied: astor>=0.6.0 in /usr/local/lib/python3.6/dist-packages (from tensorflow-gpu==2.0.0) (0.8.1)\n",
            "Requirement already satisfied: tensorboard<2.1.0,>=2.0.0 in /usr/local/lib/python3.6/dist-packages (from tensorflow-gpu==2.0.0) (2.0.2)\n",
            "Requirement already satisfied: absl-py>=0.7.0 in /usr/local/lib/python3.6/dist-packages (from tensorflow-gpu==2.0.0) (0.9.0)\n",
            "Requirement already satisfied: grpcio>=1.8.6 in /usr/local/lib/python3.6/dist-packages (from tensorflow-gpu==2.0.0) (1.15.0)\n",
            "Requirement already satisfied: protobuf>=3.6.1 in /usr/local/lib/python3.6/dist-packages (from tensorflow-gpu==2.0.0) (3.10.0)\n",
            "Requirement already satisfied: keras-applications>=1.0.8 in /usr/local/lib/python3.6/dist-packages (from tensorflow-gpu==2.0.0) (1.0.8)\n",
            "Requirement already satisfied: tensorflow-estimator<2.1.0,>=2.0.0 in /usr/local/lib/python3.6/dist-packages (from tensorflow-gpu==2.0.0) (2.0.1)\n",
            "Requirement already satisfied: gast==0.2.2 in /usr/local/lib/python3.6/dist-packages (from tensorflow-gpu==2.0.0) (0.2.2)\n",
            "Requirement already satisfied: six>=1.10.0 in /usr/local/lib/python3.6/dist-packages (from tensorflow-gpu==2.0.0) (1.12.0)\n",
            "Requirement already satisfied: wrapt>=1.11.1 in /usr/local/lib/python3.6/dist-packages (from tensorflow-gpu==2.0.0) (1.11.2)\n",
            "Requirement already satisfied: google-pasta>=0.1.6 in /usr/local/lib/python3.6/dist-packages (from tensorflow-gpu==2.0.0) (0.1.8)\n",
            "Requirement already satisfied: keras-preprocessing>=1.0.5 in /usr/local/lib/python3.6/dist-packages (from tensorflow-gpu==2.0.0) (1.1.0)\n",
            "Requirement already satisfied: google-auth<2,>=1.6.3 in /usr/local/lib/python3.6/dist-packages (from tensorboard<2.1.0,>=2.0.0->tensorflow-gpu==2.0.0) (1.10.1)\n",
            "Requirement already satisfied: requests<3,>=2.21.0 in /usr/local/lib/python3.6/dist-packages (from tensorboard<2.1.0,>=2.0.0->tensorflow-gpu==2.0.0) (2.21.0)\n",
            "Requirement already satisfied: markdown>=2.6.8 in /usr/local/lib/python3.6/dist-packages (from tensorboard<2.1.0,>=2.0.0->tensorflow-gpu==2.0.0) (3.1.1)\n",
            "Requirement already satisfied: werkzeug>=0.11.15 in /usr/local/lib/python3.6/dist-packages (from tensorboard<2.1.0,>=2.0.0->tensorflow-gpu==2.0.0) (0.16.0)\n",
            "Requirement already satisfied: google-auth-oauthlib<0.5,>=0.4.1 in /usr/local/lib/python3.6/dist-packages (from tensorboard<2.1.0,>=2.0.0->tensorflow-gpu==2.0.0) (0.4.1)\n",
            "Requirement already satisfied: setuptools>=41.0.0 in /usr/local/lib/python3.6/dist-packages (from tensorboard<2.1.0,>=2.0.0->tensorflow-gpu==2.0.0) (42.0.2)\n",
            "Requirement already satisfied: h5py in /usr/local/lib/python3.6/dist-packages (from keras-applications>=1.0.8->tensorflow-gpu==2.0.0) (2.8.0)\n",
            "Requirement already satisfied: cachetools<5.0,>=2.0.0 in /usr/local/lib/python3.6/dist-packages (from google-auth<2,>=1.6.3->tensorboard<2.1.0,>=2.0.0->tensorflow-gpu==2.0.0) (4.0.0)\n",
            "Requirement already satisfied: rsa<4.1,>=3.1.4 in /usr/local/lib/python3.6/dist-packages (from google-auth<2,>=1.6.3->tensorboard<2.1.0,>=2.0.0->tensorflow-gpu==2.0.0) (4.0)\n",
            "Requirement already satisfied: pyasn1-modules>=0.2.1 in /usr/local/lib/python3.6/dist-packages (from google-auth<2,>=1.6.3->tensorboard<2.1.0,>=2.0.0->tensorflow-gpu==2.0.0) (0.2.7)\n",
            "Requirement already satisfied: idna<2.9,>=2.5 in /usr/local/lib/python3.6/dist-packages (from requests<3,>=2.21.0->tensorboard<2.1.0,>=2.0.0->tensorflow-gpu==2.0.0) (2.8)\n",
            "Requirement already satisfied: chardet<3.1.0,>=3.0.2 in /usr/local/lib/python3.6/dist-packages (from requests<3,>=2.21.0->tensorboard<2.1.0,>=2.0.0->tensorflow-gpu==2.0.0) (3.0.4)\n",
            "Requirement already satisfied: certifi>=2017.4.17 in /usr/local/lib/python3.6/dist-packages (from requests<3,>=2.21.0->tensorboard<2.1.0,>=2.0.0->tensorflow-gpu==2.0.0) (2019.11.28)\n",
            "Requirement already satisfied: urllib3<1.25,>=1.21.1 in /usr/local/lib/python3.6/dist-packages (from requests<3,>=2.21.0->tensorboard<2.1.0,>=2.0.0->tensorflow-gpu==2.0.0) (1.24.3)\n",
            "Requirement already satisfied: requests-oauthlib>=0.7.0 in /usr/local/lib/python3.6/dist-packages (from google-auth-oauthlib<0.5,>=0.4.1->tensorboard<2.1.0,>=2.0.0->tensorflow-gpu==2.0.0) (1.3.0)\n",
            "Requirement already satisfied: pyasn1>=0.1.3 in /usr/local/lib/python3.6/dist-packages (from rsa<4.1,>=3.1.4->google-auth<2,>=1.6.3->tensorboard<2.1.0,>=2.0.0->tensorflow-gpu==2.0.0) (0.4.8)\n",
            "Requirement already satisfied: oauthlib>=3.0.0 in /usr/local/lib/python3.6/dist-packages (from requests-oauthlib>=0.7.0->google-auth-oauthlib<0.5,>=0.4.1->tensorboard<2.1.0,>=2.0.0->tensorflow-gpu==2.0.0) (3.1.0)\n"
          ],
          "name": "stdout"
        }
      ]
    },
    {
      "cell_type": "markdown",
      "metadata": {
        "id": "9FGMjswsVAWs",
        "colab_type": "text"
      },
      "source": [
        "# Data Cleaning and Encoding"
      ]
    },
    {
      "cell_type": "code",
      "metadata": {
        "colab_type": "code",
        "outputId": "35af96a5-77f2-46f0-8655-fc85aab7de32",
        "id": "26gsfoQVDD40",
        "colab": {
          "base_uri": "https://localhost:8080/",
          "height": 52
        }
      },
      "source": [
        "import tensorflow as tf\n",
        "print(\"Tensorflow version: {}\".format(tf.__version__))\n",
        "device_name = tf.test.gpu_device_name()\n",
        "\n",
        "if device_name != '/device:GPU:0':\n",
        "  raise SystemError('GPU device not found')\n",
        "print('Found GPU at: {}'.format(device_name))"
      ],
      "execution_count": 0,
      "outputs": [
        {
          "output_type": "stream",
          "text": [
            "Tensorflow version: 2.0.0\n",
            "Found GPU at: /device:GPU:0\n"
          ],
          "name": "stdout"
        }
      ]
    },
    {
      "cell_type": "code",
      "metadata": {
        "id": "u7DLhRhqFONh",
        "colab_type": "code",
        "outputId": "fce9e715-9bf1-444d-cf85-489deac051b3",
        "colab": {
          "base_uri": "https://localhost:8080/",
          "height": 35
        }
      },
      "source": [
        "from google.colab import drive\n",
        "drive.mount('/content/drive')"
      ],
      "execution_count": 0,
      "outputs": [
        {
          "output_type": "stream",
          "text": [
            "Drive already mounted at /content/drive; to attempt to forcibly remount, call drive.mount(\"/content/drive\", force_remount=True).\n"
          ],
          "name": "stdout"
        }
      ]
    },
    {
      "cell_type": "code",
      "metadata": {
        "id": "CXX4ygVnENM6",
        "colab_type": "code",
        "outputId": "583a1e57-b64c-44e1-da5a-6dd5fa06ef81",
        "colab": {
          "resources": {
            "http://localhost:8080/nbextensions/google.colab/files.js": {
              "data": "Ly8gQ29weXJpZ2h0IDIwMTcgR29vZ2xlIExMQwovLwovLyBMaWNlbnNlZCB1bmRlciB0aGUgQXBhY2hlIExpY2Vuc2UsIFZlcnNpb24gMi4wICh0aGUgIkxpY2Vuc2UiKTsKLy8geW91IG1heSBub3QgdXNlIHRoaXMgZmlsZSBleGNlcHQgaW4gY29tcGxpYW5jZSB3aXRoIHRoZSBMaWNlbnNlLgovLyBZb3UgbWF5IG9idGFpbiBhIGNvcHkgb2YgdGhlIExpY2Vuc2UgYXQKLy8KLy8gICAgICBodHRwOi8vd3d3LmFwYWNoZS5vcmcvbGljZW5zZXMvTElDRU5TRS0yLjAKLy8KLy8gVW5sZXNzIHJlcXVpcmVkIGJ5IGFwcGxpY2FibGUgbGF3IG9yIGFncmVlZCB0byBpbiB3cml0aW5nLCBzb2Z0d2FyZQovLyBkaXN0cmlidXRlZCB1bmRlciB0aGUgTGljZW5zZSBpcyBkaXN0cmlidXRlZCBvbiBhbiAiQVMgSVMiIEJBU0lTLAovLyBXSVRIT1VUIFdBUlJBTlRJRVMgT1IgQ09ORElUSU9OUyBPRiBBTlkgS0lORCwgZWl0aGVyIGV4cHJlc3Mgb3IgaW1wbGllZC4KLy8gU2VlIHRoZSBMaWNlbnNlIGZvciB0aGUgc3BlY2lmaWMgbGFuZ3VhZ2UgZ292ZXJuaW5nIHBlcm1pc3Npb25zIGFuZAovLyBsaW1pdGF0aW9ucyB1bmRlciB0aGUgTGljZW5zZS4KCi8qKgogKiBAZmlsZW92ZXJ2aWV3IEhlbHBlcnMgZm9yIGdvb2dsZS5jb2xhYiBQeXRob24gbW9kdWxlLgogKi8KKGZ1bmN0aW9uKHNjb3BlKSB7CmZ1bmN0aW9uIHNwYW4odGV4dCwgc3R5bGVBdHRyaWJ1dGVzID0ge30pIHsKICBjb25zdCBlbGVtZW50ID0gZG9jdW1lbnQuY3JlYXRlRWxlbWVudCgnc3BhbicpOwogIGVsZW1lbnQudGV4dENvbnRlbnQgPSB0ZXh0OwogIGZvciAoY29uc3Qga2V5IG9mIE9iamVjdC5rZXlzKHN0eWxlQXR0cmlidXRlcykpIHsKICAgIGVsZW1lbnQuc3R5bGVba2V5XSA9IHN0eWxlQXR0cmlidXRlc1trZXldOwogIH0KICByZXR1cm4gZWxlbWVudDsKfQoKLy8gTWF4IG51bWJlciBvZiBieXRlcyB3aGljaCB3aWxsIGJlIHVwbG9hZGVkIGF0IGEgdGltZS4KY29uc3QgTUFYX1BBWUxPQURfU0laRSA9IDEwMCAqIDEwMjQ7Ci8vIE1heCBhbW91bnQgb2YgdGltZSB0byBibG9jayB3YWl0aW5nIGZvciB0aGUgdXNlci4KY29uc3QgRklMRV9DSEFOR0VfVElNRU9VVF9NUyA9IDMwICogMTAwMDsKCmZ1bmN0aW9uIF91cGxvYWRGaWxlcyhpbnB1dElkLCBvdXRwdXRJZCkgewogIGNvbnN0IHN0ZXBzID0gdXBsb2FkRmlsZXNTdGVwKGlucHV0SWQsIG91dHB1dElkKTsKICBjb25zdCBvdXRwdXRFbGVtZW50ID0gZG9jdW1lbnQuZ2V0RWxlbWVudEJ5SWQob3V0cHV0SWQpOwogIC8vIENhY2hlIHN0ZXBzIG9uIHRoZSBvdXRwdXRFbGVtZW50IHRvIG1ha2UgaXQgYXZhaWxhYmxlIGZvciB0aGUgbmV4dCBjYWxsCiAgLy8gdG8gdXBsb2FkRmlsZXNDb250aW51ZSBmcm9tIFB5dGhvbi4KICBvdXRwdXRFbGVtZW50LnN0ZXBzID0gc3RlcHM7CgogIHJldHVybiBfdXBsb2FkRmlsZXNDb250aW51ZShvdXRwdXRJZCk7Cn0KCi8vIFRoaXMgaXMgcm91Z2hseSBhbiBhc3luYyBnZW5lcmF0b3IgKG5vdCBzdXBwb3J0ZWQgaW4gdGhlIGJyb3dzZXIgeWV0KSwKLy8gd2hlcmUgdGhlcmUgYXJlIG11bHRpcGxlIGFzeW5jaHJvbm91cyBzdGVwcyBhbmQgdGhlIFB5dGhvbiBzaWRlIGlzIGdvaW5nCi8vIHRvIHBvbGwgZm9yIGNvbXBsZXRpb24gb2YgZWFjaCBzdGVwLgovLyBUaGlzIHVzZXMgYSBQcm9taXNlIHRvIGJsb2NrIHRoZSBweXRob24gc2lkZSBvbiBjb21wbGV0aW9uIG9mIGVhY2ggc3RlcCwKLy8gdGhlbiBwYXNzZXMgdGhlIHJlc3VsdCBvZiB0aGUgcHJldmlvdXMgc3RlcCBhcyB0aGUgaW5wdXQgdG8gdGhlIG5leHQgc3RlcC4KZnVuY3Rpb24gX3VwbG9hZEZpbGVzQ29udGludWUob3V0cHV0SWQpIHsKICBjb25zdCBvdXRwdXRFbGVtZW50ID0gZG9jdW1lbnQuZ2V0RWxlbWVudEJ5SWQob3V0cHV0SWQpOwogIGNvbnN0IHN0ZXBzID0gb3V0cHV0RWxlbWVudC5zdGVwczsKCiAgY29uc3QgbmV4dCA9IHN0ZXBzLm5leHQob3V0cHV0RWxlbWVudC5sYXN0UHJvbWlzZVZhbHVlKTsKICByZXR1cm4gUHJvbWlzZS5yZXNvbHZlKG5leHQudmFsdWUucHJvbWlzZSkudGhlbigodmFsdWUpID0+IHsKICAgIC8vIENhY2hlIHRoZSBsYXN0IHByb21pc2UgdmFsdWUgdG8gbWFrZSBpdCBhdmFpbGFibGUgdG8gdGhlIG5leHQKICAgIC8vIHN0ZXAgb2YgdGhlIGdlbmVyYXRvci4KICAgIG91dHB1dEVsZW1lbnQubGFzdFByb21pc2VWYWx1ZSA9IHZhbHVlOwogICAgcmV0dXJuIG5leHQudmFsdWUucmVzcG9uc2U7CiAgfSk7Cn0KCi8qKgogKiBHZW5lcmF0b3IgZnVuY3Rpb24gd2hpY2ggaXMgY2FsbGVkIGJldHdlZW4gZWFjaCBhc3luYyBzdGVwIG9mIHRoZSB1cGxvYWQKICogcHJvY2Vzcy4KICogQHBhcmFtIHtzdHJpbmd9IGlucHV0SWQgRWxlbWVudCBJRCBvZiB0aGUgaW5wdXQgZmlsZSBwaWNrZXIgZWxlbWVudC4KICogQHBhcmFtIHtzdHJpbmd9IG91dHB1dElkIEVsZW1lbnQgSUQgb2YgdGhlIG91dHB1dCBkaXNwbGF5LgogKiBAcmV0dXJuIHshSXRlcmFibGU8IU9iamVjdD59IEl0ZXJhYmxlIG9mIG5leHQgc3RlcHMuCiAqLwpmdW5jdGlvbiogdXBsb2FkRmlsZXNTdGVwKGlucHV0SWQsIG91dHB1dElkKSB7CiAgY29uc3QgaW5wdXRFbGVtZW50ID0gZG9jdW1lbnQuZ2V0RWxlbWVudEJ5SWQoaW5wdXRJZCk7CiAgaW5wdXRFbGVtZW50LmRpc2FibGVkID0gZmFsc2U7CgogIGNvbnN0IG91dHB1dEVsZW1lbnQgPSBkb2N1bWVudC5nZXRFbGVtZW50QnlJZChvdXRwdXRJZCk7CiAgb3V0cHV0RWxlbWVudC5pbm5lckhUTUwgPSAnJzsKCiAgY29uc3QgcGlja2VkUHJvbWlzZSA9IG5ldyBQcm9taXNlKChyZXNvbHZlKSA9PiB7CiAgICBpbnB1dEVsZW1lbnQuYWRkRXZlbnRMaXN0ZW5lcignY2hhbmdlJywgKGUpID0+IHsKICAgICAgcmVzb2x2ZShlLnRhcmdldC5maWxlcyk7CiAgICB9KTsKICB9KTsKCiAgY29uc3QgY2FuY2VsID0gZG9jdW1lbnQuY3JlYXRlRWxlbWVudCgnYnV0dG9uJyk7CiAgaW5wdXRFbGVtZW50LnBhcmVudEVsZW1lbnQuYXBwZW5kQ2hpbGQoY2FuY2VsKTsKICBjYW5jZWwudGV4dENvbnRlbnQgPSAnQ2FuY2VsIHVwbG9hZCc7CiAgY29uc3QgY2FuY2VsUHJvbWlzZSA9IG5ldyBQcm9taXNlKChyZXNvbHZlKSA9PiB7CiAgICBjYW5jZWwub25jbGljayA9ICgpID0+IHsKICAgICAgcmVzb2x2ZShudWxsKTsKICAgIH07CiAgfSk7CgogIC8vIENhbmNlbCB1cGxvYWQgaWYgdXNlciBoYXNuJ3QgcGlja2VkIGFueXRoaW5nIGluIHRpbWVvdXQuCiAgY29uc3QgdGltZW91dFByb21pc2UgPSBuZXcgUHJvbWlzZSgocmVzb2x2ZSkgPT4gewogICAgc2V0VGltZW91dCgoKSA9PiB7CiAgICAgIHJlc29sdmUobnVsbCk7CiAgICB9LCBGSUxFX0NIQU5HRV9USU1FT1VUX01TKTsKICB9KTsKCiAgLy8gV2FpdCBmb3IgdGhlIHVzZXIgdG8gcGljayB0aGUgZmlsZXMuCiAgY29uc3QgZmlsZXMgPSB5aWVsZCB7CiAgICBwcm9taXNlOiBQcm9taXNlLnJhY2UoW3BpY2tlZFByb21pc2UsIHRpbWVvdXRQcm9taXNlLCBjYW5jZWxQcm9taXNlXSksCiAgICByZXNwb25zZTogewogICAgICBhY3Rpb246ICdzdGFydGluZycsCiAgICB9CiAgfTsKCiAgaWYgKCFmaWxlcykgewogICAgcmV0dXJuIHsKICAgICAgcmVzcG9uc2U6IHsKICAgICAgICBhY3Rpb246ICdjb21wbGV0ZScsCiAgICAgIH0KICAgIH07CiAgfQoKICBjYW5jZWwucmVtb3ZlKCk7CgogIC8vIERpc2FibGUgdGhlIGlucHV0IGVsZW1lbnQgc2luY2UgZnVydGhlciBwaWNrcyBhcmUgbm90IGFsbG93ZWQuCiAgaW5wdXRFbGVtZW50LmRpc2FibGVkID0gdHJ1ZTsKCiAgZm9yIChjb25zdCBmaWxlIG9mIGZpbGVzKSB7CiAgICBjb25zdCBsaSA9IGRvY3VtZW50LmNyZWF0ZUVsZW1lbnQoJ2xpJyk7CiAgICBsaS5hcHBlbmQoc3BhbihmaWxlLm5hbWUsIHtmb250V2VpZ2h0OiAnYm9sZCd9KSk7CiAgICBsaS5hcHBlbmQoc3BhbigKICAgICAgICBgKCR7ZmlsZS50eXBlIHx8ICduL2EnfSkgLSAke2ZpbGUuc2l6ZX0gYnl0ZXMsIGAgKwogICAgICAgIGBsYXN0IG1vZGlmaWVkOiAkewogICAgICAgICAgICBmaWxlLmxhc3RNb2RpZmllZERhdGUgPyBmaWxlLmxhc3RNb2RpZmllZERhdGUudG9Mb2NhbGVEYXRlU3RyaW5nKCkgOgogICAgICAgICAgICAgICAgICAgICAgICAgICAgICAgICAgICAnbi9hJ30gLSBgKSk7CiAgICBjb25zdCBwZXJjZW50ID0gc3BhbignMCUgZG9uZScpOwogICAgbGkuYXBwZW5kQ2hpbGQocGVyY2VudCk7CgogICAgb3V0cHV0RWxlbWVudC5hcHBlbmRDaGlsZChsaSk7CgogICAgY29uc3QgZmlsZURhdGFQcm9taXNlID0gbmV3IFByb21pc2UoKHJlc29sdmUpID0+IHsKICAgICAgY29uc3QgcmVhZGVyID0gbmV3IEZpbGVSZWFkZXIoKTsKICAgICAgcmVhZGVyLm9ubG9hZCA9IChlKSA9PiB7CiAgICAgICAgcmVzb2x2ZShlLnRhcmdldC5yZXN1bHQpOwogICAgICB9OwogICAgICByZWFkZXIucmVhZEFzQXJyYXlCdWZmZXIoZmlsZSk7CiAgICB9KTsKICAgIC8vIFdhaXQgZm9yIHRoZSBkYXRhIHRvIGJlIHJlYWR5LgogICAgbGV0IGZpbGVEYXRhID0geWllbGQgewogICAgICBwcm9taXNlOiBmaWxlRGF0YVByb21pc2UsCiAgICAgIHJlc3BvbnNlOiB7CiAgICAgICAgYWN0aW9uOiAnY29udGludWUnLAogICAgICB9CiAgICB9OwoKICAgIC8vIFVzZSBhIGNodW5rZWQgc2VuZGluZyB0byBhdm9pZCBtZXNzYWdlIHNpemUgbGltaXRzLiBTZWUgYi82MjExNTY2MC4KICAgIGxldCBwb3NpdGlvbiA9IDA7CiAgICB3aGlsZSAocG9zaXRpb24gPCBmaWxlRGF0YS5ieXRlTGVuZ3RoKSB7CiAgICAgIGNvbnN0IGxlbmd0aCA9IE1hdGgubWluKGZpbGVEYXRhLmJ5dGVMZW5ndGggLSBwb3NpdGlvbiwgTUFYX1BBWUxPQURfU0laRSk7CiAgICAgIGNvbnN0IGNodW5rID0gbmV3IFVpbnQ4QXJyYXkoZmlsZURhdGEsIHBvc2l0aW9uLCBsZW5ndGgpOwogICAgICBwb3NpdGlvbiArPSBsZW5ndGg7CgogICAgICBjb25zdCBiYXNlNjQgPSBidG9hKFN0cmluZy5mcm9tQ2hhckNvZGUuYXBwbHkobnVsbCwgY2h1bmspKTsKICAgICAgeWllbGQgewogICAgICAgIHJlc3BvbnNlOiB7CiAgICAgICAgICBhY3Rpb246ICdhcHBlbmQnLAogICAgICAgICAgZmlsZTogZmlsZS5uYW1lLAogICAgICAgICAgZGF0YTogYmFzZTY0LAogICAgICAgIH0sCiAgICAgIH07CiAgICAgIHBlcmNlbnQudGV4dENvbnRlbnQgPQogICAgICAgICAgYCR7TWF0aC5yb3VuZCgocG9zaXRpb24gLyBmaWxlRGF0YS5ieXRlTGVuZ3RoKSAqIDEwMCl9JSBkb25lYDsKICAgIH0KICB9CgogIC8vIEFsbCBkb25lLgogIHlpZWxkIHsKICAgIHJlc3BvbnNlOiB7CiAgICAgIGFjdGlvbjogJ2NvbXBsZXRlJywKICAgIH0KICB9Owp9CgpzY29wZS5nb29nbGUgPSBzY29wZS5nb29nbGUgfHwge307CnNjb3BlLmdvb2dsZS5jb2xhYiA9IHNjb3BlLmdvb2dsZS5jb2xhYiB8fCB7fTsKc2NvcGUuZ29vZ2xlLmNvbGFiLl9maWxlcyA9IHsKICBfdXBsb2FkRmlsZXMsCiAgX3VwbG9hZEZpbGVzQ29udGludWUsCn07Cn0pKHNlbGYpOwo=",
              "ok": true,
              "headers": [
                [
                  "content-type",
                  "application/javascript"
                ]
              ],
              "status": 200,
              "status_text": ""
            }
          },
          "base_uri": "https://localhost:8080/",
          "height": 91
        }
      },
      "source": [
        "from google.colab import files\n",
        "\n",
        "uploaded = files.upload()\n",
        "\n",
        "for fn in uploaded.keys():\n",
        "  print('User uploaded file \"{name}\" with length {length} bytes'.format(\n",
        "      name=fn, length=len(uploaded[fn])))"
      ],
      "execution_count": 0,
      "outputs": [
        {
          "output_type": "display_data",
          "data": {
            "text/html": [
              "\n",
              "     <input type=\"file\" id=\"files-1b50c35a-22d6-4508-9556-b6e01ad2796a\" name=\"files[]\" multiple disabled />\n",
              "     <output id=\"result-1b50c35a-22d6-4508-9556-b6e01ad2796a\">\n",
              "      Upload widget is only available when the cell has been executed in the\n",
              "      current browser session. Please rerun this cell to enable.\n",
              "      </output>\n",
              "      <script src=\"/nbextensions/google.colab/files.js\"></script> "
            ],
            "text/plain": [
              "<IPython.core.display.HTML object>"
            ]
          },
          "metadata": {
            "tags": []
          }
        },
        {
          "output_type": "stream",
          "text": [
            "Saving data.f to data.f\n",
            "User uploaded file \"data.f\" with length 2068848 bytes\n"
          ],
          "name": "stdout"
        }
      ]
    },
    {
      "cell_type": "markdown",
      "metadata": {
        "id": "nJ3GbJCkHK4M",
        "colab_type": "text"
      },
      "source": [
        "## Read data into dataframe and do some simple cleaning\n"
      ]
    },
    {
      "cell_type": "code",
      "metadata": {
        "id": "4if04PpVHA2a",
        "colab_type": "code",
        "colab": {}
      },
      "source": [
        "import pandas as pd\n",
        "import numpy as np"
      ],
      "execution_count": 0,
      "outputs": []
    },
    {
      "cell_type": "code",
      "metadata": {
        "id": "7GpZ05CYHRwR",
        "colab_type": "code",
        "outputId": "706d35be-1b1b-41a4-c170-da5aa513f91a",
        "colab": {
          "base_uri": "https://localhost:8080/",
          "height": 696
        }
      },
      "source": [
        "data_path = 'data.f'\n",
        "raw_df = pd.read_feather(data_path)\n",
        "raw_df.head(10)"
      ],
      "execution_count": 0,
      "outputs": [
        {
          "output_type": "execute_result",
          "data": {
            "text/html": [
              "<div>\n",
              "<style scoped>\n",
              "    .dataframe tbody tr th:only-of-type {\n",
              "        vertical-align: middle;\n",
              "    }\n",
              "\n",
              "    .dataframe tbody tr th {\n",
              "        vertical-align: top;\n",
              "    }\n",
              "\n",
              "    .dataframe thead th {\n",
              "        text-align: right;\n",
              "    }\n",
              "</style>\n",
              "<table border=\"1\" class=\"dataframe\">\n",
              "  <thead>\n",
              "    <tr style=\"text-align: right;\">\n",
              "      <th></th>\n",
              "      <th>index</th>\n",
              "      <th>Country</th>\n",
              "      <th>Country Status</th>\n",
              "      <th>Featured Report?</th>\n",
              "      <th>GOLD Community</th>\n",
              "      <th>Listed/Non-listed</th>\n",
              "      <th>Name</th>\n",
              "      <th>OS</th>\n",
              "      <th>Organization type</th>\n",
              "      <th>Region</th>\n",
              "      <th>Sector</th>\n",
              "      <th>Size</th>\n",
              "      <th>year</th>\n",
              "    </tr>\n",
              "  </thead>\n",
              "  <tbody>\n",
              "    <tr>\n",
              "      <th>0</th>\n",
              "      <td>42434</td>\n",
              "      <td>Italy</td>\n",
              "      <td>OECD</td>\n",
              "      <td>No</td>\n",
              "      <td>No</td>\n",
              "      <td>Listed</td>\n",
              "      <td>Acea</td>\n",
              "      <td>None</td>\n",
              "      <td>Private company</td>\n",
              "      <td>Europe</td>\n",
              "      <td>Energy Utilities</td>\n",
              "      <td>Large</td>\n",
              "      <td>2017,2016,2015,2014,2013,2012,2011,2010,2009,2...</td>\n",
              "    </tr>\n",
              "    <tr>\n",
              "      <th>1</th>\n",
              "      <td>36391</td>\n",
              "      <td>United States of America</td>\n",
              "      <td>OECD</td>\n",
              "      <td>No</td>\n",
              "      <td>No</td>\n",
              "      <td>Listed</td>\n",
              "      <td>Bristol-Myers Squibb Company</td>\n",
              "      <td>None</td>\n",
              "      <td>Private company</td>\n",
              "      <td>Northern America</td>\n",
              "      <td>Healthcare Products</td>\n",
              "      <td>Large</td>\n",
              "      <td>2016,2016,2014,2012,2011,2010,2009,2008,2007,2...</td>\n",
              "    </tr>\n",
              "    <tr>\n",
              "      <th>2</th>\n",
              "      <td>29899</td>\n",
              "      <td>United Kingdom of Great Britain and Northern I...</td>\n",
              "      <td>OECD</td>\n",
              "      <td>No</td>\n",
              "      <td>None</td>\n",
              "      <td>Non-listed</td>\n",
              "      <td>British Airways</td>\n",
              "      <td>No</td>\n",
              "      <td>Subsidiary</td>\n",
              "      <td>Europe</td>\n",
              "      <td>Aviation</td>\n",
              "      <td>Large</td>\n",
              "      <td>2015,2014,2013,2000,1999</td>\n",
              "    </tr>\n",
              "    <tr>\n",
              "      <th>3</th>\n",
              "      <td>44375</td>\n",
              "      <td>Sweden</td>\n",
              "      <td>OECD</td>\n",
              "      <td>No</td>\n",
              "      <td>No</td>\n",
              "      <td>Listed</td>\n",
              "      <td>Electrolux</td>\n",
              "      <td>None</td>\n",
              "      <td>Private company</td>\n",
              "      <td>Europe</td>\n",
              "      <td>Consumer Durables</td>\n",
              "      <td>Large</td>\n",
              "      <td>2017,2016,2015,2014,2013,2012,2011,2010,2009,2...</td>\n",
              "    </tr>\n",
              "    <tr>\n",
              "      <th>4</th>\n",
              "      <td>22</td>\n",
              "      <td>Sweden</td>\n",
              "      <td>OECD</td>\n",
              "      <td>None</td>\n",
              "      <td>None</td>\n",
              "      <td>None</td>\n",
              "      <td>ESAB</td>\n",
              "      <td>None</td>\n",
              "      <td>None</td>\n",
              "      <td>Europe</td>\n",
              "      <td>Construction Materials</td>\n",
              "      <td>Large</td>\n",
              "      <td>2000,1999</td>\n",
              "    </tr>\n",
              "    <tr>\n",
              "      <th>5</th>\n",
              "      <td>50196</td>\n",
              "      <td>United States of America</td>\n",
              "      <td>OECD</td>\n",
              "      <td>No</td>\n",
              "      <td>Yes</td>\n",
              "      <td>Listed</td>\n",
              "      <td>General Motors Company</td>\n",
              "      <td>None</td>\n",
              "      <td>Private company</td>\n",
              "      <td>Northern America</td>\n",
              "      <td>Automotive</td>\n",
              "      <td>MNE</td>\n",
              "      <td>2018,2017,2016,2015,2014,2013,2012,2011,2004,2...</td>\n",
              "    </tr>\n",
              "    <tr>\n",
              "      <th>6</th>\n",
              "      <td>51019</td>\n",
              "      <td>Japan</td>\n",
              "      <td>OECD</td>\n",
              "      <td>No</td>\n",
              "      <td>No</td>\n",
              "      <td>Listed</td>\n",
              "      <td>Panasonic Corporation</td>\n",
              "      <td>None</td>\n",
              "      <td>Private company</td>\n",
              "      <td>Asia</td>\n",
              "      <td>Consumer Durables</td>\n",
              "      <td>Large</td>\n",
              "      <td>2018,2017,2016,2015,2014,2013,2012,2011,2010,2...</td>\n",
              "    </tr>\n",
              "    <tr>\n",
              "      <th>7</th>\n",
              "      <td>47087</td>\n",
              "      <td>United States of America</td>\n",
              "      <td>OECD</td>\n",
              "      <td>No</td>\n",
              "      <td>No</td>\n",
              "      <td>Listed</td>\n",
              "      <td>Procter &amp; Gamble</td>\n",
              "      <td>None</td>\n",
              "      <td>Private company</td>\n",
              "      <td>Northern America</td>\n",
              "      <td>Household and Personal Products</td>\n",
              "      <td>Large</td>\n",
              "      <td>2017,2016,2015,2014,2013,2012,2011,2010,2009,2...</td>\n",
              "    </tr>\n",
              "    <tr>\n",
              "      <th>8</th>\n",
              "      <td>1176</td>\n",
              "      <td>Netherlands</td>\n",
              "      <td>OECD</td>\n",
              "      <td>None</td>\n",
              "      <td>None</td>\n",
              "      <td>None</td>\n",
              "      <td>Procter &amp; Gamble Netherlands</td>\n",
              "      <td>None</td>\n",
              "      <td>None</td>\n",
              "      <td>Europe</td>\n",
              "      <td>Household and Personal Products</td>\n",
              "      <td>Large</td>\n",
              "      <td>2005,2003,2002,2001,2000,1999</td>\n",
              "    </tr>\n",
              "    <tr>\n",
              "      <th>9</th>\n",
              "      <td>51465</td>\n",
              "      <td>Canada</td>\n",
              "      <td>OECD</td>\n",
              "      <td>No</td>\n",
              "      <td>No</td>\n",
              "      <td>Listed</td>\n",
              "      <td>Suncor Energy</td>\n",
              "      <td>None</td>\n",
              "      <td>Private company</td>\n",
              "      <td>Northern America</td>\n",
              "      <td>Energy</td>\n",
              "      <td>Large</td>\n",
              "      <td>2018,2017,2016,2015,2014,2013,2012,2011,2010,2...</td>\n",
              "    </tr>\n",
              "  </tbody>\n",
              "</table>\n",
              "</div>"
            ],
            "text/plain": [
              "   index  ...                                               year\n",
              "0  42434  ...  2017,2016,2015,2014,2013,2012,2011,2010,2009,2...\n",
              "1  36391  ...  2016,2016,2014,2012,2011,2010,2009,2008,2007,2...\n",
              "2  29899  ...                           2015,2014,2013,2000,1999\n",
              "3  44375  ...  2017,2016,2015,2014,2013,2012,2011,2010,2009,2...\n",
              "4     22  ...                                          2000,1999\n",
              "5  50196  ...  2018,2017,2016,2015,2014,2013,2012,2011,2004,2...\n",
              "6  51019  ...  2018,2017,2016,2015,2014,2013,2012,2011,2010,2...\n",
              "7  47087  ...  2017,2016,2015,2014,2013,2012,2011,2010,2009,2...\n",
              "8   1176  ...                      2005,2003,2002,2001,2000,1999\n",
              "9  51465  ...  2018,2017,2016,2015,2014,2013,2012,2011,2010,2...\n",
              "\n",
              "[10 rows x 13 columns]"
            ]
          },
          "metadata": {
            "tags": []
          },
          "execution_count": 10
        }
      ]
    },
    {
      "cell_type": "code",
      "metadata": {
        "id": "bL7bwXIuOoKe",
        "colab_type": "code",
        "outputId": "d39cfa0e-9f0f-42a0-9323-e932c7139082",
        "colab": {
          "base_uri": "https://localhost:8080/",
          "height": 696
        }
      },
      "source": [
        "# duplicate raw dataframe for build ML model\n",
        "dup_raw_df = raw_df.copy()\n",
        "dup_raw_df.head(10)"
      ],
      "execution_count": 0,
      "outputs": [
        {
          "output_type": "execute_result",
          "data": {
            "text/html": [
              "<div>\n",
              "<style scoped>\n",
              "    .dataframe tbody tr th:only-of-type {\n",
              "        vertical-align: middle;\n",
              "    }\n",
              "\n",
              "    .dataframe tbody tr th {\n",
              "        vertical-align: top;\n",
              "    }\n",
              "\n",
              "    .dataframe thead th {\n",
              "        text-align: right;\n",
              "    }\n",
              "</style>\n",
              "<table border=\"1\" class=\"dataframe\">\n",
              "  <thead>\n",
              "    <tr style=\"text-align: right;\">\n",
              "      <th></th>\n",
              "      <th>index</th>\n",
              "      <th>Country</th>\n",
              "      <th>Country Status</th>\n",
              "      <th>Featured Report?</th>\n",
              "      <th>GOLD Community</th>\n",
              "      <th>Listed/Non-listed</th>\n",
              "      <th>Name</th>\n",
              "      <th>OS</th>\n",
              "      <th>Organization type</th>\n",
              "      <th>Region</th>\n",
              "      <th>Sector</th>\n",
              "      <th>Size</th>\n",
              "      <th>year</th>\n",
              "    </tr>\n",
              "  </thead>\n",
              "  <tbody>\n",
              "    <tr>\n",
              "      <th>0</th>\n",
              "      <td>42434</td>\n",
              "      <td>Italy</td>\n",
              "      <td>OECD</td>\n",
              "      <td>No</td>\n",
              "      <td>No</td>\n",
              "      <td>Listed</td>\n",
              "      <td>Acea</td>\n",
              "      <td>None</td>\n",
              "      <td>Private company</td>\n",
              "      <td>Europe</td>\n",
              "      <td>Energy Utilities</td>\n",
              "      <td>Large</td>\n",
              "      <td>2017,2016,2015,2014,2013,2012,2011,2010,2009,2...</td>\n",
              "    </tr>\n",
              "    <tr>\n",
              "      <th>1</th>\n",
              "      <td>36391</td>\n",
              "      <td>United States of America</td>\n",
              "      <td>OECD</td>\n",
              "      <td>No</td>\n",
              "      <td>No</td>\n",
              "      <td>Listed</td>\n",
              "      <td>Bristol-Myers Squibb Company</td>\n",
              "      <td>None</td>\n",
              "      <td>Private company</td>\n",
              "      <td>Northern America</td>\n",
              "      <td>Healthcare Products</td>\n",
              "      <td>Large</td>\n",
              "      <td>2016,2016,2014,2012,2011,2010,2009,2008,2007,2...</td>\n",
              "    </tr>\n",
              "    <tr>\n",
              "      <th>2</th>\n",
              "      <td>29899</td>\n",
              "      <td>United Kingdom of Great Britain and Northern I...</td>\n",
              "      <td>OECD</td>\n",
              "      <td>No</td>\n",
              "      <td>None</td>\n",
              "      <td>Non-listed</td>\n",
              "      <td>British Airways</td>\n",
              "      <td>No</td>\n",
              "      <td>Subsidiary</td>\n",
              "      <td>Europe</td>\n",
              "      <td>Aviation</td>\n",
              "      <td>Large</td>\n",
              "      <td>2015,2014,2013,2000,1999</td>\n",
              "    </tr>\n",
              "    <tr>\n",
              "      <th>3</th>\n",
              "      <td>44375</td>\n",
              "      <td>Sweden</td>\n",
              "      <td>OECD</td>\n",
              "      <td>No</td>\n",
              "      <td>No</td>\n",
              "      <td>Listed</td>\n",
              "      <td>Electrolux</td>\n",
              "      <td>None</td>\n",
              "      <td>Private company</td>\n",
              "      <td>Europe</td>\n",
              "      <td>Consumer Durables</td>\n",
              "      <td>Large</td>\n",
              "      <td>2017,2016,2015,2014,2013,2012,2011,2010,2009,2...</td>\n",
              "    </tr>\n",
              "    <tr>\n",
              "      <th>4</th>\n",
              "      <td>22</td>\n",
              "      <td>Sweden</td>\n",
              "      <td>OECD</td>\n",
              "      <td>None</td>\n",
              "      <td>None</td>\n",
              "      <td>None</td>\n",
              "      <td>ESAB</td>\n",
              "      <td>None</td>\n",
              "      <td>None</td>\n",
              "      <td>Europe</td>\n",
              "      <td>Construction Materials</td>\n",
              "      <td>Large</td>\n",
              "      <td>2000,1999</td>\n",
              "    </tr>\n",
              "    <tr>\n",
              "      <th>5</th>\n",
              "      <td>50196</td>\n",
              "      <td>United States of America</td>\n",
              "      <td>OECD</td>\n",
              "      <td>No</td>\n",
              "      <td>Yes</td>\n",
              "      <td>Listed</td>\n",
              "      <td>General Motors Company</td>\n",
              "      <td>None</td>\n",
              "      <td>Private company</td>\n",
              "      <td>Northern America</td>\n",
              "      <td>Automotive</td>\n",
              "      <td>MNE</td>\n",
              "      <td>2018,2017,2016,2015,2014,2013,2012,2011,2004,2...</td>\n",
              "    </tr>\n",
              "    <tr>\n",
              "      <th>6</th>\n",
              "      <td>51019</td>\n",
              "      <td>Japan</td>\n",
              "      <td>OECD</td>\n",
              "      <td>No</td>\n",
              "      <td>No</td>\n",
              "      <td>Listed</td>\n",
              "      <td>Panasonic Corporation</td>\n",
              "      <td>None</td>\n",
              "      <td>Private company</td>\n",
              "      <td>Asia</td>\n",
              "      <td>Consumer Durables</td>\n",
              "      <td>Large</td>\n",
              "      <td>2018,2017,2016,2015,2014,2013,2012,2011,2010,2...</td>\n",
              "    </tr>\n",
              "    <tr>\n",
              "      <th>7</th>\n",
              "      <td>47087</td>\n",
              "      <td>United States of America</td>\n",
              "      <td>OECD</td>\n",
              "      <td>No</td>\n",
              "      <td>No</td>\n",
              "      <td>Listed</td>\n",
              "      <td>Procter &amp; Gamble</td>\n",
              "      <td>None</td>\n",
              "      <td>Private company</td>\n",
              "      <td>Northern America</td>\n",
              "      <td>Household and Personal Products</td>\n",
              "      <td>Large</td>\n",
              "      <td>2017,2016,2015,2014,2013,2012,2011,2010,2009,2...</td>\n",
              "    </tr>\n",
              "    <tr>\n",
              "      <th>8</th>\n",
              "      <td>1176</td>\n",
              "      <td>Netherlands</td>\n",
              "      <td>OECD</td>\n",
              "      <td>None</td>\n",
              "      <td>None</td>\n",
              "      <td>None</td>\n",
              "      <td>Procter &amp; Gamble Netherlands</td>\n",
              "      <td>None</td>\n",
              "      <td>None</td>\n",
              "      <td>Europe</td>\n",
              "      <td>Household and Personal Products</td>\n",
              "      <td>Large</td>\n",
              "      <td>2005,2003,2002,2001,2000,1999</td>\n",
              "    </tr>\n",
              "    <tr>\n",
              "      <th>9</th>\n",
              "      <td>51465</td>\n",
              "      <td>Canada</td>\n",
              "      <td>OECD</td>\n",
              "      <td>No</td>\n",
              "      <td>No</td>\n",
              "      <td>Listed</td>\n",
              "      <td>Suncor Energy</td>\n",
              "      <td>None</td>\n",
              "      <td>Private company</td>\n",
              "      <td>Northern America</td>\n",
              "      <td>Energy</td>\n",
              "      <td>Large</td>\n",
              "      <td>2018,2017,2016,2015,2014,2013,2012,2011,2010,2...</td>\n",
              "    </tr>\n",
              "  </tbody>\n",
              "</table>\n",
              "</div>"
            ],
            "text/plain": [
              "   index  ...                                               year\n",
              "0  42434  ...  2017,2016,2015,2014,2013,2012,2011,2010,2009,2...\n",
              "1  36391  ...  2016,2016,2014,2012,2011,2010,2009,2008,2007,2...\n",
              "2  29899  ...                           2015,2014,2013,2000,1999\n",
              "3  44375  ...  2017,2016,2015,2014,2013,2012,2011,2010,2009,2...\n",
              "4     22  ...                                          2000,1999\n",
              "5  50196  ...  2018,2017,2016,2015,2014,2013,2012,2011,2004,2...\n",
              "6  51019  ...  2018,2017,2016,2015,2014,2013,2012,2011,2010,2...\n",
              "7  47087  ...  2017,2016,2015,2014,2013,2012,2011,2010,2009,2...\n",
              "8   1176  ...                      2005,2003,2002,2001,2000,1999\n",
              "9  51465  ...  2018,2017,2016,2015,2014,2013,2012,2011,2010,2...\n",
              "\n",
              "[10 rows x 13 columns]"
            ]
          },
          "metadata": {
            "tags": []
          },
          "execution_count": 11
        }
      ]
    },
    {
      "cell_type": "code",
      "metadata": {
        "id": "i7NtjhRsHjZ1",
        "colab_type": "code",
        "colab": {}
      },
      "source": [
        "#df preprocessing\n",
        "ncols_raw = len(raw_df.columns)\n",
        "\n",
        "#drop duplicate index\n",
        "raw_df.drop(raw_df.columns[0], axis=1, inplace=True)\n",
        "raw_df.drop(labels=['year', 'Name', 'OS'], axis=1, inplace=True)\n",
        "raw_df.replace(to_replace=[None], value=np.nan, inplace=True)"
      ],
      "execution_count": 0,
      "outputs": []
    },
    {
      "cell_type": "code",
      "metadata": {
        "id": "YZ2dLyLMHa9j",
        "colab_type": "code",
        "outputId": "f5785a4a-5258-4677-95b8-59e9e268333c",
        "colab": {
          "base_uri": "https://localhost:8080/",
          "height": 256
        }
      },
      "source": [
        "raw_df.head()"
      ],
      "execution_count": 0,
      "outputs": [
        {
          "output_type": "execute_result",
          "data": {
            "text/html": [
              "<div>\n",
              "<style scoped>\n",
              "    .dataframe tbody tr th:only-of-type {\n",
              "        vertical-align: middle;\n",
              "    }\n",
              "\n",
              "    .dataframe tbody tr th {\n",
              "        vertical-align: top;\n",
              "    }\n",
              "\n",
              "    .dataframe thead th {\n",
              "        text-align: right;\n",
              "    }\n",
              "</style>\n",
              "<table border=\"1\" class=\"dataframe\">\n",
              "  <thead>\n",
              "    <tr style=\"text-align: right;\">\n",
              "      <th></th>\n",
              "      <th>Country</th>\n",
              "      <th>Country Status</th>\n",
              "      <th>Featured Report?</th>\n",
              "      <th>GOLD Community</th>\n",
              "      <th>Listed/Non-listed</th>\n",
              "      <th>Organization type</th>\n",
              "      <th>Region</th>\n",
              "      <th>Sector</th>\n",
              "      <th>Size</th>\n",
              "    </tr>\n",
              "  </thead>\n",
              "  <tbody>\n",
              "    <tr>\n",
              "      <th>0</th>\n",
              "      <td>Italy</td>\n",
              "      <td>OECD</td>\n",
              "      <td>No</td>\n",
              "      <td>No</td>\n",
              "      <td>Listed</td>\n",
              "      <td>Private company</td>\n",
              "      <td>Europe</td>\n",
              "      <td>Energy Utilities</td>\n",
              "      <td>Large</td>\n",
              "    </tr>\n",
              "    <tr>\n",
              "      <th>1</th>\n",
              "      <td>United States of America</td>\n",
              "      <td>OECD</td>\n",
              "      <td>No</td>\n",
              "      <td>No</td>\n",
              "      <td>Listed</td>\n",
              "      <td>Private company</td>\n",
              "      <td>Northern America</td>\n",
              "      <td>Healthcare Products</td>\n",
              "      <td>Large</td>\n",
              "    </tr>\n",
              "    <tr>\n",
              "      <th>2</th>\n",
              "      <td>United Kingdom of Great Britain and Northern I...</td>\n",
              "      <td>OECD</td>\n",
              "      <td>No</td>\n",
              "      <td>NaN</td>\n",
              "      <td>Non-listed</td>\n",
              "      <td>Subsidiary</td>\n",
              "      <td>Europe</td>\n",
              "      <td>Aviation</td>\n",
              "      <td>Large</td>\n",
              "    </tr>\n",
              "    <tr>\n",
              "      <th>3</th>\n",
              "      <td>Sweden</td>\n",
              "      <td>OECD</td>\n",
              "      <td>No</td>\n",
              "      <td>No</td>\n",
              "      <td>Listed</td>\n",
              "      <td>Private company</td>\n",
              "      <td>Europe</td>\n",
              "      <td>Consumer Durables</td>\n",
              "      <td>Large</td>\n",
              "    </tr>\n",
              "    <tr>\n",
              "      <th>4</th>\n",
              "      <td>Sweden</td>\n",
              "      <td>OECD</td>\n",
              "      <td>NaN</td>\n",
              "      <td>NaN</td>\n",
              "      <td>NaN</td>\n",
              "      <td>NaN</td>\n",
              "      <td>Europe</td>\n",
              "      <td>Construction Materials</td>\n",
              "      <td>Large</td>\n",
              "    </tr>\n",
              "  </tbody>\n",
              "</table>\n",
              "</div>"
            ],
            "text/plain": [
              "                                             Country  ...   Size\n",
              "0                                              Italy  ...  Large\n",
              "1                           United States of America  ...  Large\n",
              "2  United Kingdom of Great Britain and Northern I...  ...  Large\n",
              "3                                             Sweden  ...  Large\n",
              "4                                             Sweden  ...  Large\n",
              "\n",
              "[5 rows x 9 columns]"
            ]
          },
          "metadata": {
            "tags": []
          },
          "execution_count": 13
        }
      ]
    },
    {
      "cell_type": "code",
      "metadata": {
        "id": "q6c2Ht07Hcwx",
        "colab_type": "code",
        "outputId": "b99c76fc-58d3-49a0-f87e-fc20ddefb824",
        "colab": {
          "base_uri": "https://localhost:8080/",
          "height": 70
        }
      },
      "source": [
        "#find columns that has na\n",
        "raw_df.columns[raw_df.isna().any()]"
      ],
      "execution_count": 0,
      "outputs": [
        {
          "output_type": "execute_result",
          "data": {
            "text/plain": [
              "Index(['Featured Report?', 'GOLD Community', 'Listed/Non-listed',\n",
              "       'Organization type', 'Size'],\n",
              "      dtype='object')"
            ]
          },
          "metadata": {
            "tags": []
          },
          "execution_count": 14
        }
      ]
    },
    {
      "cell_type": "code",
      "metadata": {
        "id": "R-lcoq7fS3V8",
        "colab_type": "code",
        "outputId": "19323bc2-912d-4fbd-e45b-513d1aa1cc1b",
        "colab": {
          "base_uri": "https://localhost:8080/",
          "height": 162
        }
      },
      "source": [
        "raw_df.describe()"
      ],
      "execution_count": 0,
      "outputs": [
        {
          "output_type": "execute_result",
          "data": {
            "text/html": [
              "<div>\n",
              "<style scoped>\n",
              "    .dataframe tbody tr th:only-of-type {\n",
              "        vertical-align: middle;\n",
              "    }\n",
              "\n",
              "    .dataframe tbody tr th {\n",
              "        vertical-align: top;\n",
              "    }\n",
              "\n",
              "    .dataframe thead th {\n",
              "        text-align: right;\n",
              "    }\n",
              "</style>\n",
              "<table border=\"1\" class=\"dataframe\">\n",
              "  <thead>\n",
              "    <tr style=\"text-align: right;\">\n",
              "      <th></th>\n",
              "      <th>Country</th>\n",
              "      <th>Country Status</th>\n",
              "      <th>Featured Report?</th>\n",
              "      <th>GOLD Community</th>\n",
              "      <th>Listed/Non-listed</th>\n",
              "      <th>Organization type</th>\n",
              "      <th>Region</th>\n",
              "      <th>Sector</th>\n",
              "      <th>Size</th>\n",
              "    </tr>\n",
              "  </thead>\n",
              "  <tbody>\n",
              "    <tr>\n",
              "      <th>count</th>\n",
              "      <td>12491</td>\n",
              "      <td>12491</td>\n",
              "      <td>9802</td>\n",
              "      <td>9114</td>\n",
              "      <td>11833</td>\n",
              "      <td>11730</td>\n",
              "      <td>12491</td>\n",
              "      <td>12491</td>\n",
              "      <td>12458</td>\n",
              "    </tr>\n",
              "    <tr>\n",
              "      <th>unique</th>\n",
              "      <td>130</td>\n",
              "      <td>6</td>\n",
              "      <td>2</td>\n",
              "      <td>2</td>\n",
              "      <td>3</td>\n",
              "      <td>7</td>\n",
              "      <td>6</td>\n",
              "      <td>39</td>\n",
              "      <td>3</td>\n",
              "    </tr>\n",
              "    <tr>\n",
              "      <th>top</th>\n",
              "      <td>Mainland China</td>\n",
              "      <td>OECD</td>\n",
              "      <td>No</td>\n",
              "      <td>No</td>\n",
              "      <td>Listed</td>\n",
              "      <td>Private company</td>\n",
              "      <td>Asia</td>\n",
              "      <td>Financial Services</td>\n",
              "      <td>Large</td>\n",
              "    </tr>\n",
              "    <tr>\n",
              "      <th>freq</th>\n",
              "      <td>1337</td>\n",
              "      <td>6392</td>\n",
              "      <td>9788</td>\n",
              "      <td>8897</td>\n",
              "      <td>7018</td>\n",
              "      <td>8423</td>\n",
              "      <td>4488</td>\n",
              "      <td>1481</td>\n",
              "      <td>7468</td>\n",
              "    </tr>\n",
              "  </tbody>\n",
              "</table>\n",
              "</div>"
            ],
            "text/plain": [
              "               Country Country Status  ...              Sector   Size\n",
              "count            12491          12491  ...               12491  12458\n",
              "unique             130              6  ...                  39      3\n",
              "top     Mainland China           OECD  ...  Financial Services  Large\n",
              "freq              1337           6392  ...                1481   7468\n",
              "\n",
              "[4 rows x 9 columns]"
            ]
          },
          "metadata": {
            "tags": []
          },
          "execution_count": 15
        }
      ]
    },
    {
      "cell_type": "code",
      "metadata": {
        "id": "h_0zoDWYIX8f",
        "colab_type": "code",
        "colab": {}
      },
      "source": [
        "#fill na with majorituy category\n",
        "raw_df.fillna({'Featured Report?':'No', \\\n",
        "               'GOLD Community': 'No', \\\n",
        "               'Listed/Non-listed': 'Listed', \\\n",
        "               'OS':'No', \\\n",
        "               'Organization type': 'Private Company', \n",
        "               'Size': 'Large'}, inplace=True)"
      ],
      "execution_count": 0,
      "outputs": []
    },
    {
      "cell_type": "code",
      "metadata": {
        "id": "k87tBFE9Unmm",
        "colab_type": "code",
        "outputId": "df65ecc0-e6e8-4bc2-a142-a26bd15e25ca",
        "colab": {
          "base_uri": "https://localhost:8080/",
          "height": 35
        }
      },
      "source": [
        "n_countries = raw_df[raw_df.columns[0]].unique().size\n",
        "print(\"Total number of countries: {}\".format(n_countries))"
      ],
      "execution_count": 0,
      "outputs": [
        {
          "output_type": "stream",
          "text": [
            "Total number of countries: 130\n"
          ],
          "name": "stdout"
        }
      ]
    },
    {
      "cell_type": "code",
      "metadata": {
        "id": "1k57AGNLVJjJ",
        "colab_type": "code",
        "colab": {}
      },
      "source": [
        "data_clean = raw_df.loc[:, 'Country Status':'Size'].copy()\n",
        "countries = raw_df.loc[:, 'Country'].unique()"
      ],
      "execution_count": 0,
      "outputs": []
    },
    {
      "cell_type": "markdown",
      "metadata": {
        "id": "7Jd0z2i3z_Ci",
        "colab_type": "text"
      },
      "source": [
        "## Encode data"
      ]
    },
    {
      "cell_type": "code",
      "metadata": {
        "id": "YdwH0HapX4Fv",
        "colab_type": "code",
        "colab": {}
      },
      "source": [
        "#Creates feature tokens for each feature (Hot-One-Encoding)\n",
        "features_dataframe = data_clean.copy()\n",
        "for feature in data_clean.columns:\n",
        "      dfDummies = pd.get_dummies(data_clean[feature], prefix = feature)\n",
        "      features_dataframe = pd.concat([features_dataframe, dfDummies], axis=1)"
      ],
      "execution_count": 0,
      "outputs": []
    },
    {
      "cell_type": "code",
      "metadata": {
        "id": "MOpT-uet1i4v",
        "colab_type": "code",
        "outputId": "607e6744-e402-4abf-a15b-5fa375a53336",
        "colab": {
          "base_uri": "https://localhost:8080/",
          "height": 325
        }
      },
      "source": [
        "features_dataframe.head()"
      ],
      "execution_count": 0,
      "outputs": [
        {
          "output_type": "execute_result",
          "data": {
            "text/html": [
              "<div>\n",
              "<style scoped>\n",
              "    .dataframe tbody tr th:only-of-type {\n",
              "        vertical-align: middle;\n",
              "    }\n",
              "\n",
              "    .dataframe tbody tr th {\n",
              "        vertical-align: top;\n",
              "    }\n",
              "\n",
              "    .dataframe thead th {\n",
              "        text-align: right;\n",
              "    }\n",
              "</style>\n",
              "<table border=\"1\" class=\"dataframe\">\n",
              "  <thead>\n",
              "    <tr style=\"text-align: right;\">\n",
              "      <th></th>\n",
              "      <th>Country Status</th>\n",
              "      <th>Featured Report?</th>\n",
              "      <th>GOLD Community</th>\n",
              "      <th>Listed/Non-listed</th>\n",
              "      <th>Organization type</th>\n",
              "      <th>Region</th>\n",
              "      <th>Sector</th>\n",
              "      <th>Size</th>\n",
              "      <th>Country Status_DAC-LDC</th>\n",
              "      <th>Country Status_DAC-LMICT</th>\n",
              "      <th>Country Status_DAC-OLIC</th>\n",
              "      <th>Country Status_DAC-UMICT</th>\n",
              "      <th>Country Status_Non-OECD / Non-DAC</th>\n",
              "      <th>Country Status_OECD</th>\n",
              "      <th>Featured Report?_No</th>\n",
              "      <th>Featured Report?_Yes</th>\n",
              "      <th>GOLD Community_No</th>\n",
              "      <th>GOLD Community_Yes</th>\n",
              "      <th>Listed/Non-listed_Listed</th>\n",
              "      <th>Listed/Non-listed_Non-listed</th>\n",
              "      <th>Listed/Non-listed_Not applicable</th>\n",
              "      <th>Organization type_Cooperative</th>\n",
              "      <th>Organization type_Non-profit organization</th>\n",
              "      <th>Organization type_Partnership</th>\n",
              "      <th>Organization type_Private Company</th>\n",
              "      <th>Organization type_Private company</th>\n",
              "      <th>Organization type_Public institution</th>\n",
              "      <th>Organization type_State-owned company</th>\n",
              "      <th>Organization type_Subsidiary</th>\n",
              "      <th>Region_Africa</th>\n",
              "      <th>Region_Asia</th>\n",
              "      <th>Region_Europe</th>\n",
              "      <th>Region_Latin America &amp; the Caribbean</th>\n",
              "      <th>Region_Northern America</th>\n",
              "      <th>Region_Oceania</th>\n",
              "      <th>Sector_=</th>\n",
              "      <th>Sector_Agriculture</th>\n",
              "      <th>Sector_Automotive</th>\n",
              "      <th>Sector_Aviation</th>\n",
              "      <th>Sector_Chemicals</th>\n",
              "      <th>Sector_Commercial Services</th>\n",
              "      <th>Sector_Computers</th>\n",
              "      <th>Sector_Conglomerates</th>\n",
              "      <th>Sector_Construction</th>\n",
              "      <th>Sector_Construction Materials</th>\n",
              "      <th>Sector_Consumer Durables</th>\n",
              "      <th>Sector_Energy</th>\n",
              "      <th>Sector_Energy Utilities</th>\n",
              "      <th>Sector_Equipment</th>\n",
              "      <th>Sector_Financial Services</th>\n",
              "      <th>Sector_Food and Beverage Products</th>\n",
              "      <th>Sector_Forest and Paper Products</th>\n",
              "      <th>Sector_Healthcare Products</th>\n",
              "      <th>Sector_Healthcare Services</th>\n",
              "      <th>Sector_Household and Personal Products</th>\n",
              "      <th>Sector_Logistics</th>\n",
              "      <th>Sector_Media</th>\n",
              "      <th>Sector_Metals Products</th>\n",
              "      <th>Sector_Mining</th>\n",
              "      <th>Sector_Non-Profit / Services</th>\n",
              "      <th>Sector_Other</th>\n",
              "      <th>Sector_Public Agency</th>\n",
              "      <th>Sector_Railroad</th>\n",
              "      <th>Sector_Real Estate</th>\n",
              "      <th>Sector_Retailers</th>\n",
              "      <th>Sector_Technology Hardware</th>\n",
              "      <th>Sector_Telecommunications</th>\n",
              "      <th>Sector_Textiles and Apparel</th>\n",
              "      <th>Sector_Tobacco</th>\n",
              "      <th>Sector_Tourism/Leisure</th>\n",
              "      <th>Sector_Toys</th>\n",
              "      <th>Sector_Universities</th>\n",
              "      <th>Sector_Waste Management</th>\n",
              "      <th>Sector_Water Utilities</th>\n",
              "      <th>Size_Large</th>\n",
              "      <th>Size_MNE</th>\n",
              "      <th>Size_SME</th>\n",
              "    </tr>\n",
              "  </thead>\n",
              "  <tbody>\n",
              "    <tr>\n",
              "      <th>0</th>\n",
              "      <td>OECD</td>\n",
              "      <td>No</td>\n",
              "      <td>No</td>\n",
              "      <td>Listed</td>\n",
              "      <td>Private company</td>\n",
              "      <td>Europe</td>\n",
              "      <td>Energy Utilities</td>\n",
              "      <td>Large</td>\n",
              "      <td>0</td>\n",
              "      <td>0</td>\n",
              "      <td>0</td>\n",
              "      <td>0</td>\n",
              "      <td>0</td>\n",
              "      <td>1</td>\n",
              "      <td>1</td>\n",
              "      <td>0</td>\n",
              "      <td>1</td>\n",
              "      <td>0</td>\n",
              "      <td>1</td>\n",
              "      <td>0</td>\n",
              "      <td>0</td>\n",
              "      <td>0</td>\n",
              "      <td>0</td>\n",
              "      <td>0</td>\n",
              "      <td>0</td>\n",
              "      <td>1</td>\n",
              "      <td>0</td>\n",
              "      <td>0</td>\n",
              "      <td>0</td>\n",
              "      <td>0</td>\n",
              "      <td>0</td>\n",
              "      <td>1</td>\n",
              "      <td>0</td>\n",
              "      <td>0</td>\n",
              "      <td>0</td>\n",
              "      <td>0</td>\n",
              "      <td>0</td>\n",
              "      <td>0</td>\n",
              "      <td>0</td>\n",
              "      <td>0</td>\n",
              "      <td>0</td>\n",
              "      <td>0</td>\n",
              "      <td>0</td>\n",
              "      <td>0</td>\n",
              "      <td>0</td>\n",
              "      <td>0</td>\n",
              "      <td>0</td>\n",
              "      <td>1</td>\n",
              "      <td>0</td>\n",
              "      <td>0</td>\n",
              "      <td>0</td>\n",
              "      <td>0</td>\n",
              "      <td>0</td>\n",
              "      <td>0</td>\n",
              "      <td>0</td>\n",
              "      <td>0</td>\n",
              "      <td>0</td>\n",
              "      <td>0</td>\n",
              "      <td>0</td>\n",
              "      <td>0</td>\n",
              "      <td>0</td>\n",
              "      <td>0</td>\n",
              "      <td>0</td>\n",
              "      <td>0</td>\n",
              "      <td>0</td>\n",
              "      <td>0</td>\n",
              "      <td>0</td>\n",
              "      <td>0</td>\n",
              "      <td>0</td>\n",
              "      <td>0</td>\n",
              "      <td>0</td>\n",
              "      <td>0</td>\n",
              "      <td>0</td>\n",
              "      <td>0</td>\n",
              "      <td>1</td>\n",
              "      <td>0</td>\n",
              "      <td>0</td>\n",
              "    </tr>\n",
              "    <tr>\n",
              "      <th>1</th>\n",
              "      <td>OECD</td>\n",
              "      <td>No</td>\n",
              "      <td>No</td>\n",
              "      <td>Listed</td>\n",
              "      <td>Private company</td>\n",
              "      <td>Northern America</td>\n",
              "      <td>Healthcare Products</td>\n",
              "      <td>Large</td>\n",
              "      <td>0</td>\n",
              "      <td>0</td>\n",
              "      <td>0</td>\n",
              "      <td>0</td>\n",
              "      <td>0</td>\n",
              "      <td>1</td>\n",
              "      <td>1</td>\n",
              "      <td>0</td>\n",
              "      <td>1</td>\n",
              "      <td>0</td>\n",
              "      <td>1</td>\n",
              "      <td>0</td>\n",
              "      <td>0</td>\n",
              "      <td>0</td>\n",
              "      <td>0</td>\n",
              "      <td>0</td>\n",
              "      <td>0</td>\n",
              "      <td>1</td>\n",
              "      <td>0</td>\n",
              "      <td>0</td>\n",
              "      <td>0</td>\n",
              "      <td>0</td>\n",
              "      <td>0</td>\n",
              "      <td>0</td>\n",
              "      <td>0</td>\n",
              "      <td>1</td>\n",
              "      <td>0</td>\n",
              "      <td>0</td>\n",
              "      <td>0</td>\n",
              "      <td>0</td>\n",
              "      <td>0</td>\n",
              "      <td>0</td>\n",
              "      <td>0</td>\n",
              "      <td>0</td>\n",
              "      <td>0</td>\n",
              "      <td>0</td>\n",
              "      <td>0</td>\n",
              "      <td>0</td>\n",
              "      <td>0</td>\n",
              "      <td>0</td>\n",
              "      <td>0</td>\n",
              "      <td>0</td>\n",
              "      <td>0</td>\n",
              "      <td>0</td>\n",
              "      <td>1</td>\n",
              "      <td>0</td>\n",
              "      <td>0</td>\n",
              "      <td>0</td>\n",
              "      <td>0</td>\n",
              "      <td>0</td>\n",
              "      <td>0</td>\n",
              "      <td>0</td>\n",
              "      <td>0</td>\n",
              "      <td>0</td>\n",
              "      <td>0</td>\n",
              "      <td>0</td>\n",
              "      <td>0</td>\n",
              "      <td>0</td>\n",
              "      <td>0</td>\n",
              "      <td>0</td>\n",
              "      <td>0</td>\n",
              "      <td>0</td>\n",
              "      <td>0</td>\n",
              "      <td>0</td>\n",
              "      <td>0</td>\n",
              "      <td>0</td>\n",
              "      <td>1</td>\n",
              "      <td>0</td>\n",
              "      <td>0</td>\n",
              "    </tr>\n",
              "    <tr>\n",
              "      <th>2</th>\n",
              "      <td>OECD</td>\n",
              "      <td>No</td>\n",
              "      <td>No</td>\n",
              "      <td>Non-listed</td>\n",
              "      <td>Subsidiary</td>\n",
              "      <td>Europe</td>\n",
              "      <td>Aviation</td>\n",
              "      <td>Large</td>\n",
              "      <td>0</td>\n",
              "      <td>0</td>\n",
              "      <td>0</td>\n",
              "      <td>0</td>\n",
              "      <td>0</td>\n",
              "      <td>1</td>\n",
              "      <td>1</td>\n",
              "      <td>0</td>\n",
              "      <td>1</td>\n",
              "      <td>0</td>\n",
              "      <td>0</td>\n",
              "      <td>1</td>\n",
              "      <td>0</td>\n",
              "      <td>0</td>\n",
              "      <td>0</td>\n",
              "      <td>0</td>\n",
              "      <td>0</td>\n",
              "      <td>0</td>\n",
              "      <td>0</td>\n",
              "      <td>0</td>\n",
              "      <td>1</td>\n",
              "      <td>0</td>\n",
              "      <td>0</td>\n",
              "      <td>1</td>\n",
              "      <td>0</td>\n",
              "      <td>0</td>\n",
              "      <td>0</td>\n",
              "      <td>0</td>\n",
              "      <td>0</td>\n",
              "      <td>0</td>\n",
              "      <td>1</td>\n",
              "      <td>0</td>\n",
              "      <td>0</td>\n",
              "      <td>0</td>\n",
              "      <td>0</td>\n",
              "      <td>0</td>\n",
              "      <td>0</td>\n",
              "      <td>0</td>\n",
              "      <td>0</td>\n",
              "      <td>0</td>\n",
              "      <td>0</td>\n",
              "      <td>0</td>\n",
              "      <td>0</td>\n",
              "      <td>0</td>\n",
              "      <td>0</td>\n",
              "      <td>0</td>\n",
              "      <td>0</td>\n",
              "      <td>0</td>\n",
              "      <td>0</td>\n",
              "      <td>0</td>\n",
              "      <td>0</td>\n",
              "      <td>0</td>\n",
              "      <td>0</td>\n",
              "      <td>0</td>\n",
              "      <td>0</td>\n",
              "      <td>0</td>\n",
              "      <td>0</td>\n",
              "      <td>0</td>\n",
              "      <td>0</td>\n",
              "      <td>0</td>\n",
              "      <td>0</td>\n",
              "      <td>0</td>\n",
              "      <td>0</td>\n",
              "      <td>0</td>\n",
              "      <td>0</td>\n",
              "      <td>0</td>\n",
              "      <td>1</td>\n",
              "      <td>0</td>\n",
              "      <td>0</td>\n",
              "    </tr>\n",
              "    <tr>\n",
              "      <th>3</th>\n",
              "      <td>OECD</td>\n",
              "      <td>No</td>\n",
              "      <td>No</td>\n",
              "      <td>Listed</td>\n",
              "      <td>Private company</td>\n",
              "      <td>Europe</td>\n",
              "      <td>Consumer Durables</td>\n",
              "      <td>Large</td>\n",
              "      <td>0</td>\n",
              "      <td>0</td>\n",
              "      <td>0</td>\n",
              "      <td>0</td>\n",
              "      <td>0</td>\n",
              "      <td>1</td>\n",
              "      <td>1</td>\n",
              "      <td>0</td>\n",
              "      <td>1</td>\n",
              "      <td>0</td>\n",
              "      <td>1</td>\n",
              "      <td>0</td>\n",
              "      <td>0</td>\n",
              "      <td>0</td>\n",
              "      <td>0</td>\n",
              "      <td>0</td>\n",
              "      <td>0</td>\n",
              "      <td>1</td>\n",
              "      <td>0</td>\n",
              "      <td>0</td>\n",
              "      <td>0</td>\n",
              "      <td>0</td>\n",
              "      <td>0</td>\n",
              "      <td>1</td>\n",
              "      <td>0</td>\n",
              "      <td>0</td>\n",
              "      <td>0</td>\n",
              "      <td>0</td>\n",
              "      <td>0</td>\n",
              "      <td>0</td>\n",
              "      <td>0</td>\n",
              "      <td>0</td>\n",
              "      <td>0</td>\n",
              "      <td>0</td>\n",
              "      <td>0</td>\n",
              "      <td>0</td>\n",
              "      <td>0</td>\n",
              "      <td>1</td>\n",
              "      <td>0</td>\n",
              "      <td>0</td>\n",
              "      <td>0</td>\n",
              "      <td>0</td>\n",
              "      <td>0</td>\n",
              "      <td>0</td>\n",
              "      <td>0</td>\n",
              "      <td>0</td>\n",
              "      <td>0</td>\n",
              "      <td>0</td>\n",
              "      <td>0</td>\n",
              "      <td>0</td>\n",
              "      <td>0</td>\n",
              "      <td>0</td>\n",
              "      <td>0</td>\n",
              "      <td>0</td>\n",
              "      <td>0</td>\n",
              "      <td>0</td>\n",
              "      <td>0</td>\n",
              "      <td>0</td>\n",
              "      <td>0</td>\n",
              "      <td>0</td>\n",
              "      <td>0</td>\n",
              "      <td>0</td>\n",
              "      <td>0</td>\n",
              "      <td>0</td>\n",
              "      <td>0</td>\n",
              "      <td>0</td>\n",
              "      <td>1</td>\n",
              "      <td>0</td>\n",
              "      <td>0</td>\n",
              "    </tr>\n",
              "    <tr>\n",
              "      <th>4</th>\n",
              "      <td>OECD</td>\n",
              "      <td>No</td>\n",
              "      <td>No</td>\n",
              "      <td>Listed</td>\n",
              "      <td>Private Company</td>\n",
              "      <td>Europe</td>\n",
              "      <td>Construction Materials</td>\n",
              "      <td>Large</td>\n",
              "      <td>0</td>\n",
              "      <td>0</td>\n",
              "      <td>0</td>\n",
              "      <td>0</td>\n",
              "      <td>0</td>\n",
              "      <td>1</td>\n",
              "      <td>1</td>\n",
              "      <td>0</td>\n",
              "      <td>1</td>\n",
              "      <td>0</td>\n",
              "      <td>1</td>\n",
              "      <td>0</td>\n",
              "      <td>0</td>\n",
              "      <td>0</td>\n",
              "      <td>0</td>\n",
              "      <td>0</td>\n",
              "      <td>1</td>\n",
              "      <td>0</td>\n",
              "      <td>0</td>\n",
              "      <td>0</td>\n",
              "      <td>0</td>\n",
              "      <td>0</td>\n",
              "      <td>0</td>\n",
              "      <td>1</td>\n",
              "      <td>0</td>\n",
              "      <td>0</td>\n",
              "      <td>0</td>\n",
              "      <td>0</td>\n",
              "      <td>0</td>\n",
              "      <td>0</td>\n",
              "      <td>0</td>\n",
              "      <td>0</td>\n",
              "      <td>0</td>\n",
              "      <td>0</td>\n",
              "      <td>0</td>\n",
              "      <td>0</td>\n",
              "      <td>1</td>\n",
              "      <td>0</td>\n",
              "      <td>0</td>\n",
              "      <td>0</td>\n",
              "      <td>0</td>\n",
              "      <td>0</td>\n",
              "      <td>0</td>\n",
              "      <td>0</td>\n",
              "      <td>0</td>\n",
              "      <td>0</td>\n",
              "      <td>0</td>\n",
              "      <td>0</td>\n",
              "      <td>0</td>\n",
              "      <td>0</td>\n",
              "      <td>0</td>\n",
              "      <td>0</td>\n",
              "      <td>0</td>\n",
              "      <td>0</td>\n",
              "      <td>0</td>\n",
              "      <td>0</td>\n",
              "      <td>0</td>\n",
              "      <td>0</td>\n",
              "      <td>0</td>\n",
              "      <td>0</td>\n",
              "      <td>0</td>\n",
              "      <td>0</td>\n",
              "      <td>0</td>\n",
              "      <td>0</td>\n",
              "      <td>0</td>\n",
              "      <td>0</td>\n",
              "      <td>1</td>\n",
              "      <td>0</td>\n",
              "      <td>0</td>\n",
              "    </tr>\n",
              "  </tbody>\n",
              "</table>\n",
              "</div>"
            ],
            "text/plain": [
              "  Country Status Featured Report?  ... Size_MNE Size_SME\n",
              "0           OECD               No  ...        0        0\n",
              "1           OECD               No  ...        0        0\n",
              "2           OECD               No  ...        0        0\n",
              "3           OECD               No  ...        0        0\n",
              "4           OECD               No  ...        0        0\n",
              "\n",
              "[5 rows x 77 columns]"
            ]
          },
          "metadata": {
            "tags": []
          },
          "execution_count": 20
        }
      ]
    },
    {
      "cell_type": "code",
      "metadata": {
        "id": "OcRMqW1G2kec",
        "colab_type": "code",
        "outputId": "753ade0f-7ca5-43aa-82a0-9b510868b3a2",
        "colab": {
          "base_uri": "https://localhost:8080/",
          "height": 52
        }
      },
      "source": [
        "ncolumns_data = len(data_clean.columns) \n",
        "ncolumns_code = len(features_dataframe.columns) - ncolumns_data\n",
        "\n",
        "print(\"Original data columns: {}\".format(ncolumns_data))\n",
        "print(\"Encoding columns: {}\".format(ncolumns_code))"
      ],
      "execution_count": 0,
      "outputs": [
        {
          "output_type": "stream",
          "text": [
            "Original data columns: 8\n",
            "Encoding columns: 69\n"
          ],
          "name": "stdout"
        }
      ]
    },
    {
      "cell_type": "code",
      "metadata": {
        "id": "DaVH7boE3v5q",
        "colab_type": "code",
        "colab": {}
      },
      "source": [
        "# Removes encoding from the list of variables, the operation \n",
        "code_columns = list(features_dataframe.columns)[ncolumns_data:]"
      ],
      "execution_count": 0,
      "outputs": []
    },
    {
      "cell_type": "code",
      "metadata": {
        "id": "l0VtfM_q3VkM",
        "colab_type": "code",
        "colab": {}
      },
      "source": [
        "# Takes only the columns which have been one-hot-encoded\n",
        "training_df = features_dataframe[code_columns].copy() "
      ],
      "execution_count": 0,
      "outputs": []
    },
    {
      "cell_type": "code",
      "metadata": {
        "id": "DPfrdt0D4zri",
        "colab_type": "code",
        "outputId": "4c90b5e0-463b-4c22-9b97-d57d2bf7e752",
        "colab": {
          "base_uri": "https://localhost:8080/",
          "height": 173
        }
      },
      "source": [
        "training_df.head(2)"
      ],
      "execution_count": 0,
      "outputs": [
        {
          "output_type": "execute_result",
          "data": {
            "text/html": [
              "<div>\n",
              "<style scoped>\n",
              "    .dataframe tbody tr th:only-of-type {\n",
              "        vertical-align: middle;\n",
              "    }\n",
              "\n",
              "    .dataframe tbody tr th {\n",
              "        vertical-align: top;\n",
              "    }\n",
              "\n",
              "    .dataframe thead th {\n",
              "        text-align: right;\n",
              "    }\n",
              "</style>\n",
              "<table border=\"1\" class=\"dataframe\">\n",
              "  <thead>\n",
              "    <tr style=\"text-align: right;\">\n",
              "      <th></th>\n",
              "      <th>Country Status_DAC-LDC</th>\n",
              "      <th>Country Status_DAC-LMICT</th>\n",
              "      <th>Country Status_DAC-OLIC</th>\n",
              "      <th>Country Status_DAC-UMICT</th>\n",
              "      <th>Country Status_Non-OECD / Non-DAC</th>\n",
              "      <th>Country Status_OECD</th>\n",
              "      <th>Featured Report?_No</th>\n",
              "      <th>Featured Report?_Yes</th>\n",
              "      <th>GOLD Community_No</th>\n",
              "      <th>GOLD Community_Yes</th>\n",
              "      <th>Listed/Non-listed_Listed</th>\n",
              "      <th>Listed/Non-listed_Non-listed</th>\n",
              "      <th>Listed/Non-listed_Not applicable</th>\n",
              "      <th>Organization type_Cooperative</th>\n",
              "      <th>Organization type_Non-profit organization</th>\n",
              "      <th>Organization type_Partnership</th>\n",
              "      <th>Organization type_Private Company</th>\n",
              "      <th>Organization type_Private company</th>\n",
              "      <th>Organization type_Public institution</th>\n",
              "      <th>Organization type_State-owned company</th>\n",
              "      <th>Organization type_Subsidiary</th>\n",
              "      <th>Region_Africa</th>\n",
              "      <th>Region_Asia</th>\n",
              "      <th>Region_Europe</th>\n",
              "      <th>Region_Latin America &amp; the Caribbean</th>\n",
              "      <th>Region_Northern America</th>\n",
              "      <th>Region_Oceania</th>\n",
              "      <th>Sector_=</th>\n",
              "      <th>Sector_Agriculture</th>\n",
              "      <th>Sector_Automotive</th>\n",
              "      <th>Sector_Aviation</th>\n",
              "      <th>Sector_Chemicals</th>\n",
              "      <th>Sector_Commercial Services</th>\n",
              "      <th>Sector_Computers</th>\n",
              "      <th>Sector_Conglomerates</th>\n",
              "      <th>Sector_Construction</th>\n",
              "      <th>Sector_Construction Materials</th>\n",
              "      <th>Sector_Consumer Durables</th>\n",
              "      <th>Sector_Energy</th>\n",
              "      <th>Sector_Energy Utilities</th>\n",
              "      <th>Sector_Equipment</th>\n",
              "      <th>Sector_Financial Services</th>\n",
              "      <th>Sector_Food and Beverage Products</th>\n",
              "      <th>Sector_Forest and Paper Products</th>\n",
              "      <th>Sector_Healthcare Products</th>\n",
              "      <th>Sector_Healthcare Services</th>\n",
              "      <th>Sector_Household and Personal Products</th>\n",
              "      <th>Sector_Logistics</th>\n",
              "      <th>Sector_Media</th>\n",
              "      <th>Sector_Metals Products</th>\n",
              "      <th>Sector_Mining</th>\n",
              "      <th>Sector_Non-Profit / Services</th>\n",
              "      <th>Sector_Other</th>\n",
              "      <th>Sector_Public Agency</th>\n",
              "      <th>Sector_Railroad</th>\n",
              "      <th>Sector_Real Estate</th>\n",
              "      <th>Sector_Retailers</th>\n",
              "      <th>Sector_Technology Hardware</th>\n",
              "      <th>Sector_Telecommunications</th>\n",
              "      <th>Sector_Textiles and Apparel</th>\n",
              "      <th>Sector_Tobacco</th>\n",
              "      <th>Sector_Tourism/Leisure</th>\n",
              "      <th>Sector_Toys</th>\n",
              "      <th>Sector_Universities</th>\n",
              "      <th>Sector_Waste Management</th>\n",
              "      <th>Sector_Water Utilities</th>\n",
              "      <th>Size_Large</th>\n",
              "      <th>Size_MNE</th>\n",
              "      <th>Size_SME</th>\n",
              "    </tr>\n",
              "  </thead>\n",
              "  <tbody>\n",
              "    <tr>\n",
              "      <th>0</th>\n",
              "      <td>0</td>\n",
              "      <td>0</td>\n",
              "      <td>0</td>\n",
              "      <td>0</td>\n",
              "      <td>0</td>\n",
              "      <td>1</td>\n",
              "      <td>1</td>\n",
              "      <td>0</td>\n",
              "      <td>1</td>\n",
              "      <td>0</td>\n",
              "      <td>1</td>\n",
              "      <td>0</td>\n",
              "      <td>0</td>\n",
              "      <td>0</td>\n",
              "      <td>0</td>\n",
              "      <td>0</td>\n",
              "      <td>0</td>\n",
              "      <td>1</td>\n",
              "      <td>0</td>\n",
              "      <td>0</td>\n",
              "      <td>0</td>\n",
              "      <td>0</td>\n",
              "      <td>0</td>\n",
              "      <td>1</td>\n",
              "      <td>0</td>\n",
              "      <td>0</td>\n",
              "      <td>0</td>\n",
              "      <td>0</td>\n",
              "      <td>0</td>\n",
              "      <td>0</td>\n",
              "      <td>0</td>\n",
              "      <td>0</td>\n",
              "      <td>0</td>\n",
              "      <td>0</td>\n",
              "      <td>0</td>\n",
              "      <td>0</td>\n",
              "      <td>0</td>\n",
              "      <td>0</td>\n",
              "      <td>0</td>\n",
              "      <td>1</td>\n",
              "      <td>0</td>\n",
              "      <td>0</td>\n",
              "      <td>0</td>\n",
              "      <td>0</td>\n",
              "      <td>0</td>\n",
              "      <td>0</td>\n",
              "      <td>0</td>\n",
              "      <td>0</td>\n",
              "      <td>0</td>\n",
              "      <td>0</td>\n",
              "      <td>0</td>\n",
              "      <td>0</td>\n",
              "      <td>0</td>\n",
              "      <td>0</td>\n",
              "      <td>0</td>\n",
              "      <td>0</td>\n",
              "      <td>0</td>\n",
              "      <td>0</td>\n",
              "      <td>0</td>\n",
              "      <td>0</td>\n",
              "      <td>0</td>\n",
              "      <td>0</td>\n",
              "      <td>0</td>\n",
              "      <td>0</td>\n",
              "      <td>0</td>\n",
              "      <td>0</td>\n",
              "      <td>1</td>\n",
              "      <td>0</td>\n",
              "      <td>0</td>\n",
              "    </tr>\n",
              "    <tr>\n",
              "      <th>1</th>\n",
              "      <td>0</td>\n",
              "      <td>0</td>\n",
              "      <td>0</td>\n",
              "      <td>0</td>\n",
              "      <td>0</td>\n",
              "      <td>1</td>\n",
              "      <td>1</td>\n",
              "      <td>0</td>\n",
              "      <td>1</td>\n",
              "      <td>0</td>\n",
              "      <td>1</td>\n",
              "      <td>0</td>\n",
              "      <td>0</td>\n",
              "      <td>0</td>\n",
              "      <td>0</td>\n",
              "      <td>0</td>\n",
              "      <td>0</td>\n",
              "      <td>1</td>\n",
              "      <td>0</td>\n",
              "      <td>0</td>\n",
              "      <td>0</td>\n",
              "      <td>0</td>\n",
              "      <td>0</td>\n",
              "      <td>0</td>\n",
              "      <td>0</td>\n",
              "      <td>1</td>\n",
              "      <td>0</td>\n",
              "      <td>0</td>\n",
              "      <td>0</td>\n",
              "      <td>0</td>\n",
              "      <td>0</td>\n",
              "      <td>0</td>\n",
              "      <td>0</td>\n",
              "      <td>0</td>\n",
              "      <td>0</td>\n",
              "      <td>0</td>\n",
              "      <td>0</td>\n",
              "      <td>0</td>\n",
              "      <td>0</td>\n",
              "      <td>0</td>\n",
              "      <td>0</td>\n",
              "      <td>0</td>\n",
              "      <td>0</td>\n",
              "      <td>0</td>\n",
              "      <td>1</td>\n",
              "      <td>0</td>\n",
              "      <td>0</td>\n",
              "      <td>0</td>\n",
              "      <td>0</td>\n",
              "      <td>0</td>\n",
              "      <td>0</td>\n",
              "      <td>0</td>\n",
              "      <td>0</td>\n",
              "      <td>0</td>\n",
              "      <td>0</td>\n",
              "      <td>0</td>\n",
              "      <td>0</td>\n",
              "      <td>0</td>\n",
              "      <td>0</td>\n",
              "      <td>0</td>\n",
              "      <td>0</td>\n",
              "      <td>0</td>\n",
              "      <td>0</td>\n",
              "      <td>0</td>\n",
              "      <td>0</td>\n",
              "      <td>0</td>\n",
              "      <td>1</td>\n",
              "      <td>0</td>\n",
              "      <td>0</td>\n",
              "    </tr>\n",
              "  </tbody>\n",
              "</table>\n",
              "</div>"
            ],
            "text/plain": [
              "   Country Status_DAC-LDC  Country Status_DAC-LMICT  ...  Size_MNE  Size_SME\n",
              "0                       0                         0  ...         0         0\n",
              "1                       0                         0  ...         0         0\n",
              "\n",
              "[2 rows x 69 columns]"
            ]
          },
          "metadata": {
            "tags": []
          },
          "execution_count": 24
        }
      ]
    },
    {
      "cell_type": "code",
      "metadata": {
        "id": "BSDj81Kt41IZ",
        "colab_type": "code",
        "colab": {}
      },
      "source": [
        "#Save File \n",
        "training_df.to_csv(\"encoded_data.csv\")"
      ],
      "execution_count": 0,
      "outputs": []
    },
    {
      "cell_type": "markdown",
      "metadata": {
        "id": "f5C8MTQZWnaa",
        "colab_type": "text"
      },
      "source": [
        "# TF Dataset definition"
      ]
    },
    {
      "cell_type": "code",
      "metadata": {
        "id": "hmSoCf4FWt7N",
        "colab_type": "code",
        "colab": {}
      },
      "source": [
        "import numpy as np\n",
        "import tensorflow as tf\n",
        "import os\n",
        "\n",
        "np.random.seed(1)\n",
        "tf.random.set_seed(1)"
      ],
      "execution_count": 0,
      "outputs": []
    },
    {
      "cell_type": "code",
      "metadata": {
        "id": "pA_LBb1dWr4j",
        "colab_type": "code",
        "colab": {}
      },
      "source": [
        "batch_size = 128"
      ],
      "execution_count": 0,
      "outputs": []
    },
    {
      "cell_type": "code",
      "metadata": {
        "id": "hNLq0NdMW1JS",
        "colab_type": "code",
        "colab": {}
      },
      "source": [
        "train_array = training_df.to_numpy(dtype=np.float32,copy=True)"
      ],
      "execution_count": 0,
      "outputs": []
    },
    {
      "cell_type": "code",
      "metadata": {
        "id": "1SrHLYTEZL5c",
        "colab_type": "code",
        "colab": {}
      },
      "source": [
        "train_dataset = tf.data.Dataset.from_tensor_slices(train_array)"
      ],
      "execution_count": 0,
      "outputs": []
    },
    {
      "cell_type": "code",
      "metadata": {
        "id": "m5T8LFcUcpg6",
        "colab_type": "code",
        "colab": {}
      },
      "source": [
        "train_dataset = train_dataset.batch(batch_size=batch_size)"
      ],
      "execution_count": 0,
      "outputs": []
    },
    {
      "cell_type": "code",
      "metadata": {
        "id": "qFNx6TjehkD0",
        "colab_type": "code",
        "colab": {}
      },
      "source": [
        "train_dataset = train_dataset.shuffle(train_array.shape[0])"
      ],
      "execution_count": 0,
      "outputs": []
    },
    {
      "cell_type": "code",
      "metadata": {
        "id": "T8aY9GqlhXSe",
        "colab_type": "code",
        "colab": {}
      },
      "source": [
        "train_dataset = train_dataset.prefetch(batch_size*4)"
      ],
      "execution_count": 0,
      "outputs": []
    },
    {
      "cell_type": "markdown",
      "metadata": {
        "id": "EoX2DoI8VMP2",
        "colab_type": "text"
      },
      "source": [
        "# Model Definition"
      ]
    },
    {
      "cell_type": "markdown",
      "metadata": {
        "id": "9aQTajYIV2JV",
        "colab_type": "text"
      },
      "source": [
        "## Encoder"
      ]
    },
    {
      "cell_type": "code",
      "metadata": {
        "id": "OCgYEoakVPuR",
        "colab_type": "code",
        "colab": {}
      },
      "source": [
        "intermediate_dim = 23\n",
        "original_dim = 69"
      ],
      "execution_count": 0,
      "outputs": []
    },
    {
      "cell_type": "code",
      "metadata": {
        "id": "gjAs2-A8WYJn",
        "colab_type": "code",
        "colab": {}
      },
      "source": [
        "class Encoder(tf.keras.layers.Layer):\n",
        "  def __init__(self, intermediate_dim, original_dim):\n",
        "    super(Encoder, self).__init__()\n",
        "    hidden_dim_1 = int((original_dim + intermediate_dim)/2)\n",
        "    self.hidden_layer_1 = tf.keras.layers.Dense(\n",
        "      units=hidden_dim_1,\n",
        "      activation=tf.nn.relu,\n",
        "      kernel_initializer='he_uniform'\n",
        "    )\n",
        "    self.hidden_layer_2 = tf.keras.layers.Dense(\n",
        "      units=intermediate_dim,\n",
        "      activation=tf.nn.relu,\n",
        "      kernel_initializer='he_uniform'\n",
        "    )\n",
        "    self.output_layer = tf.keras.layers.Dense(\n",
        "      units=intermediate_dim,\n",
        "      activation=tf.nn.sigmoid\n",
        "    )\n",
        "    \n",
        "  def call(self, input_features):\n",
        "    activation = self.hidden_layer_1(input_features)\n",
        "    activation = self.hidden_layer_2(activation)\n",
        "    return self.output_layer(activation)"
      ],
      "execution_count": 0,
      "outputs": []
    },
    {
      "cell_type": "markdown",
      "metadata": {
        "id": "tSgSwV01XOeZ",
        "colab_type": "text"
      },
      "source": [
        "## Decoder"
      ]
    },
    {
      "cell_type": "code",
      "metadata": {
        "id": "0t1rAS8pXPvu",
        "colab_type": "code",
        "colab": {}
      },
      "source": [
        "class Decoder(tf.keras.layers.Layer):\n",
        "  def __init__(self, intermediate_dim, original_dim):\n",
        "    super(Decoder, self).__init__()\n",
        "    hidden_dim_2 = int((original_dim + intermediate_dim)/2)\n",
        "    self.hidden_layer_1 = tf.keras.layers.Dense(\n",
        "      units=intermediate_dim,\n",
        "      activation=tf.nn.relu,\n",
        "      kernel_initializer='he_uniform'\n",
        "    )\n",
        "    self.hidden_layer_2 = tf.keras.layers.Dense(\n",
        "      units=hidden_dim_2,\n",
        "      activation=tf.nn.relu,\n",
        "      kernel_initializer='he_uniform'\n",
        "    )\n",
        "    self.output_layer = tf.keras.layers.Dense(\n",
        "      units=original_dim,\n",
        "      activation=tf.nn.sigmoid\n",
        "    )\n",
        "  \n",
        "  def call(self, code):\n",
        "    activation = self.hidden_layer_1(code)\n",
        "    activation = self.hidden_layer_2(activation)\n",
        "    return self.output_layer(activation)"
      ],
      "execution_count": 0,
      "outputs": []
    },
    {
      "cell_type": "markdown",
      "metadata": {
        "id": "Y56B0H4VXWCi",
        "colab_type": "text"
      },
      "source": [
        "## Autoencoder"
      ]
    },
    {
      "cell_type": "code",
      "metadata": {
        "id": "1pnG424RWY74",
        "colab_type": "code",
        "colab": {}
      },
      "source": [
        "class Autoencoder(tf.keras.Model):\n",
        "  def __init__(self, intermediate_dim, original_dim):\n",
        "    super(Autoencoder, self).__init__()\n",
        "    self.encoder = Encoder(\n",
        "        intermediate_dim=intermediate_dim, \n",
        "        original_dim=original_dim\n",
        "    )\n",
        "    self.decoder = Decoder(\n",
        "        intermediate_dim=intermediate_dim,\n",
        "        original_dim=original_dim\n",
        "    )\n",
        "  \n",
        "  def call(self, input_features):\n",
        "    code = self.encoder(input_features)\n",
        "    reconstructed = self.decoder(code)\n",
        "    return reconstructed"
      ],
      "execution_count": 0,
      "outputs": []
    },
    {
      "cell_type": "markdown",
      "metadata": {
        "id": "SsYvdPBnaEdH",
        "colab_type": "text"
      },
      "source": [
        "# Model and Training Setup"
      ]
    },
    {
      "cell_type": "code",
      "metadata": {
        "id": "5AWKjuNXaG7d",
        "colab_type": "code",
        "colab": {}
      },
      "source": [
        "autoencoder = Autoencoder(\n",
        "  intermediate_dim=intermediate_dim,\n",
        "  original_dim=original_dim\n",
        ")"
      ],
      "execution_count": 0,
      "outputs": []
    },
    {
      "cell_type": "code",
      "metadata": {
        "id": "dAZ24ybPaKEG",
        "colab_type": "code",
        "colab": {}
      },
      "source": [
        "learning_rate = 0.5e-2\n",
        "opt = tf.optimizers.Adam(learning_rate=learning_rate)"
      ],
      "execution_count": 0,
      "outputs": []
    },
    {
      "cell_type": "code",
      "metadata": {
        "id": "IcPs8QioaKGl",
        "colab_type": "code",
        "colab": {}
      },
      "source": [
        "def loss(model, original):\n",
        "  reconstruction_error = tf.reduce_mean(tf.square(tf.subtract(model(original), original)))\n",
        "  return reconstruction_error\n",
        "  \n",
        "def train(loss, model, opt, original):\n",
        "  with tf.GradientTape() as tape:\n",
        "    gradients = tape.gradient(loss(model, original), model.trainable_variables)\n",
        "  gradient_variables = zip(gradients, model.trainable_variables)\n",
        "  opt.apply_gradients(gradient_variables)"
      ],
      "execution_count": 0,
      "outputs": []
    },
    {
      "cell_type": "markdown",
      "metadata": {
        "id": "xag9yFPpcHKT",
        "colab_type": "text"
      },
      "source": [
        "# Training"
      ]
    },
    {
      "cell_type": "code",
      "metadata": {
        "id": "uUJWOicoaa1J",
        "colab_type": "code",
        "colab": {}
      },
      "source": [
        "epochs = 50\n",
        "save_path = \"drive/My Drive/model_checkpoints\""
      ],
      "execution_count": 0,
      "outputs": []
    },
    {
      "cell_type": "code",
      "metadata": {
        "id": "hnwQ2jGqmzzB",
        "colab_type": "code",
        "colab": {}
      },
      "source": [
        "def make_folder(path):\n",
        "  try:\n",
        "    os.mkdir(path)\n",
        "  except FileExistsError:\n",
        "    print(\"Directory already exist.\")\n",
        "  return"
      ],
      "execution_count": 0,
      "outputs": []
    },
    {
      "cell_type": "code",
      "metadata": {
        "id": "Bzz6d93foYBn",
        "colab_type": "code",
        "outputId": "4d60da8b-0a22-4d91-bdd0-6b7059031e3c",
        "colab": {
          "base_uri": "https://localhost:8080/",
          "height": 35
        }
      },
      "source": [
        "make_folder(save_path)"
      ],
      "execution_count": 0,
      "outputs": [
        {
          "output_type": "stream",
          "text": [
            "Directory already exist.\n"
          ],
          "name": "stdout"
        }
      ]
    },
    {
      "cell_type": "code",
      "metadata": {
        "id": "DePm8fyBcIPp",
        "colab_type": "code",
        "outputId": "43df9fb7-d8bc-4cb0-b4dc-2d51571ae76b",
        "colab": {
          "base_uri": "https://localhost:8080/",
          "height": 542
        }
      },
      "source": [
        "save_freq = 5\n",
        "writer = tf.summary.create_file_writer('{}/tmp'.format(save_path))\n",
        "with writer.as_default():\n",
        "  with tf.summary.record_if(True):\n",
        "    for epoch in range(epochs):\n",
        "      for step, batch_features in enumerate(train_dataset):\n",
        "        train(loss, autoencoder, opt, batch_features)\n",
        "        loss_values = loss(autoencoder, batch_features)\n",
        "        original = batch_features\n",
        "        reconstructed = autoencoder(tf.constant(batch_features))\n",
        "        tf.summary.scalar('loss', loss_values, step=step)\n",
        "        tf.summary.write('original', original, step=step)\n",
        "        tf.summary.write('reconstructed', reconstructed, step=step)\n",
        "      \n",
        "      if epoch%save_freq == 0:\n",
        "        tf.print(\"Epoch: {}\".format(epoch))\n",
        "        tf.print(\" . Loss:\", loss_values)\n",
        "        path = \"{}/epoch_{:03d}\".format(save_path, epoch)\n",
        "        make_folder(path)\n",
        "        autoencoder.save_weights(path)\n"
      ],
      "execution_count": 0,
      "outputs": [
        {
          "output_type": "stream",
          "text": [
            "Epoch: 0\n",
            " . Loss: 0.0375696234\n",
            "Directory already exist.\n",
            "Epoch: 5\n",
            " . Loss: 0.0159702674\n",
            "Directory already exist.\n",
            "Epoch: 10\n",
            " . Loss: 0.0152507937\n",
            "Directory already exist.\n",
            "Epoch: 15\n",
            " . Loss: 0.0133871352\n",
            "Directory already exist.\n",
            "Epoch: 20\n",
            " . Loss: 0.010589866\n",
            "Directory already exist.\n",
            "Epoch: 25\n",
            " . Loss: 0.00961121637\n",
            "Directory already exist.\n",
            "Epoch: 30\n",
            " . Loss: 0.0131718908\n",
            "Directory already exist.\n",
            "Epoch: 35\n",
            " . Loss: 0.0118441591\n",
            "Directory already exist.\n",
            "Epoch: 40\n",
            " . Loss: 0.0115874736\n",
            "Directory already exist.\n",
            "Epoch: 45\n",
            " . Loss: 0.0116139008\n",
            "Directory already exist.\n"
          ],
          "name": "stdout"
        }
      ]
    },
    {
      "cell_type": "code",
      "metadata": {
        "id": "heFLCJZso-Bh",
        "colab_type": "code",
        "colab": {}
      },
      "source": [
        ""
      ],
      "execution_count": 0,
      "outputs": []
    },
    {
      "cell_type": "markdown",
      "metadata": {
        "id": "_NSual-YxFAU",
        "colab_type": "text"
      },
      "source": [
        "# Capstone Project Statement"
      ]
    },
    {
      "cell_type": "markdown",
      "metadata": {
        "id": "sVUh6Sot08UE",
        "colab_type": "text"
      },
      "source": [
        "## Instructions:\n",
        "1. Create a copy of this collab notebook and suffix it with your name\n",
        "2. Run through the code example above\n",
        "3. Work on the project objectives below inside the copy of the notebook"
      ]
    },
    {
      "cell_type": "markdown",
      "metadata": {
        "id": "gtAZpzd2xIYO",
        "colab_type": "text"
      },
      "source": [
        "## 1. Use the autoencoder as a basis to create a machine learning model to find the Top 5 similar company given an target company. \n",
        "\n",
        "Note: Implement an API/function to query for Top 5 similar company given an target company. Assuming the target company is within the data.f file."
      ]
    },
    {
      "cell_type": "markdown",
      "metadata": {
        "id": "KpGow3iwSfXI",
        "colab_type": "text"
      },
      "source": [
        "### Get information of a specific company"
      ]
    },
    {
      "cell_type": "code",
      "metadata": {
        "id": "In9eeWEr-dS8",
        "colab_type": "code",
        "colab": {}
      },
      "source": [
        "#@title Write down a company name\n",
        "company_name = \"Electrolux\" #@param {type:\"string\"}\n"
      ],
      "execution_count": 0,
      "outputs": []
    },
    {
      "cell_type": "code",
      "metadata": {
        "id": "BOQEa018yGXz",
        "colab_type": "code",
        "outputId": "0ec74a18-4bc3-4f95-e78e-e753e2b818e7",
        "colab": {
          "base_uri": "https://localhost:8080/",
          "height": 35
        }
      },
      "source": [
        "if(company_name in dup_raw_df['Name'].values):\n",
        "    print('The Company is founded!')\n",
        "else:\n",
        "    raise NameError('This company name is not founded!')"
      ],
      "execution_count": 0,
      "outputs": [
        {
          "output_type": "stream",
          "text": [
            "The Company is founded!\n"
          ],
          "name": "stdout"
        }
      ]
    },
    {
      "cell_type": "code",
      "metadata": {
        "id": "SlmiYjcVTDI5",
        "colab_type": "code",
        "colab": {}
      },
      "source": [
        "# df preprocessing\n",
        "target_company_df = dup_raw_df[dup_raw_df.Name == company_name].copy()\n",
        "other_companies_df = dup_raw_df[dup_raw_df.Name != company_name].copy()"
      ],
      "execution_count": 0,
      "outputs": []
    },
    {
      "cell_type": "markdown",
      "metadata": {
        "id": "u98HfdIMSn_H",
        "colab_type": "text"
      },
      "source": [
        "### Get the target vector of target company"
      ]
    },
    {
      "cell_type": "code",
      "metadata": {
        "id": "ivlvJ36OsXrk",
        "colab_type": "code",
        "colab": {}
      },
      "source": [
        "func_features_df = features_dataframe.copy()\n",
        "\n",
        "def df_preprocessing(dataframe):\n",
        "    # drop duplicate index\n",
        "    dataframe.drop(labels='index', axis=1, inplace=True)\n",
        "    dataframe.drop(labels=['year', 'Name', 'OS'], axis=1, inplace=True)\n",
        "    dataframe.replace(to_replace=[None], value=np.nan, inplace=True)\n",
        "\n",
        "    # find columns that has na\n",
        "    dataframe.columns[dataframe.isna().any()]\n",
        "\n",
        "    #fill na with majorituy category\n",
        "    dataframe.fillna({'Featured Report?':'No', \\\n",
        "                'GOLD Community': 'No', \\\n",
        "                'Listed/Non-listed': 'Listed', \\\n",
        "                'OS':'No', \\\n",
        "                'Organization type': 'Private Company', \n",
        "                'Size': 'Large'}, inplace=True)\n",
        "    \n",
        "    dataframe_clean = dataframe.loc[:, 'Country Status':'Size'].copy()\n",
        "\n",
        "    dataframe_ori_cols = dataframe_clean.shape[1] # Number of cleaned original columns\n",
        "    return dataframe_clean, dataframe_ori_cols"
      ],
      "execution_count": 0,
      "outputs": []
    },
    {
      "cell_type": "code",
      "metadata": {
        "id": "IysAbus5jVD7",
        "colab_type": "code",
        "colab": {}
      },
      "source": [
        "# Create a function to get one-hot code dataframe\n",
        "def get_code_df(dataframe,df_type):\n",
        "    dataframe_clean, dataframe_ori_cols = df_preprocessing(dataframe)\n",
        "    if(df_type == 'target'):\n",
        "        # create a dictionary of origin values of the target company \n",
        "        target_com_dict = dataframe_clean.to_dict(orient='records')[0]\n",
        "\n",
        "        # show a data list with satisfying conditions\n",
        "        for key, value in target_com_dict.items():\n",
        "            global func_features_df\n",
        "            func_features_df = func_features_df[func_features_df[key] == value].copy()\n",
        "            target_features_df = func_features_df\n",
        "\n",
        "        # drop duplicates\n",
        "        target_features_df = target_features_df.drop_duplicates()\n",
        "\n",
        "        # Takes only the columns which have been one-hot-encoded\n",
        "        target_vector = target_features_df[target_features_df.columns[dataframe_ori_cols:]]\n",
        "        return dataframe_clean, dataframe_clean.head(), target_vector, target_vector.head()\n",
        "        \n",
        "    if(df_type == 'remaining'):\n",
        "        # One-hot-encoding\n",
        "        token_dataframe = dataframe_clean.copy()\n",
        "        for feature in dataframe_clean.columns:\n",
        "            dfDummies = pd.get_dummies(dataframe_clean[feature], prefix = feature)\n",
        "            token_dataframe = pd.concat([token_dataframe, dfDummies], axis=1)\n",
        "\n",
        "        # Take only the columns which have been one-hot-encoded\n",
        "        token_df = token_dataframe[token_dataframe.columns[dataframe_ori_cols:]]\n",
        "        return dataframe_clean, dataframe_clean.head(), token_df, token_df.head()"
      ],
      "execution_count": 0,
      "outputs": []
    },
    {
      "cell_type": "code",
      "metadata": {
        "id": "B8nR2H_uB9hA",
        "colab_type": "code",
        "outputId": "b2badf6f-e20d-43dc-df01-9ac68b6234d5",
        "colab": {
          "base_uri": "https://localhost:8080/",
          "height": 221
        }
      },
      "source": [
        "# preview target company\n",
        "target_company, prv_target_company, encoded_target_company, prv_encoded_target_company = get_code_df(target_company_df, df_type='target')\n",
        "display(prv_target_company, prv_encoded_target_company, prv_encoded_target_company.shape)"
      ],
      "execution_count": 0,
      "outputs": [
        {
          "output_type": "display_data",
          "data": {
            "text/html": [
              "<div>\n",
              "<style scoped>\n",
              "    .dataframe tbody tr th:only-of-type {\n",
              "        vertical-align: middle;\n",
              "    }\n",
              "\n",
              "    .dataframe tbody tr th {\n",
              "        vertical-align: top;\n",
              "    }\n",
              "\n",
              "    .dataframe thead th {\n",
              "        text-align: right;\n",
              "    }\n",
              "</style>\n",
              "<table border=\"1\" class=\"dataframe\">\n",
              "  <thead>\n",
              "    <tr style=\"text-align: right;\">\n",
              "      <th></th>\n",
              "      <th>Country Status</th>\n",
              "      <th>Featured Report?</th>\n",
              "      <th>GOLD Community</th>\n",
              "      <th>Listed/Non-listed</th>\n",
              "      <th>Organization type</th>\n",
              "      <th>Region</th>\n",
              "      <th>Sector</th>\n",
              "      <th>Size</th>\n",
              "    </tr>\n",
              "  </thead>\n",
              "  <tbody>\n",
              "    <tr>\n",
              "      <th>3</th>\n",
              "      <td>OECD</td>\n",
              "      <td>No</td>\n",
              "      <td>No</td>\n",
              "      <td>Listed</td>\n",
              "      <td>Private company</td>\n",
              "      <td>Europe</td>\n",
              "      <td>Consumer Durables</td>\n",
              "      <td>Large</td>\n",
              "    </tr>\n",
              "  </tbody>\n",
              "</table>\n",
              "</div>"
            ],
            "text/plain": [
              "  Country Status Featured Report?  ...             Sector   Size\n",
              "3           OECD               No  ...  Consumer Durables  Large\n",
              "\n",
              "[1 rows x 8 columns]"
            ]
          },
          "metadata": {
            "tags": []
          }
        },
        {
          "output_type": "display_data",
          "data": {
            "text/html": [
              "<div>\n",
              "<style scoped>\n",
              "    .dataframe tbody tr th:only-of-type {\n",
              "        vertical-align: middle;\n",
              "    }\n",
              "\n",
              "    .dataframe tbody tr th {\n",
              "        vertical-align: top;\n",
              "    }\n",
              "\n",
              "    .dataframe thead th {\n",
              "        text-align: right;\n",
              "    }\n",
              "</style>\n",
              "<table border=\"1\" class=\"dataframe\">\n",
              "  <thead>\n",
              "    <tr style=\"text-align: right;\">\n",
              "      <th></th>\n",
              "      <th>Country Status_DAC-LDC</th>\n",
              "      <th>Country Status_DAC-LMICT</th>\n",
              "      <th>Country Status_DAC-OLIC</th>\n",
              "      <th>Country Status_DAC-UMICT</th>\n",
              "      <th>Country Status_Non-OECD / Non-DAC</th>\n",
              "      <th>Country Status_OECD</th>\n",
              "      <th>Featured Report?_No</th>\n",
              "      <th>Featured Report?_Yes</th>\n",
              "      <th>GOLD Community_No</th>\n",
              "      <th>GOLD Community_Yes</th>\n",
              "      <th>Listed/Non-listed_Listed</th>\n",
              "      <th>Listed/Non-listed_Non-listed</th>\n",
              "      <th>Listed/Non-listed_Not applicable</th>\n",
              "      <th>Organization type_Cooperative</th>\n",
              "      <th>Organization type_Non-profit organization</th>\n",
              "      <th>Organization type_Partnership</th>\n",
              "      <th>Organization type_Private Company</th>\n",
              "      <th>Organization type_Private company</th>\n",
              "      <th>Organization type_Public institution</th>\n",
              "      <th>Organization type_State-owned company</th>\n",
              "      <th>Organization type_Subsidiary</th>\n",
              "      <th>Region_Africa</th>\n",
              "      <th>Region_Asia</th>\n",
              "      <th>Region_Europe</th>\n",
              "      <th>Region_Latin America &amp; the Caribbean</th>\n",
              "      <th>Region_Northern America</th>\n",
              "      <th>Region_Oceania</th>\n",
              "      <th>Sector_=</th>\n",
              "      <th>Sector_Agriculture</th>\n",
              "      <th>Sector_Automotive</th>\n",
              "      <th>Sector_Aviation</th>\n",
              "      <th>Sector_Chemicals</th>\n",
              "      <th>Sector_Commercial Services</th>\n",
              "      <th>Sector_Computers</th>\n",
              "      <th>Sector_Conglomerates</th>\n",
              "      <th>Sector_Construction</th>\n",
              "      <th>Sector_Construction Materials</th>\n",
              "      <th>Sector_Consumer Durables</th>\n",
              "      <th>Sector_Energy</th>\n",
              "      <th>Sector_Energy Utilities</th>\n",
              "      <th>Sector_Equipment</th>\n",
              "      <th>Sector_Financial Services</th>\n",
              "      <th>Sector_Food and Beverage Products</th>\n",
              "      <th>Sector_Forest and Paper Products</th>\n",
              "      <th>Sector_Healthcare Products</th>\n",
              "      <th>Sector_Healthcare Services</th>\n",
              "      <th>Sector_Household and Personal Products</th>\n",
              "      <th>Sector_Logistics</th>\n",
              "      <th>Sector_Media</th>\n",
              "      <th>Sector_Metals Products</th>\n",
              "      <th>Sector_Mining</th>\n",
              "      <th>Sector_Non-Profit / Services</th>\n",
              "      <th>Sector_Other</th>\n",
              "      <th>Sector_Public Agency</th>\n",
              "      <th>Sector_Railroad</th>\n",
              "      <th>Sector_Real Estate</th>\n",
              "      <th>Sector_Retailers</th>\n",
              "      <th>Sector_Technology Hardware</th>\n",
              "      <th>Sector_Telecommunications</th>\n",
              "      <th>Sector_Textiles and Apparel</th>\n",
              "      <th>Sector_Tobacco</th>\n",
              "      <th>Sector_Tourism/Leisure</th>\n",
              "      <th>Sector_Toys</th>\n",
              "      <th>Sector_Universities</th>\n",
              "      <th>Sector_Waste Management</th>\n",
              "      <th>Sector_Water Utilities</th>\n",
              "      <th>Size_Large</th>\n",
              "      <th>Size_MNE</th>\n",
              "      <th>Size_SME</th>\n",
              "    </tr>\n",
              "  </thead>\n",
              "  <tbody>\n",
              "    <tr>\n",
              "      <th>3</th>\n",
              "      <td>0</td>\n",
              "      <td>0</td>\n",
              "      <td>0</td>\n",
              "      <td>0</td>\n",
              "      <td>0</td>\n",
              "      <td>1</td>\n",
              "      <td>1</td>\n",
              "      <td>0</td>\n",
              "      <td>1</td>\n",
              "      <td>0</td>\n",
              "      <td>1</td>\n",
              "      <td>0</td>\n",
              "      <td>0</td>\n",
              "      <td>0</td>\n",
              "      <td>0</td>\n",
              "      <td>0</td>\n",
              "      <td>0</td>\n",
              "      <td>1</td>\n",
              "      <td>0</td>\n",
              "      <td>0</td>\n",
              "      <td>0</td>\n",
              "      <td>0</td>\n",
              "      <td>0</td>\n",
              "      <td>1</td>\n",
              "      <td>0</td>\n",
              "      <td>0</td>\n",
              "      <td>0</td>\n",
              "      <td>0</td>\n",
              "      <td>0</td>\n",
              "      <td>0</td>\n",
              "      <td>0</td>\n",
              "      <td>0</td>\n",
              "      <td>0</td>\n",
              "      <td>0</td>\n",
              "      <td>0</td>\n",
              "      <td>0</td>\n",
              "      <td>0</td>\n",
              "      <td>1</td>\n",
              "      <td>0</td>\n",
              "      <td>0</td>\n",
              "      <td>0</td>\n",
              "      <td>0</td>\n",
              "      <td>0</td>\n",
              "      <td>0</td>\n",
              "      <td>0</td>\n",
              "      <td>0</td>\n",
              "      <td>0</td>\n",
              "      <td>0</td>\n",
              "      <td>0</td>\n",
              "      <td>0</td>\n",
              "      <td>0</td>\n",
              "      <td>0</td>\n",
              "      <td>0</td>\n",
              "      <td>0</td>\n",
              "      <td>0</td>\n",
              "      <td>0</td>\n",
              "      <td>0</td>\n",
              "      <td>0</td>\n",
              "      <td>0</td>\n",
              "      <td>0</td>\n",
              "      <td>0</td>\n",
              "      <td>0</td>\n",
              "      <td>0</td>\n",
              "      <td>0</td>\n",
              "      <td>0</td>\n",
              "      <td>0</td>\n",
              "      <td>1</td>\n",
              "      <td>0</td>\n",
              "      <td>0</td>\n",
              "    </tr>\n",
              "  </tbody>\n",
              "</table>\n",
              "</div>"
            ],
            "text/plain": [
              "   Country Status_DAC-LDC  Country Status_DAC-LMICT  ...  Size_MNE  Size_SME\n",
              "3                       0                         0  ...         0         0\n",
              "\n",
              "[1 rows x 69 columns]"
            ]
          },
          "metadata": {
            "tags": []
          }
        },
        {
          "output_type": "display_data",
          "data": {
            "text/plain": [
              "(1, 69)"
            ]
          },
          "metadata": {
            "tags": []
          }
        }
      ]
    },
    {
      "cell_type": "code",
      "metadata": {
        "id": "LNWza3PJWTep",
        "colab_type": "code",
        "outputId": "de3a84ed-35e5-48a7-e550-a9449353e9f0",
        "colab": {
          "base_uri": "https://localhost:8080/",
          "height": 451
        }
      },
      "source": [
        "# preview other companies\n",
        "other_companies, prv_other_companies, encoded_other_companies, prv_encoded_other_companies = get_code_df(other_companies_df, df_type='remaining')\n",
        "display(prv_other_companies, prv_encoded_other_companies, prv_encoded_other_companies.shape)"
      ],
      "execution_count": 0,
      "outputs": [
        {
          "output_type": "display_data",
          "data": {
            "text/html": [
              "<div>\n",
              "<style scoped>\n",
              "    .dataframe tbody tr th:only-of-type {\n",
              "        vertical-align: middle;\n",
              "    }\n",
              "\n",
              "    .dataframe tbody tr th {\n",
              "        vertical-align: top;\n",
              "    }\n",
              "\n",
              "    .dataframe thead th {\n",
              "        text-align: right;\n",
              "    }\n",
              "</style>\n",
              "<table border=\"1\" class=\"dataframe\">\n",
              "  <thead>\n",
              "    <tr style=\"text-align: right;\">\n",
              "      <th></th>\n",
              "      <th>Country Status</th>\n",
              "      <th>Featured Report?</th>\n",
              "      <th>GOLD Community</th>\n",
              "      <th>Listed/Non-listed</th>\n",
              "      <th>Organization type</th>\n",
              "      <th>Region</th>\n",
              "      <th>Sector</th>\n",
              "      <th>Size</th>\n",
              "    </tr>\n",
              "  </thead>\n",
              "  <tbody>\n",
              "    <tr>\n",
              "      <th>0</th>\n",
              "      <td>OECD</td>\n",
              "      <td>No</td>\n",
              "      <td>No</td>\n",
              "      <td>Listed</td>\n",
              "      <td>Private company</td>\n",
              "      <td>Europe</td>\n",
              "      <td>Energy Utilities</td>\n",
              "      <td>Large</td>\n",
              "    </tr>\n",
              "    <tr>\n",
              "      <th>1</th>\n",
              "      <td>OECD</td>\n",
              "      <td>No</td>\n",
              "      <td>No</td>\n",
              "      <td>Listed</td>\n",
              "      <td>Private company</td>\n",
              "      <td>Northern America</td>\n",
              "      <td>Healthcare Products</td>\n",
              "      <td>Large</td>\n",
              "    </tr>\n",
              "    <tr>\n",
              "      <th>2</th>\n",
              "      <td>OECD</td>\n",
              "      <td>No</td>\n",
              "      <td>No</td>\n",
              "      <td>Non-listed</td>\n",
              "      <td>Subsidiary</td>\n",
              "      <td>Europe</td>\n",
              "      <td>Aviation</td>\n",
              "      <td>Large</td>\n",
              "    </tr>\n",
              "    <tr>\n",
              "      <th>4</th>\n",
              "      <td>OECD</td>\n",
              "      <td>No</td>\n",
              "      <td>No</td>\n",
              "      <td>Listed</td>\n",
              "      <td>Private Company</td>\n",
              "      <td>Europe</td>\n",
              "      <td>Construction Materials</td>\n",
              "      <td>Large</td>\n",
              "    </tr>\n",
              "    <tr>\n",
              "      <th>5</th>\n",
              "      <td>OECD</td>\n",
              "      <td>No</td>\n",
              "      <td>Yes</td>\n",
              "      <td>Listed</td>\n",
              "      <td>Private company</td>\n",
              "      <td>Northern America</td>\n",
              "      <td>Automotive</td>\n",
              "      <td>MNE</td>\n",
              "    </tr>\n",
              "  </tbody>\n",
              "</table>\n",
              "</div>"
            ],
            "text/plain": [
              "  Country Status Featured Report?  ...                  Sector   Size\n",
              "0           OECD               No  ...        Energy Utilities  Large\n",
              "1           OECD               No  ...     Healthcare Products  Large\n",
              "2           OECD               No  ...                Aviation  Large\n",
              "4           OECD               No  ...  Construction Materials  Large\n",
              "5           OECD               No  ...              Automotive    MNE\n",
              "\n",
              "[5 rows x 8 columns]"
            ]
          },
          "metadata": {
            "tags": []
          }
        },
        {
          "output_type": "display_data",
          "data": {
            "text/html": [
              "<div>\n",
              "<style scoped>\n",
              "    .dataframe tbody tr th:only-of-type {\n",
              "        vertical-align: middle;\n",
              "    }\n",
              "\n",
              "    .dataframe tbody tr th {\n",
              "        vertical-align: top;\n",
              "    }\n",
              "\n",
              "    .dataframe thead th {\n",
              "        text-align: right;\n",
              "    }\n",
              "</style>\n",
              "<table border=\"1\" class=\"dataframe\">\n",
              "  <thead>\n",
              "    <tr style=\"text-align: right;\">\n",
              "      <th></th>\n",
              "      <th>Country Status_DAC-LDC</th>\n",
              "      <th>Country Status_DAC-LMICT</th>\n",
              "      <th>Country Status_DAC-OLIC</th>\n",
              "      <th>Country Status_DAC-UMICT</th>\n",
              "      <th>Country Status_Non-OECD / Non-DAC</th>\n",
              "      <th>Country Status_OECD</th>\n",
              "      <th>Featured Report?_No</th>\n",
              "      <th>Featured Report?_Yes</th>\n",
              "      <th>GOLD Community_No</th>\n",
              "      <th>GOLD Community_Yes</th>\n",
              "      <th>Listed/Non-listed_Listed</th>\n",
              "      <th>Listed/Non-listed_Non-listed</th>\n",
              "      <th>Listed/Non-listed_Not applicable</th>\n",
              "      <th>Organization type_Cooperative</th>\n",
              "      <th>Organization type_Non-profit organization</th>\n",
              "      <th>Organization type_Partnership</th>\n",
              "      <th>Organization type_Private Company</th>\n",
              "      <th>Organization type_Private company</th>\n",
              "      <th>Organization type_Public institution</th>\n",
              "      <th>Organization type_State-owned company</th>\n",
              "      <th>Organization type_Subsidiary</th>\n",
              "      <th>Region_Africa</th>\n",
              "      <th>Region_Asia</th>\n",
              "      <th>Region_Europe</th>\n",
              "      <th>Region_Latin America &amp; the Caribbean</th>\n",
              "      <th>Region_Northern America</th>\n",
              "      <th>Region_Oceania</th>\n",
              "      <th>Sector_=</th>\n",
              "      <th>Sector_Agriculture</th>\n",
              "      <th>Sector_Automotive</th>\n",
              "      <th>Sector_Aviation</th>\n",
              "      <th>Sector_Chemicals</th>\n",
              "      <th>Sector_Commercial Services</th>\n",
              "      <th>Sector_Computers</th>\n",
              "      <th>Sector_Conglomerates</th>\n",
              "      <th>Sector_Construction</th>\n",
              "      <th>Sector_Construction Materials</th>\n",
              "      <th>Sector_Consumer Durables</th>\n",
              "      <th>Sector_Energy</th>\n",
              "      <th>Sector_Energy Utilities</th>\n",
              "      <th>Sector_Equipment</th>\n",
              "      <th>Sector_Financial Services</th>\n",
              "      <th>Sector_Food and Beverage Products</th>\n",
              "      <th>Sector_Forest and Paper Products</th>\n",
              "      <th>Sector_Healthcare Products</th>\n",
              "      <th>Sector_Healthcare Services</th>\n",
              "      <th>Sector_Household and Personal Products</th>\n",
              "      <th>Sector_Logistics</th>\n",
              "      <th>Sector_Media</th>\n",
              "      <th>Sector_Metals Products</th>\n",
              "      <th>Sector_Mining</th>\n",
              "      <th>Sector_Non-Profit / Services</th>\n",
              "      <th>Sector_Other</th>\n",
              "      <th>Sector_Public Agency</th>\n",
              "      <th>Sector_Railroad</th>\n",
              "      <th>Sector_Real Estate</th>\n",
              "      <th>Sector_Retailers</th>\n",
              "      <th>Sector_Technology Hardware</th>\n",
              "      <th>Sector_Telecommunications</th>\n",
              "      <th>Sector_Textiles and Apparel</th>\n",
              "      <th>Sector_Tobacco</th>\n",
              "      <th>Sector_Tourism/Leisure</th>\n",
              "      <th>Sector_Toys</th>\n",
              "      <th>Sector_Universities</th>\n",
              "      <th>Sector_Waste Management</th>\n",
              "      <th>Sector_Water Utilities</th>\n",
              "      <th>Size_Large</th>\n",
              "      <th>Size_MNE</th>\n",
              "      <th>Size_SME</th>\n",
              "    </tr>\n",
              "  </thead>\n",
              "  <tbody>\n",
              "    <tr>\n",
              "      <th>0</th>\n",
              "      <td>0</td>\n",
              "      <td>0</td>\n",
              "      <td>0</td>\n",
              "      <td>0</td>\n",
              "      <td>0</td>\n",
              "      <td>1</td>\n",
              "      <td>1</td>\n",
              "      <td>0</td>\n",
              "      <td>1</td>\n",
              "      <td>0</td>\n",
              "      <td>1</td>\n",
              "      <td>0</td>\n",
              "      <td>0</td>\n",
              "      <td>0</td>\n",
              "      <td>0</td>\n",
              "      <td>0</td>\n",
              "      <td>0</td>\n",
              "      <td>1</td>\n",
              "      <td>0</td>\n",
              "      <td>0</td>\n",
              "      <td>0</td>\n",
              "      <td>0</td>\n",
              "      <td>0</td>\n",
              "      <td>1</td>\n",
              "      <td>0</td>\n",
              "      <td>0</td>\n",
              "      <td>0</td>\n",
              "      <td>0</td>\n",
              "      <td>0</td>\n",
              "      <td>0</td>\n",
              "      <td>0</td>\n",
              "      <td>0</td>\n",
              "      <td>0</td>\n",
              "      <td>0</td>\n",
              "      <td>0</td>\n",
              "      <td>0</td>\n",
              "      <td>0</td>\n",
              "      <td>0</td>\n",
              "      <td>0</td>\n",
              "      <td>1</td>\n",
              "      <td>0</td>\n",
              "      <td>0</td>\n",
              "      <td>0</td>\n",
              "      <td>0</td>\n",
              "      <td>0</td>\n",
              "      <td>0</td>\n",
              "      <td>0</td>\n",
              "      <td>0</td>\n",
              "      <td>0</td>\n",
              "      <td>0</td>\n",
              "      <td>0</td>\n",
              "      <td>0</td>\n",
              "      <td>0</td>\n",
              "      <td>0</td>\n",
              "      <td>0</td>\n",
              "      <td>0</td>\n",
              "      <td>0</td>\n",
              "      <td>0</td>\n",
              "      <td>0</td>\n",
              "      <td>0</td>\n",
              "      <td>0</td>\n",
              "      <td>0</td>\n",
              "      <td>0</td>\n",
              "      <td>0</td>\n",
              "      <td>0</td>\n",
              "      <td>0</td>\n",
              "      <td>1</td>\n",
              "      <td>0</td>\n",
              "      <td>0</td>\n",
              "    </tr>\n",
              "    <tr>\n",
              "      <th>1</th>\n",
              "      <td>0</td>\n",
              "      <td>0</td>\n",
              "      <td>0</td>\n",
              "      <td>0</td>\n",
              "      <td>0</td>\n",
              "      <td>1</td>\n",
              "      <td>1</td>\n",
              "      <td>0</td>\n",
              "      <td>1</td>\n",
              "      <td>0</td>\n",
              "      <td>1</td>\n",
              "      <td>0</td>\n",
              "      <td>0</td>\n",
              "      <td>0</td>\n",
              "      <td>0</td>\n",
              "      <td>0</td>\n",
              "      <td>0</td>\n",
              "      <td>1</td>\n",
              "      <td>0</td>\n",
              "      <td>0</td>\n",
              "      <td>0</td>\n",
              "      <td>0</td>\n",
              "      <td>0</td>\n",
              "      <td>0</td>\n",
              "      <td>0</td>\n",
              "      <td>1</td>\n",
              "      <td>0</td>\n",
              "      <td>0</td>\n",
              "      <td>0</td>\n",
              "      <td>0</td>\n",
              "      <td>0</td>\n",
              "      <td>0</td>\n",
              "      <td>0</td>\n",
              "      <td>0</td>\n",
              "      <td>0</td>\n",
              "      <td>0</td>\n",
              "      <td>0</td>\n",
              "      <td>0</td>\n",
              "      <td>0</td>\n",
              "      <td>0</td>\n",
              "      <td>0</td>\n",
              "      <td>0</td>\n",
              "      <td>0</td>\n",
              "      <td>0</td>\n",
              "      <td>1</td>\n",
              "      <td>0</td>\n",
              "      <td>0</td>\n",
              "      <td>0</td>\n",
              "      <td>0</td>\n",
              "      <td>0</td>\n",
              "      <td>0</td>\n",
              "      <td>0</td>\n",
              "      <td>0</td>\n",
              "      <td>0</td>\n",
              "      <td>0</td>\n",
              "      <td>0</td>\n",
              "      <td>0</td>\n",
              "      <td>0</td>\n",
              "      <td>0</td>\n",
              "      <td>0</td>\n",
              "      <td>0</td>\n",
              "      <td>0</td>\n",
              "      <td>0</td>\n",
              "      <td>0</td>\n",
              "      <td>0</td>\n",
              "      <td>0</td>\n",
              "      <td>1</td>\n",
              "      <td>0</td>\n",
              "      <td>0</td>\n",
              "    </tr>\n",
              "    <tr>\n",
              "      <th>2</th>\n",
              "      <td>0</td>\n",
              "      <td>0</td>\n",
              "      <td>0</td>\n",
              "      <td>0</td>\n",
              "      <td>0</td>\n",
              "      <td>1</td>\n",
              "      <td>1</td>\n",
              "      <td>0</td>\n",
              "      <td>1</td>\n",
              "      <td>0</td>\n",
              "      <td>0</td>\n",
              "      <td>1</td>\n",
              "      <td>0</td>\n",
              "      <td>0</td>\n",
              "      <td>0</td>\n",
              "      <td>0</td>\n",
              "      <td>0</td>\n",
              "      <td>0</td>\n",
              "      <td>0</td>\n",
              "      <td>0</td>\n",
              "      <td>1</td>\n",
              "      <td>0</td>\n",
              "      <td>0</td>\n",
              "      <td>1</td>\n",
              "      <td>0</td>\n",
              "      <td>0</td>\n",
              "      <td>0</td>\n",
              "      <td>0</td>\n",
              "      <td>0</td>\n",
              "      <td>0</td>\n",
              "      <td>1</td>\n",
              "      <td>0</td>\n",
              "      <td>0</td>\n",
              "      <td>0</td>\n",
              "      <td>0</td>\n",
              "      <td>0</td>\n",
              "      <td>0</td>\n",
              "      <td>0</td>\n",
              "      <td>0</td>\n",
              "      <td>0</td>\n",
              "      <td>0</td>\n",
              "      <td>0</td>\n",
              "      <td>0</td>\n",
              "      <td>0</td>\n",
              "      <td>0</td>\n",
              "      <td>0</td>\n",
              "      <td>0</td>\n",
              "      <td>0</td>\n",
              "      <td>0</td>\n",
              "      <td>0</td>\n",
              "      <td>0</td>\n",
              "      <td>0</td>\n",
              "      <td>0</td>\n",
              "      <td>0</td>\n",
              "      <td>0</td>\n",
              "      <td>0</td>\n",
              "      <td>0</td>\n",
              "      <td>0</td>\n",
              "      <td>0</td>\n",
              "      <td>0</td>\n",
              "      <td>0</td>\n",
              "      <td>0</td>\n",
              "      <td>0</td>\n",
              "      <td>0</td>\n",
              "      <td>0</td>\n",
              "      <td>0</td>\n",
              "      <td>1</td>\n",
              "      <td>0</td>\n",
              "      <td>0</td>\n",
              "    </tr>\n",
              "    <tr>\n",
              "      <th>4</th>\n",
              "      <td>0</td>\n",
              "      <td>0</td>\n",
              "      <td>0</td>\n",
              "      <td>0</td>\n",
              "      <td>0</td>\n",
              "      <td>1</td>\n",
              "      <td>1</td>\n",
              "      <td>0</td>\n",
              "      <td>1</td>\n",
              "      <td>0</td>\n",
              "      <td>1</td>\n",
              "      <td>0</td>\n",
              "      <td>0</td>\n",
              "      <td>0</td>\n",
              "      <td>0</td>\n",
              "      <td>0</td>\n",
              "      <td>1</td>\n",
              "      <td>0</td>\n",
              "      <td>0</td>\n",
              "      <td>0</td>\n",
              "      <td>0</td>\n",
              "      <td>0</td>\n",
              "      <td>0</td>\n",
              "      <td>1</td>\n",
              "      <td>0</td>\n",
              "      <td>0</td>\n",
              "      <td>0</td>\n",
              "      <td>0</td>\n",
              "      <td>0</td>\n",
              "      <td>0</td>\n",
              "      <td>0</td>\n",
              "      <td>0</td>\n",
              "      <td>0</td>\n",
              "      <td>0</td>\n",
              "      <td>0</td>\n",
              "      <td>0</td>\n",
              "      <td>1</td>\n",
              "      <td>0</td>\n",
              "      <td>0</td>\n",
              "      <td>0</td>\n",
              "      <td>0</td>\n",
              "      <td>0</td>\n",
              "      <td>0</td>\n",
              "      <td>0</td>\n",
              "      <td>0</td>\n",
              "      <td>0</td>\n",
              "      <td>0</td>\n",
              "      <td>0</td>\n",
              "      <td>0</td>\n",
              "      <td>0</td>\n",
              "      <td>0</td>\n",
              "      <td>0</td>\n",
              "      <td>0</td>\n",
              "      <td>0</td>\n",
              "      <td>0</td>\n",
              "      <td>0</td>\n",
              "      <td>0</td>\n",
              "      <td>0</td>\n",
              "      <td>0</td>\n",
              "      <td>0</td>\n",
              "      <td>0</td>\n",
              "      <td>0</td>\n",
              "      <td>0</td>\n",
              "      <td>0</td>\n",
              "      <td>0</td>\n",
              "      <td>0</td>\n",
              "      <td>1</td>\n",
              "      <td>0</td>\n",
              "      <td>0</td>\n",
              "    </tr>\n",
              "    <tr>\n",
              "      <th>5</th>\n",
              "      <td>0</td>\n",
              "      <td>0</td>\n",
              "      <td>0</td>\n",
              "      <td>0</td>\n",
              "      <td>0</td>\n",
              "      <td>1</td>\n",
              "      <td>1</td>\n",
              "      <td>0</td>\n",
              "      <td>0</td>\n",
              "      <td>1</td>\n",
              "      <td>1</td>\n",
              "      <td>0</td>\n",
              "      <td>0</td>\n",
              "      <td>0</td>\n",
              "      <td>0</td>\n",
              "      <td>0</td>\n",
              "      <td>0</td>\n",
              "      <td>1</td>\n",
              "      <td>0</td>\n",
              "      <td>0</td>\n",
              "      <td>0</td>\n",
              "      <td>0</td>\n",
              "      <td>0</td>\n",
              "      <td>0</td>\n",
              "      <td>0</td>\n",
              "      <td>1</td>\n",
              "      <td>0</td>\n",
              "      <td>0</td>\n",
              "      <td>0</td>\n",
              "      <td>1</td>\n",
              "      <td>0</td>\n",
              "      <td>0</td>\n",
              "      <td>0</td>\n",
              "      <td>0</td>\n",
              "      <td>0</td>\n",
              "      <td>0</td>\n",
              "      <td>0</td>\n",
              "      <td>0</td>\n",
              "      <td>0</td>\n",
              "      <td>0</td>\n",
              "      <td>0</td>\n",
              "      <td>0</td>\n",
              "      <td>0</td>\n",
              "      <td>0</td>\n",
              "      <td>0</td>\n",
              "      <td>0</td>\n",
              "      <td>0</td>\n",
              "      <td>0</td>\n",
              "      <td>0</td>\n",
              "      <td>0</td>\n",
              "      <td>0</td>\n",
              "      <td>0</td>\n",
              "      <td>0</td>\n",
              "      <td>0</td>\n",
              "      <td>0</td>\n",
              "      <td>0</td>\n",
              "      <td>0</td>\n",
              "      <td>0</td>\n",
              "      <td>0</td>\n",
              "      <td>0</td>\n",
              "      <td>0</td>\n",
              "      <td>0</td>\n",
              "      <td>0</td>\n",
              "      <td>0</td>\n",
              "      <td>0</td>\n",
              "      <td>0</td>\n",
              "      <td>0</td>\n",
              "      <td>1</td>\n",
              "      <td>0</td>\n",
              "    </tr>\n",
              "  </tbody>\n",
              "</table>\n",
              "</div>"
            ],
            "text/plain": [
              "   Country Status_DAC-LDC  Country Status_DAC-LMICT  ...  Size_MNE  Size_SME\n",
              "0                       0                         0  ...         0         0\n",
              "1                       0                         0  ...         0         0\n",
              "2                       0                         0  ...         0         0\n",
              "4                       0                         0  ...         0         0\n",
              "5                       0                         0  ...         1         0\n",
              "\n",
              "[5 rows x 69 columns]"
            ]
          },
          "metadata": {
            "tags": []
          }
        },
        {
          "output_type": "display_data",
          "data": {
            "text/plain": [
              "(5, 69)"
            ]
          },
          "metadata": {
            "tags": []
          }
        }
      ]
    },
    {
      "cell_type": "code",
      "metadata": {
        "id": "5PDr9KW0Yr1B",
        "colab_type": "code",
        "outputId": "8aac3e49-8be9-40bb-e3e6-e343f2d474b6",
        "colab": {
          "base_uri": "https://localhost:8080/",
          "height": 35
        }
      },
      "source": [
        "target_vector_69 = encoded_target_company.to_numpy(dtype=np.float32, copy=True)\n",
        "target_vector_69.shape"
      ],
      "execution_count": 0,
      "outputs": [
        {
          "output_type": "execute_result",
          "data": {
            "text/plain": [
              "numpy.ndarray"
            ]
          },
          "metadata": {
            "tags": []
          },
          "execution_count": 62
        }
      ]
    },
    {
      "cell_type": "code",
      "metadata": {
        "id": "0pEAtakLcaRN",
        "colab_type": "code",
        "outputId": "a88566ce-f74c-4499-bf1c-ff0ee53b3040",
        "colab": {
          "base_uri": "https://localhost:8080/",
          "height": 35
        }
      },
      "source": [
        "other_vectors_69 = encoded_other_companies.to_numpy(dtype=np.float32, copy=True)\n",
        "other_vectors_69.shape"
      ],
      "execution_count": 0,
      "outputs": [
        {
          "output_type": "execute_result",
          "data": {
            "text/plain": [
              "(12490, 69)"
            ]
          },
          "metadata": {
            "tags": []
          },
          "execution_count": 52
        }
      ]
    },
    {
      "cell_type": "markdown",
      "metadata": {
        "id": "ZwB78yHpTECs",
        "colab_type": "text"
      },
      "source": [
        "### Dimension Reducing by Encoder"
      ]
    },
    {
      "cell_type": "code",
      "metadata": {
        "id": "ZeBvIr1_TUiK",
        "colab_type": "code",
        "colab": {}
      },
      "source": [
        "encoder = Encoder(\n",
        "    intermediate_dim=intermediate_dim,\n",
        "    original_dim=original_dim\n",
        ")\n",
        "\n",
        "decoder = Decoder(\n",
        "    intermediate_dim=intermediate_dim,\n",
        "    original_dim=original_dim\n",
        ")"
      ],
      "execution_count": 0,
      "outputs": []
    },
    {
      "cell_type": "code",
      "metadata": {
        "id": "XgZvXganctBW",
        "colab_type": "code",
        "outputId": "24bed3eb-51b5-41fc-e4c9-bcafb0e0b66c",
        "colab": {
          "base_uri": "https://localhost:8080/",
          "height": 35
        }
      },
      "source": [
        "# list of 23-dimensions vectors\n",
        "target_vector_23 = encoder(target_vector_69)\n",
        "target_vector_23.shape"
      ],
      "execution_count": 0,
      "outputs": [
        {
          "output_type": "execute_result",
          "data": {
            "text/plain": [
              "TensorShape([1, 23])"
            ]
          },
          "metadata": {
            "tags": []
          },
          "execution_count": 54
        }
      ]
    },
    {
      "cell_type": "code",
      "metadata": {
        "id": "SrbNJw6qdp5Q",
        "colab_type": "code",
        "outputId": "1bddb5b0-c50c-46f8-f724-92ad4a2a03e0",
        "colab": {
          "base_uri": "https://localhost:8080/",
          "height": 35
        }
      },
      "source": [
        "other_vectors_23 = encoder(other_vectors_69)\n",
        "other_vectors_23.shape"
      ],
      "execution_count": 0,
      "outputs": [
        {
          "output_type": "execute_result",
          "data": {
            "text/plain": [
              "TensorShape([12490, 23])"
            ]
          },
          "metadata": {
            "tags": []
          },
          "execution_count": 55
        }
      ]
    },
    {
      "cell_type": "markdown",
      "metadata": {
        "id": "E-7CBaffTXVR",
        "colab_type": "text"
      },
      "source": [
        "### Calculate the distance between the company vector and vectors in dataset"
      ]
    },
    {
      "cell_type": "code",
      "metadata": {
        "id": "6I1SqWSXTvLa",
        "colab_type": "code",
        "colab": {}
      },
      "source": [
        "def vector_loss(target_vector, selected_vector):\n",
        "    norm_value = np.linalg.norm(target_vector - selected_vector)\n",
        "    return norm_value"
      ],
      "execution_count": 0,
      "outputs": []
    },
    {
      "cell_type": "code",
      "metadata": {
        "id": "HjrRtRbYp7pp",
        "colab_type": "code",
        "outputId": "4671b76c-deea-46eb-f344-52ab9516c5ab",
        "colab": {
          "base_uri": "https://localhost:8080/",
          "height": 1000
        }
      },
      "source": [
        "train_dict = {}\n",
        "loss_dict = {} # for checking\n",
        "\n",
        "for step, vector in enumerate(other_vectors_23):\n",
        "    loss_value = vector_loss(target_vector=target_vector_23, selected_vector=vector)\n",
        "    train_dict.update({vector.experimental_ref() : loss_value})\n",
        "    loss_dict.update({step : loss_value})\n",
        "\n",
        "    if step%1000 == 0:\n",
        "        print('Step: ',step)\n",
        "        print('. Vector: ', vector)\n",
        "        print('. Loss: {}'.format(loss_value))\n",
        "        print('________\\n')"
      ],
      "execution_count": 0,
      "outputs": [
        {
          "output_type": "stream",
          "text": [
            "Step:  0\n",
            ". Vector:  tf.Tensor(\n",
            "[0.6593223  0.52991694 0.5300096  0.5109138  0.53552294 0.46297282\n",
            " 0.5756589  0.5640135  0.54374576 0.63916785 0.5523897  0.48967662\n",
            " 0.55614585 0.5690693  0.4235473  0.53759193 0.46717918 0.3715962\n",
            " 0.48032174 0.6213877  0.6203355  0.5142615  0.47182268], shape=(23,), dtype=float32)\n",
            ". Loss: 0.1594184935092926\n",
            "________\n",
            "\n",
            "Step:  1000\n",
            ". Vector:  tf.Tensor(\n",
            "[0.5431844  0.46220088 0.5206056  0.49174005 0.5605048  0.476045\n",
            " 0.47863996 0.54090977 0.546007   0.5605823  0.52877456 0.47826016\n",
            " 0.5262644  0.49506944 0.51521266 0.5023218  0.4935623  0.4925796\n",
            " 0.46676314 0.5455513  0.48484713 0.45840585 0.48071623], shape=(23,), dtype=float32)\n",
            ". Loss: 0.22992609441280365\n",
            "________\n",
            "\n",
            "Step:  2000\n",
            ". Vector:  tf.Tensor(\n",
            "[0.5971109  0.49322364 0.528209   0.44503143 0.4925152  0.4251901\n",
            " 0.53922117 0.5500984  0.51584595 0.5727555  0.4814058  0.40835887\n",
            " 0.58696675 0.5533949  0.4201365  0.5372612  0.48332745 0.39367378\n",
            " 0.41537273 0.6015871  0.6133498  0.43220583 0.5167773 ], shape=(23,), dtype=float32)\n",
            ". Loss: 0.1742384433746338\n",
            "________\n",
            "\n",
            "Step:  3000\n",
            ". Vector:  tf.Tensor(\n",
            "[0.58575636 0.5020682  0.48641068 0.45012173 0.47595417 0.4703283\n",
            " 0.529863   0.5645433  0.5293759  0.6047462  0.5124177  0.45472795\n",
            " 0.56667936 0.54212004 0.44158503 0.5576014  0.44854376 0.37423354\n",
            " 0.42626023 0.5537854  0.5571612  0.4488728  0.4572032 ], shape=(23,), dtype=float32)\n",
            ". Loss: 0.14795924723148346\n",
            "________\n",
            "\n",
            "Step:  4000\n",
            ". Vector:  tf.Tensor(\n",
            "[0.6230176  0.5229479  0.56198686 0.50258374 0.52510923 0.44438967\n",
            " 0.56207156 0.55856824 0.5318948  0.6318062  0.5962851  0.52118754\n",
            " 0.54016775 0.5784097  0.46048942 0.54405737 0.47648305 0.38523126\n",
            " 0.5096114  0.595839   0.6058834  0.49316543 0.4885338 ], shape=(23,), dtype=float32)\n",
            ". Loss: 0.12834066152572632\n",
            "________\n",
            "\n",
            "Step:  5000\n",
            ". Vector:  tf.Tensor(\n",
            "[0.6429669  0.5284898  0.6032156  0.49062082 0.55699116 0.4084809\n",
            " 0.58268183 0.5995597  0.5533421  0.6156607  0.5943403  0.48537695\n",
            " 0.5289091  0.5744983  0.47086006 0.48877332 0.45878065 0.36972705\n",
            " 0.5252481  0.61618966 0.6050772  0.52914417 0.5028534 ], shape=(23,), dtype=float32)\n",
            ". Loss: 0.17791377007961273\n",
            "________\n",
            "\n",
            "Step:  6000\n",
            ". Vector:  tf.Tensor(\n",
            "[0.53655875 0.50912184 0.43558544 0.4604265  0.5166041  0.4395656\n",
            " 0.4709594  0.45547923 0.4964812  0.5074178  0.5423641  0.4196748\n",
            " 0.52895224 0.44648278 0.44153294 0.53394645 0.4735081  0.4388974\n",
            " 0.4948889  0.5269914  0.41419366 0.35235667 0.44130328], shape=(23,), dtype=float32)\n",
            ". Loss: 0.33852630853652954\n",
            "________\n",
            "\n",
            "Step:  7000\n",
            ". Vector:  tf.Tensor(\n",
            "[0.5142771  0.5430219  0.5366775  0.40781683 0.56426203 0.38504767\n",
            " 0.51190794 0.55671376 0.5286237  0.5234162  0.55117863 0.4639577\n",
            " 0.49869883 0.5208318  0.45206562 0.5416907  0.45787317 0.42492324\n",
            " 0.53922105 0.5875444  0.51708215 0.41836604 0.49741858], shape=(23,), dtype=float32)\n",
            ". Loss: 0.2020501345396042\n",
            "________\n",
            "\n",
            "Step:  8000\n",
            ". Vector:  tf.Tensor(\n",
            "[0.5116724  0.41546392 0.35480136 0.39775681 0.65027267 0.36454362\n",
            " 0.5217115  0.54345965 0.5798505  0.3735273  0.50149196 0.27450824\n",
            " 0.4785276  0.33603966 0.5253968  0.3786024  0.4615702  0.52892923\n",
            " 0.41480017 0.6148146  0.36794806 0.44377613 0.46472374], shape=(23,), dtype=float32)\n",
            ". Loss: 0.5793280601501465\n",
            "________\n",
            "\n",
            "Step:  9000\n",
            ". Vector:  tf.Tensor(\n",
            "[0.63670135 0.4420407  0.50514215 0.509904   0.5662607  0.36678043\n",
            " 0.530176   0.49289832 0.54149073 0.5530164  0.5608248  0.3397826\n",
            " 0.60932344 0.4647199  0.48760659 0.4960331  0.45939264 0.45231268\n",
            " 0.45803025 0.60311055 0.5922617  0.4592905  0.44588834], shape=(23,), dtype=float32)\n",
            ". Loss: 0.28853729367256165\n",
            "________\n",
            "\n",
            "Step:  10000\n",
            ". Vector:  tf.Tensor(\n",
            "[0.58575636 0.5020682  0.48641068 0.45012173 0.47595417 0.4703283\n",
            " 0.529863   0.5645433  0.5293759  0.6047462  0.5124177  0.45472795\n",
            " 0.56667936 0.54212004 0.44158503 0.5576014  0.44854376 0.37423354\n",
            " 0.42626023 0.5537854  0.5571612  0.4488728  0.4572032 ], shape=(23,), dtype=float32)\n",
            ". Loss: 0.14795924723148346\n",
            "________\n",
            "\n",
            "Step:  11000\n",
            ". Vector:  tf.Tensor(\n",
            "[0.6002459  0.51471424 0.4594289  0.50177777 0.49728942 0.5126251\n",
            " 0.5465281  0.53605884 0.5332056  0.5807487  0.51461965 0.44249356\n",
            " 0.58234584 0.5513713  0.4404855  0.5492006  0.47096273 0.3936515\n",
            " 0.42512673 0.5891346  0.569385   0.44626224 0.45750087], shape=(23,), dtype=float32)\n",
            ". Loss: 0.16209201514720917\n",
            "________\n",
            "\n",
            "Step:  12000\n",
            ". Vector:  tf.Tensor(\n",
            "[0.59950197 0.50376445 0.47210744 0.538426   0.57283473 0.4804455\n",
            " 0.516509   0.47355872 0.6073987  0.5737988  0.5723589  0.47990787\n",
            " 0.5198413  0.5289491  0.4987722  0.57507586 0.52887744 0.4802079\n",
            " 0.45847413 0.56861764 0.49423715 0.42827988 0.4932207 ], shape=(23,), dtype=float32)\n",
            ". Loss: 0.2450370341539383\n",
            "________\n",
            "\n"
          ],
          "name": "stdout"
        }
      ]
    },
    {
      "cell_type": "markdown",
      "metadata": {
        "id": "NBSV9K6pTv5G",
        "colab_type": "text"
      },
      "source": [
        "### Choose 5 smallest distances (5 other companies)"
      ]
    },
    {
      "cell_type": "code",
      "metadata": {
        "id": "qj-sBmf-tCkp",
        "colab_type": "code",
        "outputId": "3cb0f081-8a3b-4a33-b504-18ce067f79b5",
        "colab": {
          "base_uri": "https://localhost:8080/",
          "height": 105
        }
      },
      "source": [
        "top5_smallest_loss_step = sorted(loss_dict.items(), key= lambda item: item[1])[:5]\n",
        "top5_smallest_loss_step"
      ],
      "execution_count": 0,
      "outputs": [
        {
          "output_type": "execute_result",
          "data": {
            "text/plain": [
              "[(373, 1.074538e-07),\n",
              " (5650, 1.074538e-07),\n",
              " (9096, 1.074538e-07),\n",
              " (9579, 1.074538e-07),\n",
              " (1734, 0.068126455)]"
            ]
          },
          "metadata": {
            "tags": []
          },
          "execution_count": 58
        }
      ]
    },
    {
      "cell_type": "code",
      "metadata": {
        "id": "QpUZ-8n1UCjY",
        "colab_type": "code",
        "outputId": "b41b3852-3d51-4fdf-d293-18d83ebcc204",
        "colab": {
          "base_uri": "https://localhost:8080/",
          "height": 122
        }
      },
      "source": [
        "top5_23dim_vector = sorted(train_dict.items(), key= lambda item: item[1])[:5]\n",
        "top5_23dim_vector[0][0]\n",
        "\n",
        "    #convert Reference object to ndarray"
      ],
      "execution_count": 0,
      "outputs": [
        {
          "output_type": "execute_result",
          "data": {
            "text/plain": [
              "<Reference wrapping <tf.Tensor: id=870329, shape=(23,), dtype=float32, numpy=\n",
              "array([0.58664703, 0.5345533 , 0.5219954 , 0.473352  , 0.48925287,\n",
              "       0.44958842, 0.54683065, 0.5773044 , 0.53952235, 0.5658525 ,\n",
              "       0.55383265, 0.4812393 , 0.53506076, 0.5888219 , 0.47412458,\n",
              "       0.530871  , 0.46594116, 0.39890587, 0.48466036, 0.5873571 ,\n",
              "       0.58020765, 0.47325674, 0.5062909 ], dtype=float32)>>"
            ]
          },
          "metadata": {
            "tags": []
          },
          "execution_count": 106
        }
      ]
    },
    {
      "cell_type": "markdown",
      "metadata": {
        "id": "XoN0YP4IUDre",
        "colab_type": "text"
      },
      "source": [
        "### Decode 5 vectors to 69-dimensions vectors"
      ]
    },
    {
      "cell_type": "code",
      "metadata": {
        "id": "7RoXOoJ6Ufy1",
        "colab_type": "code",
        "colab": {}
      },
      "source": [
        ""
      ],
      "execution_count": 0,
      "outputs": []
    },
    {
      "cell_type": "markdown",
      "metadata": {
        "id": "r0HCUmiMUhbA",
        "colab_type": "text"
      },
      "source": [
        "### Find the information of Top 5"
      ]
    },
    {
      "cell_type": "code",
      "metadata": {
        "id": "p3Nd398hUqfU",
        "colab_type": "code",
        "colab": {}
      },
      "source": [
        ""
      ],
      "execution_count": 0,
      "outputs": []
    },
    {
      "cell_type": "markdown",
      "metadata": {
        "id": "TIQApN_Qxo2f",
        "colab_type": "text"
      },
      "source": [
        "## 2. Improve on the company encoder by using more features or use a different architecture to improve performance of the Top 5 similar company API."
      ]
    },
    {
      "cell_type": "code",
      "metadata": {
        "id": "oUamJZDpxnKw",
        "colab_type": "code",
        "colab": {}
      },
      "source": [
        ""
      ],
      "execution_count": 0,
      "outputs": []
    }
  ]
}